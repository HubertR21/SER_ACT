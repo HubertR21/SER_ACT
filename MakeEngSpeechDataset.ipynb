{
 "cells": [
  {
   "cell_type": "markdown",
   "id": "62324c04",
   "metadata": {},
   "source": [
    "# Make English Speech Dataset\n",
    "- Combining 7 English Speech Dataset\n",
    "- Dataset: CREMA-D, MELD, RAVDESS, SAVEE, TESS, ESD, JL-Corpus\n",
    "- Our team discarded MLEND, as it does not have short sentences as an input, but numbers"
   ]
  },
  {
   "cell_type": "markdown",
   "id": "ed70dbbc",
   "metadata": {},
   "source": [
    "## 0. Import Libraries"
   ]
  },
  {
   "cell_type": "code",
   "execution_count": 490,
   "id": "7a2c1ed4",
   "metadata": {
    "ExecuteTime": {
     "end_time": "2023-11-01T02:09:32.712372Z",
     "start_time": "2023-11-01T02:09:30.079134Z"
    }
   },
   "outputs": [],
   "source": [
    "import numpy as np\n",
    "import pandas as pd\n",
    "import matplotlib.pyplot as plt\n",
    "import seaborn as sns\n",
    "import plotnine as p9\n",
    "\n",
    "import os\n",
    "import glob\n",
    "import tqdm\n",
    "import warnings\n",
    "warnings.filterwarnings('ignore')"
   ]
  },
  {
   "cell_type": "code",
   "execution_count": 491,
   "id": "6eaac34f",
   "metadata": {
    "ExecuteTime": {
     "end_time": "2023-11-01T02:09:32.717287Z",
     "start_time": "2023-11-01T02:09:32.712372Z"
    }
   },
   "outputs": [
    {
     "name": "stdout",
     "output_type": "stream",
     "text": [
      "Numpy Version: 1.22.4\n",
      "Pandas Version: 2.1.4\n"
     ]
    }
   ],
   "source": [
    "print(\"Numpy Version:\", np.__version__)\n",
    "print(\"Pandas Version:\", pd.__version__)"
   ]
  },
  {
   "cell_type": "markdown",
   "id": "19dc495f",
   "metadata": {},
   "source": [
    "## 1. Load Dataset and Make Sub Dataframes\n",
    "### 1) CREMA-D\n",
    "> https://github.com/CheyneyComputerScience/CREMA-D\n",
    "\n",
    "- `VideoDemographics.csv` - a mapping of ActorID (the first 4 digits of each video file) to Age, Sex, Race, and Ethicity.\n",
    "```shell\n",
    "\"ActorID\" - the first 4 digits of the video/audio file that identifies the actor in the video.\n",
    "\"Age\" - the age in years of the actor at the time of the recording\n",
    "\"Sex\" - the binary sex that the actor identified\n",
    "\"Race\" - African American, Asian, Caucasian, or Unknown\n",
    "\"Ethnicity\" - Hispanic or Not Hispanic\n",
    "```\n",
    "- Actors spoke from a selection of 12 sentences (in parentheses is the three letter acronym used in the second part of the filename):\n",
    "```\n",
    "It's eleven o'clock (IEO).\n",
    "That is exactly what happened (TIE).\n",
    "I'm on my way to the meeting (IOM).\n",
    "I wonder what this is about (IWW).\n",
    "The airplane is almost full (TAI).\n",
    "Maybe tomorrow it will be cold (MTI).\n",
    "I would like a new alarm clock (IWL)\n",
    "I think I have a doctor's appointment (ITH).\n",
    "Don't forget a jacket (DFA).\n",
    "I think I've seen this before (ITS).\n",
    "The surface is slick (TSI).\n",
    "We'll stop in a couple of minutes (WSI).\n",
    "```\n",
    "- The sentences were presented using different emotion (in parentheses is the three letter code used in the third part of the filename):\n",
    "```\n",
    "Anger (ANG)\n",
    "Disgust (DIS)\n",
    "Fear (FEA)\n",
    "Happy/Joy (HAP)\n",
    "Neutral (NEU)\n",
    "Sad (SAD)\n",
    "```\n",
    "- Emotion level (in parentheses is the two letter code used in the fourth part of the filename):\n",
    "```\n",
    "Low (LO)\n",
    "Medium (MD)\n",
    "High (HI)\n",
    "Unspecified (XX)\n",
    "```"
   ]
  },
  {
   "cell_type": "code",
   "execution_count": 492,
   "id": "6ccd81fb",
   "metadata": {
    "ExecuteTime": {
     "end_time": "2023-11-01T02:11:01.898213Z",
     "start_time": "2023-11-01T02:11:01.856966Z"
    }
   },
   "outputs": [
    {
     "name": "stdout",
     "output_type": "stream",
     "text": [
      "['1001_DFA_ANG_XX.wav', '1001_DFA_DIS_XX.wav', '1001_DFA_FEA_XX.wav', '1001_DFA_HAP_XX.wav', '1001_DFA_NEU_XX.wav']\n"
     ]
    }
   ],
   "source": [
    "crema_dir = './dataset/crema-d'\n",
    "crema_filepath = glob.glob(os.path.join(crema_dir, \"AudioWAV\", \"*.wav\"))\n",
    "crema_filename = os.listdir(os.path.join(crema_dir, \"AudioWAV\"))\n",
    "\n",
    "print(crema_filename[:5])"
   ]
  },
  {
   "cell_type": "code",
   "execution_count": 493,
   "id": "5308d60d",
   "metadata": {
    "ExecuteTime": {
     "end_time": "2023-11-01T02:11:02.062894Z",
     "start_time": "2023-11-01T02:11:02.048320Z"
    }
   },
   "outputs": [
    {
     "name": "stdout",
     "output_type": "stream",
     "text": [
      "The Number of CREMA-D Dataset: 7442\n"
     ]
    }
   ],
   "source": [
    "crema_count = len(crema_filename)\n",
    "print(\"The Number of CREMA-D Dataset:\", crema_count)"
   ]
  },
  {
   "cell_type": "code",
   "execution_count": 494,
   "id": "409e1297",
   "metadata": {
    "ExecuteTime": {
     "end_time": "2023-11-01T02:11:02.735287Z",
     "start_time": "2023-11-01T02:11:02.213410Z"
    },
    "scrolled": true
   },
   "outputs": [
    {
     "name": "stdout",
     "output_type": "stream",
     "text": [
      "./dataset/crema-d\\SentenceFilenames.csv\n",
      "   Stimulus_Number         Filename\n",
      "0                1  1001_IEO_NEU_XX\n",
      "1                2  1001_IEO_HAP_LO\n",
      "2                3  1001_IEO_HAP_MD\n",
      "3                4  1001_IEO_HAP_HI\n",
      "4                5  1001_IEO_SAD_LO\n",
      "----------------------------------------------------------------------------------------------------\n",
      "./dataset/crema-d\\VideoDemographics.csv\n",
      "   ActorID  Age     Sex              Race     Ethnicity\n",
      "0     1001   51    Male         Caucasian  Not Hispanic\n",
      "1     1002   21  Female         Caucasian  Not Hispanic\n",
      "2     1003   21  Female         Caucasian  Not Hispanic\n",
      "3     1004   42  Female         Caucasian  Not Hispanic\n",
      "4     1005   29    Male  African American  Not Hispanic\n",
      "----------------------------------------------------------------------------------------------------\n",
      "./dataset/crema-d\\processedResults\\summaryTable.csv\n",
      "   Unnamed: 0         FileName VoiceVote VoiceLevel FaceVote FaceLevel  \\\n",
      "0           1  1001_IEO_NEU_XX         N       69.1        N     92.22   \n",
      "1           2  1001_IEO_HAP_LO         N      71.67        H        57   \n",
      "2           3  1001_IEO_HAP_MD         N      67.71        H     62.62   \n",
      "3           4  1001_IEO_HAP_HI         H       63.5        H     68.25   \n",
      "4           5  1001_IEO_SAD_LO         N      73.71        N      73.5   \n",
      "\n",
      "  MultiModalVote MultiModalLevel  \n",
      "0              N           64.78  \n",
      "1              H           57.38  \n",
      "2              H           56.56  \n",
      "3              H            73.2  \n",
      "4              N            74.8  \n",
      "----------------------------------------------------------------------------------------------------\n",
      "./dataset/crema-d\\processedResults\\tabulatedVotes.csv\n",
      "   Unnamed: 0  A  D  F  H   N  S         fileName  numResponses  agreement  \\\n",
      "0      100001  0  0  0  1  10  0  1001_IEO_NEU_XX            11   0.909091   \n",
      "1      100002  0  0  0  3   6  0  1001_IEO_HAP_LO             9   0.666667   \n",
      "2      100003  0  0  0  4   7  0  1001_IEO_HAP_MD            11   0.636364   \n",
      "3      100004  2  0  0  6   2  0  1001_IEO_HAP_HI            10   0.600000   \n",
      "4      100005  1  1  0  0   7  1  1001_IEO_SAD_LO            10   0.700000   \n",
      "\n",
      "   ... meanSadResp  medianEmoResp  meanEmoRespNorm  meanAngerRespNorm  \\\n",
      "0  ...        -1.0           87.0        66.171320          -1.000000   \n",
      "1  ...        -1.0           72.0        53.816160          -1.000000   \n",
      "2  ...        -1.0           60.0        61.874713          -1.000000   \n",
      "3  ...        -1.0           69.5        52.927309          84.420185   \n",
      "4  ...         6.0           80.0        59.486728          12.941176   \n",
      "\n",
      "   meanDisgustRespNorm  meanFearRespNorm  meanHappyRespNorm  \\\n",
      "0            -1.000000              -1.0          97.894737   \n",
      "1            -1.000000              -1.0          36.292735   \n",
      "2            -1.000000              -1.0          55.165230   \n",
      "3            -1.000000              -1.0          56.542708   \n",
      "4            94.936709              -1.0          -1.000000   \n",
      "\n",
      "   meanNeutralRespNorm  meanSadRespNorm  medianEmoRespNorm  \n",
      "0            62.998978           -1.000          83.333333  \n",
      "1            62.577873           -1.000          53.846154  \n",
      "2            65.708703           -1.000          61.111111  \n",
      "3            10.588235           -1.000          66.308140  \n",
      "4            69.123485            3.125          75.182073  \n",
      "\n",
      "[5 rows x 27 columns]\n",
      "----------------------------------------------------------------------------------------------------\n"
     ]
    }
   ],
   "source": [
    "# CSV metadata load\n",
    "meta_data_list = glob.glob(os.path.join(crema_dir, '*.csv')) + glob.glob(os.path.join(crema_dir, 'processedResults', '*.csv'))\n",
    "\n",
    "for csv in meta_data_list:\n",
    "    csv_file = pd.read_csv(csv, low_memory=False)\n",
    "    print(csv)\n",
    "    print(csv_file.head())\n",
    "    print(\"-\"*100)"
   ]
  },
  {
   "cell_type": "code",
   "execution_count": 495,
   "id": "c2201aca",
   "metadata": {
    "ExecuteTime": {
     "end_time": "2023-11-01T02:11:02.748495Z",
     "start_time": "2023-11-01T02:11:02.736846Z"
    }
   },
   "outputs": [],
   "source": [
    "feature_list = []\n",
    "for fn in crema_filename:\n",
    "    feature_list.append(fn.split(\".wav\")[0].split(\"_\"))"
   ]
  },
  {
   "cell_type": "code",
   "execution_count": 496,
   "id": "0771d397",
   "metadata": {
    "ExecuteTime": {
     "end_time": "2023-11-01T02:11:02.981190Z",
     "start_time": "2023-11-01T02:11:02.965264Z"
    }
   },
   "outputs": [
    {
     "name": "stdout",
     "output_type": "stream",
     "text": [
      "(7442, 4)\n",
      "[['1001', 'DFA', 'ANG', 'XX'], ['1001', 'DFA', 'DIS', 'XX'], ['1001', 'DFA', 'FEA', 'XX'], ['1001', 'DFA', 'HAP', 'XX'], ['1001', 'DFA', 'NEU', 'XX'], ['1001', 'DFA', 'SAD', 'XX'], ['1001', 'IEO', 'ANG', 'HI'], ['1001', 'IEO', 'ANG', 'LO'], ['1001', 'IEO', 'ANG', 'MD'], ['1001', 'IEO', 'DIS', 'HI']]\n"
     ]
    }
   ],
   "source": [
    "print(np.shape(feature_list))\n",
    "print(feature_list[:10])"
   ]
  },
  {
   "cell_type": "code",
   "execution_count": 497,
   "id": "a75c090c",
   "metadata": {
    "ExecuteTime": {
     "end_time": "2023-11-01T02:11:03.445815Z",
     "start_time": "2023-11-01T02:11:03.428548Z"
    }
   },
   "outputs": [],
   "source": [
    "crema_ext = [os.path.splitext(fn)[-1] for fn in crema_filename]\n",
    "crema_speaker = [\"Crema_\"+str(f[0]) for f in feature_list]"
   ]
  },
  {
   "cell_type": "code",
   "execution_count": 498,
   "id": "48c757fa",
   "metadata": {
    "ExecuteTime": {
     "end_time": "2023-11-01T02:11:04.728391Z",
     "start_time": "2023-11-01T02:11:03.730137Z"
    }
   },
   "outputs": [],
   "source": [
    "crema_sub_df = pd.read_csv(os.path.join(crema_dir, \"VideoDemographics.csv\"))\n",
    "\n",
    "crema_age = []\n",
    "crema_gender = []\n",
    "crema_race = []\n",
    "crema_accent = []\n",
    "for f in feature_list:\n",
    "    row = crema_sub_df['ActorID'] == int(f[0])\n",
    "    \n",
    "    crema_age.append(crema_sub_df['Age'][row].values[0])\n",
    "    crema_gender.append(crema_sub_df['Sex'][row].values[0])\n",
    "    crema_race.append(crema_sub_df['Race'][row].values[0])\n",
    "    crema_accent.append(crema_sub_df['Ethnicity'][row].values[0])"
   ]
  },
  {
   "cell_type": "code",
   "execution_count": 499,
   "id": "853dad7c",
   "metadata": {
    "ExecuteTime": {
     "end_time": "2023-11-01T02:11:04.747108Z",
     "start_time": "2023-11-01T02:11:04.728391Z"
    }
   },
   "outputs": [],
   "source": [
    "crema_text_list = {\"IEO\":\"It's eleven o'clock\", \"TIE\":\"That is exactly what happened\", \"IOM\":\"I'm on my way to the meeting\",\n",
    "                  \"IWW\":\"I wonder what this is about\", \"TAI\":\"The airplane is almost full\", \"MTI\":\"Maybe tomorrow it will be cold\",\n",
    "                  \"IWL\":\"I would like a new alarm clock\", \"ITH\":\"I think I have a doctor's appointment\",\n",
    "                  \"DFA\":\"Don't forget a jacket\", \"ITS\":\"I think I've seen this before\", \"TSI\":\"The surface is slick\",\n",
    "                  \"WSI\":\"We'll stop in a couple of minutes\"}\n",
    "crema_text = [crema_text_list[f[1]] for f in feature_list]\n",
    "\n",
    "crema_emotion_list = {\"ANG\":\"Anger\", \"DIS\":\"Disgust\", \"FEA\":\"Fear\", \"HAP\":\"Happy\", \"NEU\":\"Neutral\", \"SAD\":\"Sad\"}\n",
    "crema_emotion = [crema_emotion_list[f[2]] for f in feature_list]\n",
    "\n",
    "crema_level_list = {\"LO\":\"Low\", \"MD\":\"Medium\", \"HI\":\"High\", \"XX\":\"Unspecified\"}\n",
    "crema_level = [crema_level_list[f[3]] for f in feature_list]"
   ]
  },
  {
   "cell_type": "code",
   "execution_count": 500,
   "id": "970997ff",
   "metadata": {
    "ExecuteTime": {
     "end_time": "2023-11-01T02:36:48.157331Z",
     "start_time": "2023-11-01T02:36:48.151673Z"
    }
   },
   "outputs": [],
   "source": [
    "crema_df = pd.DataFrame(index = range(0, crema_count), \n",
    "                  columns = ['Id', 'Dataset', 'Filepath', 'Filename', 'Ext', 'Speaker', 'Text', \n",
    "                             'Gender', 'Age', 'Race', 'Accent', 'Intensity/Level', 'Sentiment', 'Emotion'])"
   ]
  },
  {
   "cell_type": "code",
   "execution_count": 501,
   "id": "e222d379",
   "metadata": {
    "ExecuteTime": {
     "end_time": "2023-11-01T02:36:48.392707Z",
     "start_time": "2023-11-01T02:36:48.361356Z"
    }
   },
   "outputs": [],
   "source": [
    "crema_df['Dataset'] = ['CREMA-D'] * crema_count\n",
    "crema_df['Filepath'] = crema_filepath\n",
    "crema_df['Filename'] = crema_filename\n",
    "crema_df['Ext'] = crema_ext\n",
    "crema_df['Speaker'] = crema_speaker\n",
    "crema_df['Text'] = crema_text\n",
    "crema_df['Gender'] = crema_gender\n",
    "crema_df['Age'] = crema_age\n",
    "crema_df['Race'] = crema_race\n",
    "crema_df['Accent'] = crema_accent\n",
    "crema_df['Intensity/Level'] = crema_level\n",
    "crema_df['Emotion'] = crema_emotion"
   ]
  },
  {
   "cell_type": "code",
   "execution_count": 502,
   "id": "37c72f6e",
   "metadata": {
    "ExecuteTime": {
     "end_time": "2023-11-01T02:36:48.592881Z",
     "start_time": "2023-11-01T02:36:48.577806Z"
    }
   },
   "outputs": [
    {
     "data": {
      "text/html": [
       "<div>\n",
       "<style scoped>\n",
       "    .dataframe tbody tr th:only-of-type {\n",
       "        vertical-align: middle;\n",
       "    }\n",
       "\n",
       "    .dataframe tbody tr th {\n",
       "        vertical-align: top;\n",
       "    }\n",
       "\n",
       "    .dataframe thead th {\n",
       "        text-align: right;\n",
       "    }\n",
       "</style>\n",
       "<table border=\"1\" class=\"dataframe\">\n",
       "  <thead>\n",
       "    <tr style=\"text-align: right;\">\n",
       "      <th></th>\n",
       "      <th>Id</th>\n",
       "      <th>Dataset</th>\n",
       "      <th>Filepath</th>\n",
       "      <th>Filename</th>\n",
       "      <th>Ext</th>\n",
       "      <th>Speaker</th>\n",
       "      <th>Text</th>\n",
       "      <th>Gender</th>\n",
       "      <th>Age</th>\n",
       "      <th>Race</th>\n",
       "      <th>Accent</th>\n",
       "      <th>Intensity/Level</th>\n",
       "      <th>Sentiment</th>\n",
       "      <th>Emotion</th>\n",
       "    </tr>\n",
       "  </thead>\n",
       "  <tbody>\n",
       "    <tr>\n",
       "      <th>0</th>\n",
       "      <td>NaN</td>\n",
       "      <td>CREMA-D</td>\n",
       "      <td>./dataset/crema-d\\AudioWAV\\1001_DFA_ANG_XX.wav</td>\n",
       "      <td>1001_DFA_ANG_XX.wav</td>\n",
       "      <td>.wav</td>\n",
       "      <td>Crema_1001</td>\n",
       "      <td>Don't forget a jacket</td>\n",
       "      <td>Male</td>\n",
       "      <td>51</td>\n",
       "      <td>Caucasian</td>\n",
       "      <td>Not Hispanic</td>\n",
       "      <td>Unspecified</td>\n",
       "      <td>NaN</td>\n",
       "      <td>Anger</td>\n",
       "    </tr>\n",
       "    <tr>\n",
       "      <th>1</th>\n",
       "      <td>NaN</td>\n",
       "      <td>CREMA-D</td>\n",
       "      <td>./dataset/crema-d\\AudioWAV\\1001_DFA_DIS_XX.wav</td>\n",
       "      <td>1001_DFA_DIS_XX.wav</td>\n",
       "      <td>.wav</td>\n",
       "      <td>Crema_1001</td>\n",
       "      <td>Don't forget a jacket</td>\n",
       "      <td>Male</td>\n",
       "      <td>51</td>\n",
       "      <td>Caucasian</td>\n",
       "      <td>Not Hispanic</td>\n",
       "      <td>Unspecified</td>\n",
       "      <td>NaN</td>\n",
       "      <td>Disgust</td>\n",
       "    </tr>\n",
       "    <tr>\n",
       "      <th>2</th>\n",
       "      <td>NaN</td>\n",
       "      <td>CREMA-D</td>\n",
       "      <td>./dataset/crema-d\\AudioWAV\\1001_DFA_FEA_XX.wav</td>\n",
       "      <td>1001_DFA_FEA_XX.wav</td>\n",
       "      <td>.wav</td>\n",
       "      <td>Crema_1001</td>\n",
       "      <td>Don't forget a jacket</td>\n",
       "      <td>Male</td>\n",
       "      <td>51</td>\n",
       "      <td>Caucasian</td>\n",
       "      <td>Not Hispanic</td>\n",
       "      <td>Unspecified</td>\n",
       "      <td>NaN</td>\n",
       "      <td>Fear</td>\n",
       "    </tr>\n",
       "    <tr>\n",
       "      <th>3</th>\n",
       "      <td>NaN</td>\n",
       "      <td>CREMA-D</td>\n",
       "      <td>./dataset/crema-d\\AudioWAV\\1001_DFA_HAP_XX.wav</td>\n",
       "      <td>1001_DFA_HAP_XX.wav</td>\n",
       "      <td>.wav</td>\n",
       "      <td>Crema_1001</td>\n",
       "      <td>Don't forget a jacket</td>\n",
       "      <td>Male</td>\n",
       "      <td>51</td>\n",
       "      <td>Caucasian</td>\n",
       "      <td>Not Hispanic</td>\n",
       "      <td>Unspecified</td>\n",
       "      <td>NaN</td>\n",
       "      <td>Happy</td>\n",
       "    </tr>\n",
       "    <tr>\n",
       "      <th>4</th>\n",
       "      <td>NaN</td>\n",
       "      <td>CREMA-D</td>\n",
       "      <td>./dataset/crema-d\\AudioWAV\\1001_DFA_NEU_XX.wav</td>\n",
       "      <td>1001_DFA_NEU_XX.wav</td>\n",
       "      <td>.wav</td>\n",
       "      <td>Crema_1001</td>\n",
       "      <td>Don't forget a jacket</td>\n",
       "      <td>Male</td>\n",
       "      <td>51</td>\n",
       "      <td>Caucasian</td>\n",
       "      <td>Not Hispanic</td>\n",
       "      <td>Unspecified</td>\n",
       "      <td>NaN</td>\n",
       "      <td>Neutral</td>\n",
       "    </tr>\n",
       "  </tbody>\n",
       "</table>\n",
       "</div>"
      ],
      "text/plain": [
       "    Id  Dataset                                        Filepath  \\\n",
       "0  NaN  CREMA-D  ./dataset/crema-d\\AudioWAV\\1001_DFA_ANG_XX.wav   \n",
       "1  NaN  CREMA-D  ./dataset/crema-d\\AudioWAV\\1001_DFA_DIS_XX.wav   \n",
       "2  NaN  CREMA-D  ./dataset/crema-d\\AudioWAV\\1001_DFA_FEA_XX.wav   \n",
       "3  NaN  CREMA-D  ./dataset/crema-d\\AudioWAV\\1001_DFA_HAP_XX.wav   \n",
       "4  NaN  CREMA-D  ./dataset/crema-d\\AudioWAV\\1001_DFA_NEU_XX.wav   \n",
       "\n",
       "              Filename   Ext     Speaker                   Text Gender  Age  \\\n",
       "0  1001_DFA_ANG_XX.wav  .wav  Crema_1001  Don't forget a jacket   Male   51   \n",
       "1  1001_DFA_DIS_XX.wav  .wav  Crema_1001  Don't forget a jacket   Male   51   \n",
       "2  1001_DFA_FEA_XX.wav  .wav  Crema_1001  Don't forget a jacket   Male   51   \n",
       "3  1001_DFA_HAP_XX.wav  .wav  Crema_1001  Don't forget a jacket   Male   51   \n",
       "4  1001_DFA_NEU_XX.wav  .wav  Crema_1001  Don't forget a jacket   Male   51   \n",
       "\n",
       "        Race        Accent Intensity/Level Sentiment  Emotion  \n",
       "0  Caucasian  Not Hispanic     Unspecified       NaN    Anger  \n",
       "1  Caucasian  Not Hispanic     Unspecified       NaN  Disgust  \n",
       "2  Caucasian  Not Hispanic     Unspecified       NaN     Fear  \n",
       "3  Caucasian  Not Hispanic     Unspecified       NaN    Happy  \n",
       "4  Caucasian  Not Hispanic     Unspecified       NaN  Neutral  "
      ]
     },
     "execution_count": 502,
     "metadata": {},
     "output_type": "execute_result"
    }
   ],
   "source": [
    "crema_df.head()"
   ]
  },
  {
   "cell_type": "code",
   "execution_count": 503,
   "id": "82c8a320",
   "metadata": {},
   "outputs": [
    {
     "name": "stdout",
     "output_type": "stream",
     "text": [
      "Gender\n",
      "Male      3930\n",
      "Female    3512\n",
      "Name: count, dtype: int64\n"
     ]
    }
   ],
   "source": [
    "print(crema_df['Gender'].value_counts())"
   ]
  },
  {
   "cell_type": "code",
   "execution_count": 504,
   "id": "355eaa3d",
   "metadata": {},
   "outputs": [
    {
     "name": "stdout",
     "output_type": "stream",
     "text": [
      "Intensity/Level\n",
      "Unspecified    6077\n",
      "High            455\n",
      "Low             455\n",
      "Medium          455\n",
      "Name: count, dtype: int64\n"
     ]
    }
   ],
   "source": [
    "print(crema_df['Intensity/Level'].value_counts())"
   ]
  },
  {
   "cell_type": "markdown",
   "id": "ba15aaea",
   "metadata": {},
   "source": [
    "### 2) MELD\n",
    "> https://affective-meld.github.io/\n",
    "- There are `train`, `test` and `dev` data in MELD dataset\n",
    "- We only use `train`.\n",
    "\n",
    "- `train_sent_emo.csv`, `test_sent_emo.csv`\n",
    "```shell\n",
    "\"Sr No.\"\tSerial numbers of the utterances mainly for referencing the utterances in case of different versions or multiple copies with different subsets\n",
    "\"Utterance\"\tIndividual utterances from EmotionLines as a string.\n",
    "\"Speaker\"\tName of the speaker associated with the utterance.\n",
    "\"Emotion\"\tThe emotion (neutral, joy, sadness, anger, surprise, fear, disgust) expressed by the speaker in the utterance.\n",
    "\"Sentiment\"\tThe sentiment (positive, neutral, negative) expressed by the speaker in the utterance.\n",
    "\"Dialogue_ID\"\tThe index of the dialogue starting from 0.\n",
    "\"Utterance_ID\"\tThe index of the particular utterance in the dialogue starting from 0.\n",
    "\"Season\"\tThe season no. of Friends TV Show to which a particular utterance belongs.\n",
    "\"Episode\"\tThe episode no. of Friends TV Show in a particular season to which the utterance belongs.\n",
    "\"StartTime\"\tThe starting time of the utterance in the given episode in the format 'hh:mm:ss,ms'.\n",
    "\"EndTime\"\tThe ending time of the utterance in the given episode in the format 'hh:mm:ss,ms'.\n",
    "```"
   ]
  },
  {
   "cell_type": "code",
   "execution_count": 505,
   "id": "2a62d5ae",
   "metadata": {
    "ExecuteTime": {
     "end_time": "2023-11-01T02:36:51.623636Z",
     "start_time": "2023-11-01T02:36:51.575578Z"
    }
   },
   "outputs": [
    {
     "name": "stdout",
     "output_type": "stream",
     "text": [
      "['dia0_utt0.mp4', 'dia0_utt1.mp4', 'dia0_utt10.mp4', 'dia0_utt11.mp4', 'dia0_utt12.mp4']\n"
     ]
    }
   ],
   "source": [
    "meld_dir = './dataset/meld'\n",
    "\n",
    "meld_filepath = glob.glob(os.path.join(meld_dir, \"train\", \"*.mp4\"))\n",
    "meld_filename = os.listdir(os.path.join(meld_dir, \"train\"))\n",
    "\n",
    "print(meld_filename[:5])"
   ]
  },
  {
   "cell_type": "code",
   "execution_count": 506,
   "id": "163b45a5",
   "metadata": {
    "ExecuteTime": {
     "end_time": "2023-11-01T02:36:51.760397Z",
     "start_time": "2023-11-01T02:36:51.728150Z"
    }
   },
   "outputs": [
    {
     "data": {
      "text/html": [
       "<div>\n",
       "<style scoped>\n",
       "    .dataframe tbody tr th:only-of-type {\n",
       "        vertical-align: middle;\n",
       "    }\n",
       "\n",
       "    .dataframe tbody tr th {\n",
       "        vertical-align: top;\n",
       "    }\n",
       "\n",
       "    .dataframe thead th {\n",
       "        text-align: right;\n",
       "    }\n",
       "</style>\n",
       "<table border=\"1\" class=\"dataframe\">\n",
       "  <thead>\n",
       "    <tr style=\"text-align: right;\">\n",
       "      <th></th>\n",
       "      <th>Sr No.</th>\n",
       "      <th>Utterance</th>\n",
       "      <th>Speaker</th>\n",
       "      <th>Emotion</th>\n",
       "      <th>Sentiment</th>\n",
       "      <th>Dialogue_ID</th>\n",
       "      <th>Utterance_ID</th>\n",
       "      <th>Season</th>\n",
       "      <th>Episode</th>\n",
       "      <th>StartTime</th>\n",
       "      <th>EndTime</th>\n",
       "    </tr>\n",
       "  </thead>\n",
       "  <tbody>\n",
       "    <tr>\n",
       "      <th>0</th>\n",
       "      <td>1</td>\n",
       "      <td>also I was the point person on my companys tr...</td>\n",
       "      <td>Chandler</td>\n",
       "      <td>neutral</td>\n",
       "      <td>neutral</td>\n",
       "      <td>0</td>\n",
       "      <td>0</td>\n",
       "      <td>8</td>\n",
       "      <td>21</td>\n",
       "      <td>00:16:16,059</td>\n",
       "      <td>00:16:21,731</td>\n",
       "    </tr>\n",
       "    <tr>\n",
       "      <th>1</th>\n",
       "      <td>2</td>\n",
       "      <td>You mustve had your hands full.</td>\n",
       "      <td>The Interviewer</td>\n",
       "      <td>neutral</td>\n",
       "      <td>neutral</td>\n",
       "      <td>0</td>\n",
       "      <td>1</td>\n",
       "      <td>8</td>\n",
       "      <td>21</td>\n",
       "      <td>00:16:21,940</td>\n",
       "      <td>00:16:23,442</td>\n",
       "    </tr>\n",
       "    <tr>\n",
       "      <th>2</th>\n",
       "      <td>3</td>\n",
       "      <td>That I did. That I did.</td>\n",
       "      <td>Chandler</td>\n",
       "      <td>neutral</td>\n",
       "      <td>neutral</td>\n",
       "      <td>0</td>\n",
       "      <td>2</td>\n",
       "      <td>8</td>\n",
       "      <td>21</td>\n",
       "      <td>00:16:23,442</td>\n",
       "      <td>00:16:26,389</td>\n",
       "    </tr>\n",
       "    <tr>\n",
       "      <th>3</th>\n",
       "      <td>4</td>\n",
       "      <td>So lets talk a little bit about your duties.</td>\n",
       "      <td>The Interviewer</td>\n",
       "      <td>neutral</td>\n",
       "      <td>neutral</td>\n",
       "      <td>0</td>\n",
       "      <td>3</td>\n",
       "      <td>8</td>\n",
       "      <td>21</td>\n",
       "      <td>00:16:26,820</td>\n",
       "      <td>00:16:29,572</td>\n",
       "    </tr>\n",
       "    <tr>\n",
       "      <th>4</th>\n",
       "      <td>5</td>\n",
       "      <td>My duties?  All right.</td>\n",
       "      <td>Chandler</td>\n",
       "      <td>surprise</td>\n",
       "      <td>positive</td>\n",
       "      <td>0</td>\n",
       "      <td>4</td>\n",
       "      <td>8</td>\n",
       "      <td>21</td>\n",
       "      <td>00:16:34,452</td>\n",
       "      <td>00:16:40,917</td>\n",
       "    </tr>\n",
       "  </tbody>\n",
       "</table>\n",
       "</div>"
      ],
      "text/plain": [
       "   Sr No.                                          Utterance          Speaker  \\\n",
       "0       1  also I was the point person on my companys tr...         Chandler   \n",
       "1       2                   You mustve had your hands full.  The Interviewer   \n",
       "2       3                            That I did. That I did.         Chandler   \n",
       "3       4      So lets talk a little bit about your duties.  The Interviewer   \n",
       "4       5                             My duties?  All right.         Chandler   \n",
       "\n",
       "    Emotion Sentiment  Dialogue_ID  Utterance_ID  Season  Episode  \\\n",
       "0   neutral   neutral            0             0       8       21   \n",
       "1   neutral   neutral            0             1       8       21   \n",
       "2   neutral   neutral            0             2       8       21   \n",
       "3   neutral   neutral            0             3       8       21   \n",
       "4  surprise  positive            0             4       8       21   \n",
       "\n",
       "      StartTime       EndTime  \n",
       "0  00:16:16,059  00:16:21,731  \n",
       "1  00:16:21,940  00:16:23,442  \n",
       "2  00:16:23,442  00:16:26,389  \n",
       "3  00:16:26,820  00:16:29,572  \n",
       "4  00:16:34,452  00:16:40,917  "
      ]
     },
     "execution_count": 506,
     "metadata": {},
     "output_type": "execute_result"
    }
   ],
   "source": [
    "meld_sub_df = pd.read_csv(os.path.join(meld_dir, 'train_sent_emo.csv'))\n",
    "\n",
    "meld_sub_df.head()"
   ]
  },
  {
   "cell_type": "code",
   "execution_count": 507,
   "id": "6e17e4bf",
   "metadata": {},
   "outputs": [
    {
     "data": {
      "text/plain": [
       "Season\n",
       "3    1609\n",
       "1    1402\n",
       "7    1380\n",
       "6    1317\n",
       "5    1265\n",
       "4    1129\n",
       "8    1108\n",
       "9     490\n",
       "2     289\n",
       "Name: count, dtype: int64"
      ]
     },
     "execution_count": 507,
     "metadata": {},
     "output_type": "execute_result"
    }
   ],
   "source": [
    "meld_sub_df.Season.value_counts()"
   ]
  },
  {
   "cell_type": "code",
   "execution_count": 508,
   "id": "af2d7a3d",
   "metadata": {
    "ExecuteTime": {
     "end_time": "2023-11-01T02:36:55.113429Z",
     "start_time": "2023-11-01T02:36:53.064016Z"
    }
   },
   "outputs": [],
   "source": [
    "meld_text = []\n",
    "meld_speaker = []\n",
    "meld_emotion = []\n",
    "meld_sentiment = []\n",
    "meld_ext = []\n",
    "emotion_list = {\"anger\":\"Anger\", \"disgust\":\"Disgust\", \"fear\":\"Fear\", \"joy\":\"Happy\", \n",
    "                \"neutral\":\"Neutral\", \"sadness\":\"Sad\", \"surprise\":\"Surprise\"}\n",
    "for fn in meld_filename:\n",
    "    name, ext = os.path.splitext(fn)\n",
    "    dia, utt = name.split(\"_\")\n",
    "    dia = int(dia.replace(\"dia\", \"\"))\n",
    "    utt = int(utt.replace(\"utt\", \"\"))\n",
    "    \n",
    "    row = meld_sub_df[(meld_sub_df['Dialogue_ID']==dia) & (meld_sub_df['Utterance_ID']==utt)]\n",
    "    \n",
    "    emo = row['Emotion'].values[0]\n",
    "    meld_emotion.append(emotion_list[emo])\n",
    "    \n",
    "    meld_ext.append(ext)\n",
    "    meld_text.append(row['Utterance'].values[0]) \n",
    "    meld_speaker.append(\"Meld_\" + row['Speaker'].values[0])\n",
    "    meld_sentiment.append(row['Sentiment'].values[0])"
   ]
  },
  {
   "cell_type": "code",
   "execution_count": 509,
   "id": "a4358de3",
   "metadata": {
    "ExecuteTime": {
     "end_time": "2023-11-01T02:36:55.129429Z",
     "start_time": "2023-11-01T02:36:55.114512Z"
    }
   },
   "outputs": [
    {
     "name": "stdout",
     "output_type": "stream",
     "text": [
      "The Number of MELD Dataset: 9989\n"
     ]
    }
   ],
   "source": [
    "meld_count = len(meld_text)\n",
    "print(\"The Number of MELD Dataset:\", meld_count)"
   ]
  },
  {
   "cell_type": "code",
   "execution_count": 510,
   "id": "6e4c27f1",
   "metadata": {
    "ExecuteTime": {
     "end_time": "2023-11-01T02:36:56.076883Z",
     "start_time": "2023-11-01T02:36:56.071822Z"
    }
   },
   "outputs": [],
   "source": [
    "meld_df = pd.DataFrame(index = range(0, meld_count), \n",
    "                  columns = ['Id', 'Dataset', 'Filepath', 'Filename', 'Ext', 'Speaker', 'Text', \n",
    "                             'Gender', 'Age', 'Race', 'Accent', 'Intensity/Level', 'Sentiment', 'Emotion'])"
   ]
  },
  {
   "cell_type": "code",
   "execution_count": 511,
   "id": "573d1a50",
   "metadata": {
    "ExecuteTime": {
     "end_time": "2023-11-01T02:36:56.992838Z",
     "start_time": "2023-11-01T02:36:56.975663Z"
    }
   },
   "outputs": [],
   "source": [
    "meld_df['Dataset'] = [\"MELD\"] * meld_count\n",
    "meld_df['Filepath'] = meld_filepath\n",
    "meld_df['Filename'] = meld_filename\n",
    "meld_df['Ext'] = meld_ext\n",
    "meld_df['Speaker'] = meld_speaker\n",
    "meld_df['Text'] = meld_text\n",
    "meld_df['Sentiment'] = meld_sentiment\n",
    "meld_df['Emotion'] = meld_emotion"
   ]
  },
  {
   "cell_type": "code",
   "execution_count": 512,
   "id": "1106926c",
   "metadata": {},
   "outputs": [
    {
     "data": {
      "text/plain": [
       "Speaker\n",
       "Meld_Joey        1509\n",
       "Meld_Ross        1459\n",
       "Meld_Rachel      1435\n",
       "Meld_Phoebe      1321\n",
       "Meld_Monica      1299\n",
       "Meld_Chandler    1283\n",
       "Meld_Janice        58\n",
       "Meld_Carol         46\n",
       "Meld_Emily         43\n",
       "Meld_Tag           41\n",
       "Name: count, dtype: int64"
      ]
     },
     "execution_count": 512,
     "metadata": {},
     "output_type": "execute_result"
    }
   ],
   "source": [
    "meld_df['Speaker'].value_counts()[:10]"
   ]
  },
  {
   "cell_type": "markdown",
   "id": "ba232dd2",
   "metadata": {},
   "source": [
    "We impute the gender and age for main cast. Age is the mean age throughout all seasons."
   ]
  },
  {
   "cell_type": "code",
   "execution_count": 513,
   "id": "0630c9b9",
   "metadata": {},
   "outputs": [],
   "source": [
    "for i in range(len(meld_df)):\n",
    "    if meld_df.Speaker[i] in (['Meld_Joey', 'Meld_Ross', 'Meld_Chandler']):\n",
    "        meld_df['Gender'][i] = 'Male'\n",
    "        if meld_df.Speaker[i] == 'Meld_Joey':\n",
    "            meld_df['Age'][i] = 32\n",
    "        elif meld_df.Speaker[i] == 'Meld_Ross':\n",
    "            meld_df['Age'][i] = 32\n",
    "        elif meld_df.Speaker[i] == 'Meld_Chandler':\n",
    "            meld_df['Age'][i] = 29\n",
    "    if meld_df.Speaker[i]  in (['Meld_Monica', 'Meld_Phoebe', 'Meld_Rachel']):\n",
    "        meld_df['Gender'][i] = 'Female'\n",
    "        if meld_df.Speaker[i] == 'Meld_Monica':\n",
    "            meld_df['Age'][i] = 35\n",
    "        elif meld_df.Speaker[i] == 'Meld_Phoebe':\n",
    "            meld_df['Age'][i] = 36\n",
    "        elif meld_df.Speaker[i] == 'Meld_Rachel':\n",
    "            meld_df['Age'][i] = 30"
   ]
  },
  {
   "cell_type": "code",
   "execution_count": 514,
   "id": "b37d1ede",
   "metadata": {
    "ExecuteTime": {
     "end_time": "2023-11-01T02:36:57.218438Z",
     "start_time": "2023-11-01T02:36:57.196885Z"
    }
   },
   "outputs": [
    {
     "data": {
      "text/html": [
       "<div>\n",
       "<style scoped>\n",
       "    .dataframe tbody tr th:only-of-type {\n",
       "        vertical-align: middle;\n",
       "    }\n",
       "\n",
       "    .dataframe tbody tr th {\n",
       "        vertical-align: top;\n",
       "    }\n",
       "\n",
       "    .dataframe thead th {\n",
       "        text-align: right;\n",
       "    }\n",
       "</style>\n",
       "<table border=\"1\" class=\"dataframe\">\n",
       "  <thead>\n",
       "    <tr style=\"text-align: right;\">\n",
       "      <th></th>\n",
       "      <th>Id</th>\n",
       "      <th>Dataset</th>\n",
       "      <th>Filepath</th>\n",
       "      <th>Filename</th>\n",
       "      <th>Ext</th>\n",
       "      <th>Speaker</th>\n",
       "      <th>Text</th>\n",
       "      <th>Gender</th>\n",
       "      <th>Age</th>\n",
       "      <th>Race</th>\n",
       "      <th>Accent</th>\n",
       "      <th>Intensity/Level</th>\n",
       "      <th>Sentiment</th>\n",
       "      <th>Emotion</th>\n",
       "    </tr>\n",
       "  </thead>\n",
       "  <tbody>\n",
       "    <tr>\n",
       "      <th>0</th>\n",
       "      <td>NaN</td>\n",
       "      <td>MELD</td>\n",
       "      <td>./dataset/meld\\train\\dia0_utt0.mp4</td>\n",
       "      <td>dia0_utt0.mp4</td>\n",
       "      <td>.mp4</td>\n",
       "      <td>Meld_Chandler</td>\n",
       "      <td>also I was the point person on my companys tr...</td>\n",
       "      <td>Male</td>\n",
       "      <td>29</td>\n",
       "      <td>NaN</td>\n",
       "      <td>NaN</td>\n",
       "      <td>NaN</td>\n",
       "      <td>neutral</td>\n",
       "      <td>Neutral</td>\n",
       "    </tr>\n",
       "    <tr>\n",
       "      <th>1</th>\n",
       "      <td>NaN</td>\n",
       "      <td>MELD</td>\n",
       "      <td>./dataset/meld\\train\\dia0_utt1.mp4</td>\n",
       "      <td>dia0_utt1.mp4</td>\n",
       "      <td>.mp4</td>\n",
       "      <td>Meld_The Interviewer</td>\n",
       "      <td>You mustve had your hands full.</td>\n",
       "      <td>NaN</td>\n",
       "      <td>NaN</td>\n",
       "      <td>NaN</td>\n",
       "      <td>NaN</td>\n",
       "      <td>NaN</td>\n",
       "      <td>neutral</td>\n",
       "      <td>Neutral</td>\n",
       "    </tr>\n",
       "    <tr>\n",
       "      <th>2</th>\n",
       "      <td>NaN</td>\n",
       "      <td>MELD</td>\n",
       "      <td>./dataset/meld\\train\\dia0_utt10.mp4</td>\n",
       "      <td>dia0_utt10.mp4</td>\n",
       "      <td>.mp4</td>\n",
       "      <td>Meld_Chandler</td>\n",
       "      <td>No dont I beg of you!</td>\n",
       "      <td>Male</td>\n",
       "      <td>29</td>\n",
       "      <td>NaN</td>\n",
       "      <td>NaN</td>\n",
       "      <td>NaN</td>\n",
       "      <td>negative</td>\n",
       "      <td>Fear</td>\n",
       "    </tr>\n",
       "    <tr>\n",
       "      <th>3</th>\n",
       "      <td>NaN</td>\n",
       "      <td>MELD</td>\n",
       "      <td>./dataset/meld\\train\\dia0_utt11.mp4</td>\n",
       "      <td>dia0_utt11.mp4</td>\n",
       "      <td>.mp4</td>\n",
       "      <td>Meld_The Interviewer</td>\n",
       "      <td>All right then, well have a definite answer f...</td>\n",
       "      <td>NaN</td>\n",
       "      <td>NaN</td>\n",
       "      <td>NaN</td>\n",
       "      <td>NaN</td>\n",
       "      <td>NaN</td>\n",
       "      <td>neutral</td>\n",
       "      <td>Neutral</td>\n",
       "    </tr>\n",
       "    <tr>\n",
       "      <th>4</th>\n",
       "      <td>NaN</td>\n",
       "      <td>MELD</td>\n",
       "      <td>./dataset/meld\\train\\dia0_utt12.mp4</td>\n",
       "      <td>dia0_utt12.mp4</td>\n",
       "      <td>.mp4</td>\n",
       "      <td>Meld_Chandler</td>\n",
       "      <td>Really?!</td>\n",
       "      <td>Male</td>\n",
       "      <td>29</td>\n",
       "      <td>NaN</td>\n",
       "      <td>NaN</td>\n",
       "      <td>NaN</td>\n",
       "      <td>positive</td>\n",
       "      <td>Surprise</td>\n",
       "    </tr>\n",
       "  </tbody>\n",
       "</table>\n",
       "</div>"
      ],
      "text/plain": [
       "    Id Dataset                             Filepath        Filename   Ext  \\\n",
       "0  NaN    MELD   ./dataset/meld\\train\\dia0_utt0.mp4   dia0_utt0.mp4  .mp4   \n",
       "1  NaN    MELD   ./dataset/meld\\train\\dia0_utt1.mp4   dia0_utt1.mp4  .mp4   \n",
       "2  NaN    MELD  ./dataset/meld\\train\\dia0_utt10.mp4  dia0_utt10.mp4  .mp4   \n",
       "3  NaN    MELD  ./dataset/meld\\train\\dia0_utt11.mp4  dia0_utt11.mp4  .mp4   \n",
       "4  NaN    MELD  ./dataset/meld\\train\\dia0_utt12.mp4  dia0_utt12.mp4  .mp4   \n",
       "\n",
       "                Speaker                                               Text  \\\n",
       "0         Meld_Chandler  also I was the point person on my companys tr...   \n",
       "1  Meld_The Interviewer                   You mustve had your hands full.   \n",
       "2         Meld_Chandler                             No dont I beg of you!   \n",
       "3  Meld_The Interviewer  All right then, well have a definite answer f...   \n",
       "4         Meld_Chandler                                           Really?!   \n",
       "\n",
       "  Gender  Age Race Accent Intensity/Level Sentiment   Emotion  \n",
       "0   Male   29  NaN    NaN             NaN   neutral   Neutral  \n",
       "1    NaN  NaN  NaN    NaN             NaN   neutral   Neutral  \n",
       "2   Male   29  NaN    NaN             NaN  negative      Fear  \n",
       "3    NaN  NaN  NaN    NaN             NaN   neutral   Neutral  \n",
       "4   Male   29  NaN    NaN             NaN  positive  Surprise  "
      ]
     },
     "execution_count": 514,
     "metadata": {},
     "output_type": "execute_result"
    }
   ],
   "source": [
    "meld_df.head()"
   ]
  },
  {
   "cell_type": "markdown",
   "id": "626c421b",
   "metadata": {
    "ExecuteTime": {
     "end_time": "2023-10-30T00:41:33.040641Z",
     "start_time": "2023-10-30T00:41:33.024528Z"
    }
   },
   "source": [
    "### 3) MLEnd - not relatable as the text is just a single number\n",
    "> https://www.kaggle.com/datasets/jesusrequena/mlend-spoken-numerals\n",
    "- Speakers read one english word (zero to billion)."
   ]
  },
  {
   "cell_type": "code",
   "execution_count": 515,
   "id": "287f16ba",
   "metadata": {
    "ExecuteTime": {
     "end_time": "2023-11-01T02:36:58.833811Z",
     "start_time": "2023-11-01T02:36:58.739197Z"
    }
   },
   "outputs": [],
   "source": [
    "#mlend_dir = './dataset/mlend'\n",
    "\n",
    "#mlend_filepath = glob.glob(os.path.join(mlend_dir, 'MLEndSND_Public', \"*.wav\"))\n",
    "#mlend_filename = os.listdir(os.path.join(mlend_dir, 'MLEndSND_Public'))\n",
    "\n",
    "#print(mlend_filename[:5])"
   ]
  },
  {
   "cell_type": "code",
   "execution_count": 516,
   "id": "7852d819",
   "metadata": {
    "ExecuteTime": {
     "end_time": "2023-11-01T02:36:58.904314Z",
     "start_time": "2023-11-01T02:36:58.878215Z"
    }
   },
   "outputs": [
    {
     "data": {
      "text/plain": [
       "'for path in glob.glob(os.path.join(mlend_dir, \"*.csv\")):\\n    print(path)\\n    csv = pd.read_csv(path)\\n    print(csv.tail(), \"\\n\")'"
      ]
     },
     "execution_count": 516,
     "metadata": {},
     "output_type": "execute_result"
    }
   ],
   "source": [
    "\"\"\"for path in glob.glob(os.path.join(mlend_dir, \"*.csv\")):\n",
    "    print(path)\n",
    "    csv = pd.read_csv(path)\n",
    "    print(csv.tail(), \"\\n\")\"\"\""
   ]
  },
  {
   "cell_type": "code",
   "execution_count": 517,
   "id": "36a6b214",
   "metadata": {
    "ExecuteTime": {
     "end_time": "2023-11-01T02:36:59.070894Z",
     "start_time": "2023-11-01T02:36:59.047992Z"
    }
   },
   "outputs": [
    {
     "data": {
      "text/plain": [
       "'mlend_sub_df1 = pd.read_csv(\"./dataset/mlend\\\\MLEndSND_Audio_Attributes.csv\")\\nmlend_sub_df1.head()'"
      ]
     },
     "execution_count": 517,
     "metadata": {},
     "output_type": "execute_result"
    }
   ],
   "source": [
    "\"\"\"mlend_sub_df1 = pd.read_csv(\"./dataset/mlend\\MLEndSND_Audio_Attributes.csv\")\n",
    "mlend_sub_df1.head()\"\"\""
   ]
  },
  {
   "cell_type": "code",
   "execution_count": 518,
   "id": "d9f2961c",
   "metadata": {
    "ExecuteTime": {
     "end_time": "2023-11-01T02:36:59.390656Z",
     "start_time": "2023-11-01T02:36:59.361188Z"
    }
   },
   "outputs": [
    {
     "data": {
      "text/plain": [
       "'mlend_sub_df2 = pd.read_csv(\"./dataset/mlend\\\\MLEndSND_Speakers_Demographics.csv\")\\nmlend_sub_df2.head()'"
      ]
     },
     "execution_count": 518,
     "metadata": {},
     "output_type": "execute_result"
    }
   ],
   "source": [
    "\"\"\"mlend_sub_df2 = pd.read_csv(\"./dataset/mlend\\MLEndSND_Speakers_Demographics.csv\")\n",
    "mlend_sub_df2.head()\"\"\""
   ]
  },
  {
   "cell_type": "code",
   "execution_count": 519,
   "id": "eb16d6a3",
   "metadata": {
    "ExecuteTime": {
     "end_time": "2023-11-01T02:37:00.026802Z",
     "start_time": "2023-11-01T02:37:00.016054Z"
    }
   },
   "outputs": [
    {
     "data": {
      "text/plain": [
       "'mlend_count = len(mlend_filename)\\nprint(\"The Number of MLEND Dataset:\", mlend_count)'"
      ]
     },
     "execution_count": 519,
     "metadata": {},
     "output_type": "execute_result"
    }
   ],
   "source": [
    "\"\"\"mlend_count = len(mlend_filename)\n",
    "print(\"The Number of MLEND Dataset:\", mlend_count)\"\"\""
   ]
  },
  {
   "cell_type": "code",
   "execution_count": 520,
   "id": "9bd66ca7",
   "metadata": {
    "ExecuteTime": {
     "end_time": "2023-11-01T02:37:05.639683Z",
     "start_time": "2023-11-01T02:37:01.061002Z"
    }
   },
   "outputs": [
    {
     "data": {
      "text/plain": [
       "'mlend_speaker = []\\nmlend_accent = []\\nmlend_emotion = []\\nmlend_text = []\\nmlend_ext = []\\nemotion_list = {\"excited\":\"Happy\", \"neutral\":\"Neutral\", \"bored\":\"Bored\", \"question\":\"Question\"}\\nfor i in range(mlend_count):\\n    _, ext = os.path.splitext(mlend_filename[i])\\n    speaker_num = mlend_sub_df1.iloc[i][\"Speaker\"]\\n    speaker = \"Mlend_\" + str(speaker_num)\\n    \\n    \\n    accent = mlend_sub_df2[\"Nationality\"][mlend_sub_df2[\"Speaker\"] == speaker_num].values[0]\\n    \\n    emotion = mlend_sub_df1.iloc[i][\"Intonation\"]\\n    emotion = emotion_list[emotion]\\n    text = str(mlend_sub_df1.iloc[i][\"Numeral\"])\\n    \\n    mlend_speaker.append(speaker)\\n    mlend_accent.append(accent)\\n    mlend_emotion.append(emotion)\\n    mlend_text.append(text)\\n    mlend_ext.append(ext)'"
      ]
     },
     "execution_count": 520,
     "metadata": {},
     "output_type": "execute_result"
    }
   ],
   "source": [
    "\"\"\"mlend_speaker = []\n",
    "mlend_accent = []\n",
    "mlend_emotion = []\n",
    "mlend_text = []\n",
    "mlend_ext = []\n",
    "emotion_list = {\"excited\":\"Happy\", \"neutral\":\"Neutral\", \"bored\":\"Bored\", \"question\":\"Question\"}\n",
    "for i in range(mlend_count):\n",
    "    _, ext = os.path.splitext(mlend_filename[i])\n",
    "    speaker_num = mlend_sub_df1.iloc[i][\"Speaker\"]\n",
    "    speaker = \"Mlend_\" + str(speaker_num)\n",
    "    \n",
    "    \n",
    "    accent = mlend_sub_df2[\"Nationality\"][mlend_sub_df2[\"Speaker\"] == speaker_num].values[0]\n",
    "    \n",
    "    emotion = mlend_sub_df1.iloc[i][\"Intonation\"]\n",
    "    emotion = emotion_list[emotion]\n",
    "    text = str(mlend_sub_df1.iloc[i][\"Numeral\"])\n",
    "    \n",
    "    mlend_speaker.append(speaker)\n",
    "    mlend_accent.append(accent)\n",
    "    mlend_emotion.append(emotion)\n",
    "    mlend_text.append(text)\n",
    "    mlend_ext.append(ext)\"\"\""
   ]
  },
  {
   "cell_type": "code",
   "execution_count": 521,
   "id": "113462ff",
   "metadata": {
    "ExecuteTime": {
     "end_time": "2023-11-01T02:37:05.660052Z",
     "start_time": "2023-11-01T02:37:05.639683Z"
    }
   },
   "outputs": [
    {
     "data": {
      "text/plain": [
       "\"mlend_df = pd.DataFrame(index = range(0, mlend_count), \\n                  columns = ['Id', 'Dataset', 'Filepath', 'Filename', 'Ext', 'Speaker', 'Text', \\n                             'Gender', 'Age', 'Race', 'Accent', 'Intensity/Level', 'Sentiment', 'Emotion'])\""
      ]
     },
     "execution_count": 521,
     "metadata": {},
     "output_type": "execute_result"
    }
   ],
   "source": [
    "\"\"\"mlend_df = pd.DataFrame(index = range(0, mlend_count), \n",
    "                  columns = ['Id', 'Dataset', 'Filepath', 'Filename', 'Ext', 'Speaker', 'Text', \n",
    "                             'Gender', 'Age', 'Race', 'Accent', 'Intensity/Level', 'Sentiment', 'Emotion'])\"\"\""
   ]
  },
  {
   "cell_type": "code",
   "execution_count": 522,
   "id": "42e22955",
   "metadata": {
    "ExecuteTime": {
     "end_time": "2023-11-01T02:37:06.511346Z",
     "start_time": "2023-11-01T02:37:06.502164Z"
    }
   },
   "outputs": [
    {
     "data": {
      "text/plain": [
       "'mlend_df[\\'Dataset\\'] = [\"MLEND\"] * mlend_count\\nmlend_df[\\'Filepath\\'] = mlend_filepath\\nmlend_df[\\'Filename\\'] = mlend_filename\\nmlend_df[\\'Ext\\'] = mlend_ext\\nmlend_df[\\'Speaker\\'] = mlend_speaker\\nmlend_df[\\'Text\\'] = mlend_text\\nmlend_df[\\'Accent\\'] = mlend_accent\\nmlend_df[\\'Emotion\\'] = mlend_emotion'"
      ]
     },
     "execution_count": 522,
     "metadata": {},
     "output_type": "execute_result"
    }
   ],
   "source": [
    "\"\"\"mlend_df['Dataset'] = [\"MLEND\"] * mlend_count\n",
    "mlend_df['Filepath'] = mlend_filepath\n",
    "mlend_df['Filename'] = mlend_filename\n",
    "mlend_df['Ext'] = mlend_ext\n",
    "mlend_df['Speaker'] = mlend_speaker\n",
    "mlend_df['Text'] = mlend_text\n",
    "mlend_df['Accent'] = mlend_accent\n",
    "mlend_df['Emotion'] = mlend_emotion\"\"\""
   ]
  },
  {
   "cell_type": "code",
   "execution_count": 523,
   "id": "0adf2872",
   "metadata": {
    "ExecuteTime": {
     "end_time": "2023-11-01T02:37:06.709133Z",
     "start_time": "2023-11-01T02:37:06.676759Z"
    }
   },
   "outputs": [
    {
     "data": {
      "text/plain": [
       "'mlend_df.head()'"
      ]
     },
     "execution_count": 523,
     "metadata": {},
     "output_type": "execute_result"
    }
   ],
   "source": [
    "\"\"\"mlend_df.head()\"\"\""
   ]
  },
  {
   "cell_type": "markdown",
   "id": "b9ed6f47",
   "metadata": {},
   "source": [
    "### 4) RAVDESS\n",
    "> https://www.kaggle.com/datasets/uwrfkaggler/ravdess-emotional-speech-audio\n",
    "- Only two kinds of statement.\n",
    "\n",
    "- Labels in Filename.\n",
    "```shell\n",
    "Modality (01 = full-AV, 02 = video-only, 03 = audio-only).\n",
    "Vocal channel (01 = speech, 02 = song).\n",
    "Emotion (01 = neutral, 02 = calm, 03 = happy, 04 = sad, 05 = angry, 06 = fearful, 07 = disgust, 08 = surprised).\n",
    "Emotional intensity (01 = normal, 02 = strong). NOTE: There is no strong intensity for the 'neutral' emotion.\n",
    "Statement (01 = \"Kids are talking by the door\", 02 = \"Dogs are sitting by the door\").\n",
    "Repetition (01 = 1st repetition, 02 = 2nd repetition).\n",
    "Actor (01 to 24. Odd numbered actors are male, even numbered actors are female).\n",
    "```\n",
    "```shell\n",
    "Filename example: 03-01-06-01-02-01-12.wav\n",
    "\n",
    "Audio-only (03)\n",
    "Speech (01)\n",
    "Fearful (06)\n",
    "Normal intensity (01)\n",
    "Statement \"dogs\" (02)\n",
    "1st Repetition (01)\n",
    "12th Actor (12)\n",
    "Female, as the actor ID number is even.\n",
    "```"
   ]
  },
  {
   "cell_type": "code",
   "execution_count": 524,
   "id": "be541cb6",
   "metadata": {
    "ExecuteTime": {
     "end_time": "2023-11-01T02:37:08.399698Z",
     "start_time": "2023-11-01T02:37:08.391575Z"
    }
   },
   "outputs": [
    {
     "data": {
      "text/plain": [
       "['Actor_01', 'Actor_02', 'Actor_03', 'Actor_04', 'Actor_05']"
      ]
     },
     "execution_count": 524,
     "metadata": {},
     "output_type": "execute_result"
    }
   ],
   "source": [
    "rav_dir = './dataset/ravdess'\n",
    "actor_list = os.listdir(rav_dir)\n",
    "actor_list[:5]"
   ]
  },
  {
   "cell_type": "code",
   "execution_count": 525,
   "id": "edcadccd",
   "metadata": {
    "ExecuteTime": {
     "end_time": "2023-11-01T02:37:08.877006Z",
     "start_time": "2023-11-01T02:37:08.832321Z"
    }
   },
   "outputs": [],
   "source": [
    "rav_filepath = []\n",
    "rav_filename = []\n",
    "rav_ext = []\n",
    "rav_emotion = []\n",
    "rav_intensity = []\n",
    "rav_text = []\n",
    "rav_speaker = []\n",
    "rav_gender = []\n",
    "\n",
    "emotion_list = {'01':'Neutral', '02':'Calm', '03':'Happy', '04':'Sad', '05':'Anger', '06':'Fear', '07':'Disgust', '08':'Surprise'}\n",
    "intensity_list = {'01':\"Medium\", '02':\"High\"}\n",
    "text_list = {'01':'Kids are talking by the door', '02':'Dogs are sitting by the door'}\n",
    "\n",
    "for act in actor_list:\n",
    "    paths = glob.glob(os.path.join(rav_dir, act, \"*.wav\")) \n",
    "    names = os.listdir(os.path.join(rav_dir, act))\n",
    "    \n",
    "    for i in range(len(names)):\n",
    "        name, ext = os.path.splitext(names[i])\n",
    "        num_list = name.split(\"-\")\n",
    "        \n",
    "        emotion = emotion_list[num_list[2]]\n",
    "        intensity = intensity_list[num_list[3]]\n",
    "        text = text_list[num_list[4]]\n",
    "        speaker = \"Ravdess_\" + num_list[6]\n",
    "        \n",
    "        if int(num_list[6])%2 == 0:\n",
    "            gender = 'Female'\n",
    "        else:\n",
    "            gender = \"Male\"\n",
    "        \n",
    "        rav_filepath.append(paths[i])\n",
    "        rav_filename.append(names[i])\n",
    "        rav_ext.append(ext)\n",
    "        \n",
    "        rav_emotion.append(emotion)\n",
    "        rav_intensity.append(intensity)\n",
    "        rav_text.append(text)\n",
    "        rav_speaker.append(speaker)\n",
    "        rav_gender.append(gender)"
   ]
  },
  {
   "cell_type": "code",
   "execution_count": 526,
   "id": "9fffb11e",
   "metadata": {
    "ExecuteTime": {
     "end_time": "2023-11-01T02:37:09.709999Z",
     "start_time": "2023-11-01T02:37:09.703688Z"
    }
   },
   "outputs": [
    {
     "name": "stdout",
     "output_type": "stream",
     "text": [
      "The Number of RAVDESS Dataset: 1440\n"
     ]
    }
   ],
   "source": [
    "rav_count = len(rav_filepath)\n",
    "print(\"The Number of RAVDESS Dataset:\", rav_count)"
   ]
  },
  {
   "cell_type": "code",
   "execution_count": 527,
   "id": "4b5c56a5",
   "metadata": {
    "ExecuteTime": {
     "end_time": "2023-11-01T02:37:11.360244Z",
     "start_time": "2023-11-01T02:37:11.352199Z"
    }
   },
   "outputs": [],
   "source": [
    "rav_df = pd.DataFrame(index = range(0, rav_count), \n",
    "                  columns = ['Id', 'Dataset', 'Filepath', 'Filename', 'Ext', 'Speaker', 'Text', \n",
    "                             'Gender', 'Age', 'Race', 'Accent', 'Intensity/Level', 'Sentiment', 'Emotion'])"
   ]
  },
  {
   "cell_type": "code",
   "execution_count": 528,
   "id": "26b96524",
   "metadata": {
    "ExecuteTime": {
     "end_time": "2023-11-01T02:37:11.543005Z",
     "start_time": "2023-11-01T02:37:11.527381Z"
    }
   },
   "outputs": [],
   "source": [
    "rav_df[\"Dataset\"] = [\"RAVDESS\"] * rav_count\n",
    "rav_df['Filepath'] = rav_filepath\n",
    "rav_df['Filename'] = rav_filename\n",
    "rav_df['Ext'] = rav_ext\n",
    "rav_df['Emotion'] = rav_emotion\n",
    "rav_df['Intensity/Level'] = rav_intensity\n",
    "rav_df['Text'] = rav_text\n",
    "rav_df['Speaker'] = rav_speaker\n",
    "rav_df['Gender'] = rav_gender\n",
    "rav_df['Age'] = [29] * rav_count # mean age of speakers"
   ]
  },
  {
   "cell_type": "code",
   "execution_count": 529,
   "id": "9e906952",
   "metadata": {
    "ExecuteTime": {
     "end_time": "2023-11-01T02:37:11.759183Z",
     "start_time": "2023-11-01T02:37:11.727689Z"
    }
   },
   "outputs": [
    {
     "data": {
      "text/html": [
       "<div>\n",
       "<style scoped>\n",
       "    .dataframe tbody tr th:only-of-type {\n",
       "        vertical-align: middle;\n",
       "    }\n",
       "\n",
       "    .dataframe tbody tr th {\n",
       "        vertical-align: top;\n",
       "    }\n",
       "\n",
       "    .dataframe thead th {\n",
       "        text-align: right;\n",
       "    }\n",
       "</style>\n",
       "<table border=\"1\" class=\"dataframe\">\n",
       "  <thead>\n",
       "    <tr style=\"text-align: right;\">\n",
       "      <th></th>\n",
       "      <th>Id</th>\n",
       "      <th>Dataset</th>\n",
       "      <th>Filepath</th>\n",
       "      <th>Filename</th>\n",
       "      <th>Ext</th>\n",
       "      <th>Speaker</th>\n",
       "      <th>Text</th>\n",
       "      <th>Gender</th>\n",
       "      <th>Age</th>\n",
       "      <th>Race</th>\n",
       "      <th>Accent</th>\n",
       "      <th>Intensity/Level</th>\n",
       "      <th>Sentiment</th>\n",
       "      <th>Emotion</th>\n",
       "    </tr>\n",
       "  </thead>\n",
       "  <tbody>\n",
       "    <tr>\n",
       "      <th>0</th>\n",
       "      <td>NaN</td>\n",
       "      <td>RAVDESS</td>\n",
       "      <td>./dataset/ravdess\\Actor_01\\03-01-01-01-01-01-0...</td>\n",
       "      <td>03-01-01-01-01-01-01.wav</td>\n",
       "      <td>.wav</td>\n",
       "      <td>Ravdess_01</td>\n",
       "      <td>Kids are talking by the door</td>\n",
       "      <td>Male</td>\n",
       "      <td>29</td>\n",
       "      <td>NaN</td>\n",
       "      <td>NaN</td>\n",
       "      <td>Medium</td>\n",
       "      <td>NaN</td>\n",
       "      <td>Neutral</td>\n",
       "    </tr>\n",
       "    <tr>\n",
       "      <th>1</th>\n",
       "      <td>NaN</td>\n",
       "      <td>RAVDESS</td>\n",
       "      <td>./dataset/ravdess\\Actor_01\\03-01-01-01-01-02-0...</td>\n",
       "      <td>03-01-01-01-01-02-01.wav</td>\n",
       "      <td>.wav</td>\n",
       "      <td>Ravdess_01</td>\n",
       "      <td>Kids are talking by the door</td>\n",
       "      <td>Male</td>\n",
       "      <td>29</td>\n",
       "      <td>NaN</td>\n",
       "      <td>NaN</td>\n",
       "      <td>Medium</td>\n",
       "      <td>NaN</td>\n",
       "      <td>Neutral</td>\n",
       "    </tr>\n",
       "    <tr>\n",
       "      <th>2</th>\n",
       "      <td>NaN</td>\n",
       "      <td>RAVDESS</td>\n",
       "      <td>./dataset/ravdess\\Actor_01\\03-01-01-01-02-01-0...</td>\n",
       "      <td>03-01-01-01-02-01-01.wav</td>\n",
       "      <td>.wav</td>\n",
       "      <td>Ravdess_01</td>\n",
       "      <td>Dogs are sitting by the door</td>\n",
       "      <td>Male</td>\n",
       "      <td>29</td>\n",
       "      <td>NaN</td>\n",
       "      <td>NaN</td>\n",
       "      <td>Medium</td>\n",
       "      <td>NaN</td>\n",
       "      <td>Neutral</td>\n",
       "    </tr>\n",
       "    <tr>\n",
       "      <th>3</th>\n",
       "      <td>NaN</td>\n",
       "      <td>RAVDESS</td>\n",
       "      <td>./dataset/ravdess\\Actor_01\\03-01-01-01-02-02-0...</td>\n",
       "      <td>03-01-01-01-02-02-01.wav</td>\n",
       "      <td>.wav</td>\n",
       "      <td>Ravdess_01</td>\n",
       "      <td>Dogs are sitting by the door</td>\n",
       "      <td>Male</td>\n",
       "      <td>29</td>\n",
       "      <td>NaN</td>\n",
       "      <td>NaN</td>\n",
       "      <td>Medium</td>\n",
       "      <td>NaN</td>\n",
       "      <td>Neutral</td>\n",
       "    </tr>\n",
       "    <tr>\n",
       "      <th>4</th>\n",
       "      <td>NaN</td>\n",
       "      <td>RAVDESS</td>\n",
       "      <td>./dataset/ravdess\\Actor_01\\03-01-02-01-01-01-0...</td>\n",
       "      <td>03-01-02-01-01-01-01.wav</td>\n",
       "      <td>.wav</td>\n",
       "      <td>Ravdess_01</td>\n",
       "      <td>Kids are talking by the door</td>\n",
       "      <td>Male</td>\n",
       "      <td>29</td>\n",
       "      <td>NaN</td>\n",
       "      <td>NaN</td>\n",
       "      <td>Medium</td>\n",
       "      <td>NaN</td>\n",
       "      <td>Calm</td>\n",
       "    </tr>\n",
       "  </tbody>\n",
       "</table>\n",
       "</div>"
      ],
      "text/plain": [
       "    Id  Dataset                                           Filepath  \\\n",
       "0  NaN  RAVDESS  ./dataset/ravdess\\Actor_01\\03-01-01-01-01-01-0...   \n",
       "1  NaN  RAVDESS  ./dataset/ravdess\\Actor_01\\03-01-01-01-01-02-0...   \n",
       "2  NaN  RAVDESS  ./dataset/ravdess\\Actor_01\\03-01-01-01-02-01-0...   \n",
       "3  NaN  RAVDESS  ./dataset/ravdess\\Actor_01\\03-01-01-01-02-02-0...   \n",
       "4  NaN  RAVDESS  ./dataset/ravdess\\Actor_01\\03-01-02-01-01-01-0...   \n",
       "\n",
       "                   Filename   Ext     Speaker                          Text  \\\n",
       "0  03-01-01-01-01-01-01.wav  .wav  Ravdess_01  Kids are talking by the door   \n",
       "1  03-01-01-01-01-02-01.wav  .wav  Ravdess_01  Kids are talking by the door   \n",
       "2  03-01-01-01-02-01-01.wav  .wav  Ravdess_01  Dogs are sitting by the door   \n",
       "3  03-01-01-01-02-02-01.wav  .wav  Ravdess_01  Dogs are sitting by the door   \n",
       "4  03-01-02-01-01-01-01.wav  .wav  Ravdess_01  Kids are talking by the door   \n",
       "\n",
       "  Gender  Age Race Accent Intensity/Level Sentiment  Emotion  \n",
       "0   Male   29  NaN    NaN          Medium       NaN  Neutral  \n",
       "1   Male   29  NaN    NaN          Medium       NaN  Neutral  \n",
       "2   Male   29  NaN    NaN          Medium       NaN  Neutral  \n",
       "3   Male   29  NaN    NaN          Medium       NaN  Neutral  \n",
       "4   Male   29  NaN    NaN          Medium       NaN     Calm  "
      ]
     },
     "execution_count": 529,
     "metadata": {},
     "output_type": "execute_result"
    }
   ],
   "source": [
    "rav_df.head()"
   ]
  },
  {
   "cell_type": "code",
   "execution_count": 530,
   "id": "ba8b8e2b",
   "metadata": {},
   "outputs": [
    {
     "name": "stdout",
     "output_type": "stream",
     "text": [
      "Intensity/Level\n",
      "Medium    768\n",
      "High      672\n",
      "Name: count, dtype: int64\n"
     ]
    }
   ],
   "source": [
    "print(rav_df['Intensity/Level'].value_counts())"
   ]
  },
  {
   "cell_type": "markdown",
   "id": "df572ebd",
   "metadata": {},
   "source": [
    "### 5) SAVEE\n",
    "> https://www.kaggle.com/datasets/ejlok1/surrey-audiovisual-expressed-emotion-savee\n",
    "\n",
    "- Labels in Filename\n",
    "```shell\n",
    "\"a\":\"Anger\"\n",
    "\"d\":\"Disgust\"\n",
    "\"f\":\"Fear\"\n",
    "\"h\":\"Happy\"\n",
    "\"n\":\"Neutral\"\n",
    "\"sa\":\"Sad\"\n",
    "\"su\":\"Surprise\"\n",
    "```"
   ]
  },
  {
   "cell_type": "code",
   "execution_count": 531,
   "id": "23d697a6",
   "metadata": {
    "ExecuteTime": {
     "end_time": "2023-11-01T02:37:13.407082Z",
     "start_time": "2023-11-01T02:37:13.400078Z"
    }
   },
   "outputs": [
    {
     "name": "stdout",
     "output_type": "stream",
     "text": [
      "['DC_a01.wav', 'DC_a02.wav', 'DC_a03.wav', 'DC_a04.wav', 'DC_a05.wav']\n",
      "The Number of SAVEE Dataset: 480\n"
     ]
    }
   ],
   "source": [
    "savee_dir = './dataset/savee'\n",
    "savee_filename = os.listdir(savee_dir)\n",
    "savee_filepath = glob.glob(os.path.join(savee_dir, \"*.wav\"))\n",
    "print(savee_filename[:5])\n",
    "\n",
    "savee_count = len(savee_filepath)\n",
    "print(\"The Number of SAVEE Dataset:\", savee_count)"
   ]
  },
  {
   "cell_type": "code",
   "execution_count": 532,
   "id": "e25702ca",
   "metadata": {
    "ExecuteTime": {
     "end_time": "2023-11-01T02:37:13.592442Z",
     "start_time": "2023-11-01T02:37:13.575995Z"
    }
   },
   "outputs": [],
   "source": [
    "savee_ext = []\n",
    "savee_emotion = []\n",
    "savee_speaker = []\n",
    "emotion_list = {\"a\":\"Anger\", \"d\":\"Disgust\", \"f\":\"Fear\", \"h\":\"Happy\", \"n\":\"Neutral\", \"sa\":\"Sad\", \"su\":\"Surprise\"}\n",
    "for fn in savee_filename:\n",
    "    name, ext = os.path.splitext(fn)\n",
    "    \n",
    "    speaker, emo = name.split(\"_\")\n",
    "    emo = emo[:-2]\n",
    "    emotion = emotion_list[emo]\n",
    "    speaker = \"Savee_\" + speaker\n",
    "\n",
    "    savee_ext.append(ext)\n",
    "    savee_emotion.append(emotion)\n",
    "    savee_speaker.append(speaker)"
   ]
  },
  {
   "cell_type": "code",
   "execution_count": 533,
   "id": "7157de48",
   "metadata": {
    "ExecuteTime": {
     "end_time": "2023-11-01T02:37:18.540828Z",
     "start_time": "2023-11-01T02:37:18.534638Z"
    }
   },
   "outputs": [],
   "source": [
    "savee_df = pd.DataFrame(index = range(0, savee_count), \n",
    "                  columns = ['Id', 'Dataset', 'Filepath', 'Filename', 'Ext', 'Speaker', 'Text', \n",
    "                             'Gender', 'Age', 'Race', 'Accent', 'Intensity/Level', 'Sentiment', 'Emotion'])"
   ]
  },
  {
   "cell_type": "code",
   "execution_count": 534,
   "id": "b730278c",
   "metadata": {
    "ExecuteTime": {
     "end_time": "2023-11-01T02:37:18.709347Z",
     "start_time": "2023-11-01T02:37:18.693717Z"
    }
   },
   "outputs": [],
   "source": [
    "savee_df['Dataset'] = [\"SAVEE\"] * savee_count\n",
    "savee_df['Gender'] = [\"Male\"] * savee_count\n",
    "savee_df['Filepath'] = savee_filepath\n",
    "savee_df['Filename'] = savee_filename\n",
    "savee_df['Ext'] = savee_ext\n",
    "savee_df['Speaker'] = savee_speaker\n",
    "savee_df['Emotion'] = savee_emotion"
   ]
  },
  {
   "cell_type": "code",
   "execution_count": 535,
   "id": "7e33dd7e",
   "metadata": {
    "ExecuteTime": {
     "end_time": "2023-11-01T02:37:18.892904Z",
     "start_time": "2023-11-01T02:37:18.877279Z"
    }
   },
   "outputs": [
    {
     "data": {
      "text/html": [
       "<div>\n",
       "<style scoped>\n",
       "    .dataframe tbody tr th:only-of-type {\n",
       "        vertical-align: middle;\n",
       "    }\n",
       "\n",
       "    .dataframe tbody tr th {\n",
       "        vertical-align: top;\n",
       "    }\n",
       "\n",
       "    .dataframe thead th {\n",
       "        text-align: right;\n",
       "    }\n",
       "</style>\n",
       "<table border=\"1\" class=\"dataframe\">\n",
       "  <thead>\n",
       "    <tr style=\"text-align: right;\">\n",
       "      <th></th>\n",
       "      <th>Id</th>\n",
       "      <th>Dataset</th>\n",
       "      <th>Filepath</th>\n",
       "      <th>Filename</th>\n",
       "      <th>Ext</th>\n",
       "      <th>Speaker</th>\n",
       "      <th>Text</th>\n",
       "      <th>Gender</th>\n",
       "      <th>Age</th>\n",
       "      <th>Race</th>\n",
       "      <th>Accent</th>\n",
       "      <th>Intensity/Level</th>\n",
       "      <th>Sentiment</th>\n",
       "      <th>Emotion</th>\n",
       "    </tr>\n",
       "  </thead>\n",
       "  <tbody>\n",
       "    <tr>\n",
       "      <th>0</th>\n",
       "      <td>NaN</td>\n",
       "      <td>SAVEE</td>\n",
       "      <td>./dataset/savee\\DC_a01.wav</td>\n",
       "      <td>DC_a01.wav</td>\n",
       "      <td>.wav</td>\n",
       "      <td>Savee_DC</td>\n",
       "      <td>NaN</td>\n",
       "      <td>Male</td>\n",
       "      <td>NaN</td>\n",
       "      <td>NaN</td>\n",
       "      <td>NaN</td>\n",
       "      <td>NaN</td>\n",
       "      <td>NaN</td>\n",
       "      <td>Anger</td>\n",
       "    </tr>\n",
       "    <tr>\n",
       "      <th>1</th>\n",
       "      <td>NaN</td>\n",
       "      <td>SAVEE</td>\n",
       "      <td>./dataset/savee\\DC_a02.wav</td>\n",
       "      <td>DC_a02.wav</td>\n",
       "      <td>.wav</td>\n",
       "      <td>Savee_DC</td>\n",
       "      <td>NaN</td>\n",
       "      <td>Male</td>\n",
       "      <td>NaN</td>\n",
       "      <td>NaN</td>\n",
       "      <td>NaN</td>\n",
       "      <td>NaN</td>\n",
       "      <td>NaN</td>\n",
       "      <td>Anger</td>\n",
       "    </tr>\n",
       "    <tr>\n",
       "      <th>2</th>\n",
       "      <td>NaN</td>\n",
       "      <td>SAVEE</td>\n",
       "      <td>./dataset/savee\\DC_a03.wav</td>\n",
       "      <td>DC_a03.wav</td>\n",
       "      <td>.wav</td>\n",
       "      <td>Savee_DC</td>\n",
       "      <td>NaN</td>\n",
       "      <td>Male</td>\n",
       "      <td>NaN</td>\n",
       "      <td>NaN</td>\n",
       "      <td>NaN</td>\n",
       "      <td>NaN</td>\n",
       "      <td>NaN</td>\n",
       "      <td>Anger</td>\n",
       "    </tr>\n",
       "    <tr>\n",
       "      <th>3</th>\n",
       "      <td>NaN</td>\n",
       "      <td>SAVEE</td>\n",
       "      <td>./dataset/savee\\DC_a04.wav</td>\n",
       "      <td>DC_a04.wav</td>\n",
       "      <td>.wav</td>\n",
       "      <td>Savee_DC</td>\n",
       "      <td>NaN</td>\n",
       "      <td>Male</td>\n",
       "      <td>NaN</td>\n",
       "      <td>NaN</td>\n",
       "      <td>NaN</td>\n",
       "      <td>NaN</td>\n",
       "      <td>NaN</td>\n",
       "      <td>Anger</td>\n",
       "    </tr>\n",
       "    <tr>\n",
       "      <th>4</th>\n",
       "      <td>NaN</td>\n",
       "      <td>SAVEE</td>\n",
       "      <td>./dataset/savee\\DC_a05.wav</td>\n",
       "      <td>DC_a05.wav</td>\n",
       "      <td>.wav</td>\n",
       "      <td>Savee_DC</td>\n",
       "      <td>NaN</td>\n",
       "      <td>Male</td>\n",
       "      <td>NaN</td>\n",
       "      <td>NaN</td>\n",
       "      <td>NaN</td>\n",
       "      <td>NaN</td>\n",
       "      <td>NaN</td>\n",
       "      <td>Anger</td>\n",
       "    </tr>\n",
       "  </tbody>\n",
       "</table>\n",
       "</div>"
      ],
      "text/plain": [
       "    Id Dataset                    Filepath    Filename   Ext   Speaker Text  \\\n",
       "0  NaN   SAVEE  ./dataset/savee\\DC_a01.wav  DC_a01.wav  .wav  Savee_DC  NaN   \n",
       "1  NaN   SAVEE  ./dataset/savee\\DC_a02.wav  DC_a02.wav  .wav  Savee_DC  NaN   \n",
       "2  NaN   SAVEE  ./dataset/savee\\DC_a03.wav  DC_a03.wav  .wav  Savee_DC  NaN   \n",
       "3  NaN   SAVEE  ./dataset/savee\\DC_a04.wav  DC_a04.wav  .wav  Savee_DC  NaN   \n",
       "4  NaN   SAVEE  ./dataset/savee\\DC_a05.wav  DC_a05.wav  .wav  Savee_DC  NaN   \n",
       "\n",
       "  Gender  Age Race Accent Intensity/Level Sentiment Emotion  \n",
       "0   Male  NaN  NaN    NaN             NaN       NaN   Anger  \n",
       "1   Male  NaN  NaN    NaN             NaN       NaN   Anger  \n",
       "2   Male  NaN  NaN    NaN             NaN       NaN   Anger  \n",
       "3   Male  NaN  NaN    NaN             NaN       NaN   Anger  \n",
       "4   Male  NaN  NaN    NaN             NaN       NaN   Anger  "
      ]
     },
     "execution_count": 535,
     "metadata": {},
     "output_type": "execute_result"
    }
   ],
   "source": [
    "savee_df.head()"
   ]
  },
  {
   "cell_type": "markdown",
   "id": "4c66ebf4",
   "metadata": {},
   "source": [
    "### 6) TESS\n",
    "> https://www.kaggle.com/datasets/ejlok1/toronto-emotional-speech-set-tess\n",
    "\n",
    "- Labels in Folder name\n",
    "\n",
    "```shell\n",
    "OAF: 64, Female\n",
    "YAF: 26, Female\n",
    "```"
   ]
  },
  {
   "cell_type": "code",
   "execution_count": 536,
   "id": "261a08dd",
   "metadata": {
    "ExecuteTime": {
     "end_time": "2023-11-01T02:37:21.187962Z",
     "start_time": "2023-11-01T02:37:21.175760Z"
    }
   },
   "outputs": [
    {
     "name": "stdout",
     "output_type": "stream",
     "text": [
      "['OAF_angry', 'OAF_disgust', 'OAF_Fear', 'OAF_happy', 'OAF_neutral', 'OAF_Pleasant_surprise', 'OAF_Sad', 'YAF_angry', 'YAF_disgust', 'YAF_fear', 'YAF_happy', 'YAF_neutral', 'YAF_pleasant_surprised', 'YAF_sad']\n"
     ]
    }
   ],
   "source": [
    "tess_dir = './dataset/tess'\n",
    "tess_folders = os.listdir(tess_dir)\n",
    "print(tess_folders)"
   ]
  },
  {
   "cell_type": "code",
   "execution_count": 537,
   "id": "5d704cbb",
   "metadata": {
    "ExecuteTime": {
     "end_time": "2023-11-01T02:37:21.446171Z",
     "start_time": "2023-11-01T02:37:21.411137Z"
    }
   },
   "outputs": [],
   "source": [
    "tess_filepath = []\n",
    "tess_filename = []\n",
    "tess_ext = []\n",
    "tess_speaker = []\n",
    "tess_age = []\n",
    "tess_emotion = []\n",
    "emotion_list = {\"angry\":\"Anger\", \"disgust\":\"Disgust\", \"happy\": \"Happy\", \"neutral\":\"Neutral\", \"Sad\":\"Sad\", \"sad\":\"Sad\", \n",
    "                \"Fear\":\"Fear\", \"fear\":\"Fear\", \"Pleasant_surprise\":\"Surprise\", \"pleasant_surprised\":\"Surprise\"}\n",
    "for f in tess_folders:\n",
    "    speaker = f[:3]\n",
    "    emotion = emotion_list[f[4:]]\n",
    "    \n",
    "    if speaker == \"OAF\":\n",
    "        age = 64\n",
    "    else: age = 26\n",
    "        \n",
    "    speaker = \"Tess_\" + speaker    \n",
    "    filenames = os.listdir(os.path.join(tess_dir, f))\n",
    "    filepaths = glob.glob(os.path.join(tess_dir, f, \"*.wav\"))\n",
    "    \n",
    "    for i in range(len(filenames)):\n",
    "        _, ext = os.path.splitext(filenames[i])\n",
    "        \n",
    "    \n",
    "        tess_filepath.append(filepaths[i])\n",
    "        tess_filename.append(filenames[i])\n",
    "        tess_ext.append(ext)\n",
    "        tess_speaker.append(speaker)\n",
    "        tess_age.append(age)\n",
    "        tess_emotion.append(emotion)\n",
    "    "
   ]
  },
  {
   "cell_type": "code",
   "execution_count": 538,
   "id": "9235ad62",
   "metadata": {
    "ExecuteTime": {
     "end_time": "2023-11-01T02:37:22.694724Z",
     "start_time": "2023-11-01T02:37:22.685552Z"
    }
   },
   "outputs": [
    {
     "name": "stdout",
     "output_type": "stream",
     "text": [
      "The Number of TESS Dataset: 2800\n"
     ]
    }
   ],
   "source": [
    "tess_count = len(tess_filepath)\n",
    "print(\"The Number of TESS Dataset:\", tess_count)"
   ]
  },
  {
   "cell_type": "code",
   "execution_count": 539,
   "id": "11ec66cd",
   "metadata": {
    "ExecuteTime": {
     "end_time": "2023-11-01T02:37:22.875880Z",
     "start_time": "2023-11-01T02:37:22.860254Z"
    }
   },
   "outputs": [],
   "source": [
    "tess_df = pd.DataFrame(index = range(0, tess_count), \n",
    "                  columns = ['Id', 'Dataset', 'Filepath', 'Filename', 'Ext', 'Speaker', 'Text', \n",
    "                             'Gender', 'Age', 'Race', 'Accent', 'Intensity/Level', 'Sentiment', 'Emotion'])"
   ]
  },
  {
   "cell_type": "code",
   "execution_count": 540,
   "id": "d0f0e778",
   "metadata": {
    "ExecuteTime": {
     "end_time": "2023-11-01T02:37:23.092470Z",
     "start_time": "2023-11-01T02:37:23.076845Z"
    }
   },
   "outputs": [],
   "source": [
    "tess_df[\"Dataset\"] = [\"TESS\"] * tess_count\n",
    "tess_df[\"Gender\"] = [\"Female\"] * tess_count\n",
    "tess_df[\"Filepath\"] = tess_filepath\n",
    "tess_df[\"Filename\"] = tess_filename\n",
    "tess_df[\"Ext\"] = tess_ext\n",
    "tess_df[\"Speaker\"] = tess_speaker\n",
    "tess_df[\"Age\"] = tess_age\n",
    "tess_df[\"Emotion\"] = tess_emotion"
   ]
  },
  {
   "cell_type": "code",
   "execution_count": 541,
   "id": "32298caa",
   "metadata": {
    "ExecuteTime": {
     "end_time": "2023-11-01T02:37:23.309305Z",
     "start_time": "2023-11-01T02:37:23.276821Z"
    }
   },
   "outputs": [
    {
     "data": {
      "text/html": [
       "<div>\n",
       "<style scoped>\n",
       "    .dataframe tbody tr th:only-of-type {\n",
       "        vertical-align: middle;\n",
       "    }\n",
       "\n",
       "    .dataframe tbody tr th {\n",
       "        vertical-align: top;\n",
       "    }\n",
       "\n",
       "    .dataframe thead th {\n",
       "        text-align: right;\n",
       "    }\n",
       "</style>\n",
       "<table border=\"1\" class=\"dataframe\">\n",
       "  <thead>\n",
       "    <tr style=\"text-align: right;\">\n",
       "      <th></th>\n",
       "      <th>Id</th>\n",
       "      <th>Dataset</th>\n",
       "      <th>Filepath</th>\n",
       "      <th>Filename</th>\n",
       "      <th>Ext</th>\n",
       "      <th>Speaker</th>\n",
       "      <th>Text</th>\n",
       "      <th>Gender</th>\n",
       "      <th>Age</th>\n",
       "      <th>Race</th>\n",
       "      <th>Accent</th>\n",
       "      <th>Intensity/Level</th>\n",
       "      <th>Sentiment</th>\n",
       "      <th>Emotion</th>\n",
       "    </tr>\n",
       "  </thead>\n",
       "  <tbody>\n",
       "    <tr>\n",
       "      <th>0</th>\n",
       "      <td>NaN</td>\n",
       "      <td>TESS</td>\n",
       "      <td>./dataset/tess\\OAF_angry\\OAF_back_angry.wav</td>\n",
       "      <td>OAF_back_angry.wav</td>\n",
       "      <td>.wav</td>\n",
       "      <td>Tess_OAF</td>\n",
       "      <td>NaN</td>\n",
       "      <td>Female</td>\n",
       "      <td>64</td>\n",
       "      <td>NaN</td>\n",
       "      <td>NaN</td>\n",
       "      <td>NaN</td>\n",
       "      <td>NaN</td>\n",
       "      <td>Anger</td>\n",
       "    </tr>\n",
       "    <tr>\n",
       "      <th>1</th>\n",
       "      <td>NaN</td>\n",
       "      <td>TESS</td>\n",
       "      <td>./dataset/tess\\OAF_angry\\OAF_bar_angry.wav</td>\n",
       "      <td>OAF_bar_angry.wav</td>\n",
       "      <td>.wav</td>\n",
       "      <td>Tess_OAF</td>\n",
       "      <td>NaN</td>\n",
       "      <td>Female</td>\n",
       "      <td>64</td>\n",
       "      <td>NaN</td>\n",
       "      <td>NaN</td>\n",
       "      <td>NaN</td>\n",
       "      <td>NaN</td>\n",
       "      <td>Anger</td>\n",
       "    </tr>\n",
       "    <tr>\n",
       "      <th>2</th>\n",
       "      <td>NaN</td>\n",
       "      <td>TESS</td>\n",
       "      <td>./dataset/tess\\OAF_angry\\OAF_base_angry.wav</td>\n",
       "      <td>OAF_base_angry.wav</td>\n",
       "      <td>.wav</td>\n",
       "      <td>Tess_OAF</td>\n",
       "      <td>NaN</td>\n",
       "      <td>Female</td>\n",
       "      <td>64</td>\n",
       "      <td>NaN</td>\n",
       "      <td>NaN</td>\n",
       "      <td>NaN</td>\n",
       "      <td>NaN</td>\n",
       "      <td>Anger</td>\n",
       "    </tr>\n",
       "    <tr>\n",
       "      <th>3</th>\n",
       "      <td>NaN</td>\n",
       "      <td>TESS</td>\n",
       "      <td>./dataset/tess\\OAF_angry\\OAF_bath_angry.wav</td>\n",
       "      <td>OAF_bath_angry.wav</td>\n",
       "      <td>.wav</td>\n",
       "      <td>Tess_OAF</td>\n",
       "      <td>NaN</td>\n",
       "      <td>Female</td>\n",
       "      <td>64</td>\n",
       "      <td>NaN</td>\n",
       "      <td>NaN</td>\n",
       "      <td>NaN</td>\n",
       "      <td>NaN</td>\n",
       "      <td>Anger</td>\n",
       "    </tr>\n",
       "    <tr>\n",
       "      <th>4</th>\n",
       "      <td>NaN</td>\n",
       "      <td>TESS</td>\n",
       "      <td>./dataset/tess\\OAF_angry\\OAF_bean_angry.wav</td>\n",
       "      <td>OAF_bean_angry.wav</td>\n",
       "      <td>.wav</td>\n",
       "      <td>Tess_OAF</td>\n",
       "      <td>NaN</td>\n",
       "      <td>Female</td>\n",
       "      <td>64</td>\n",
       "      <td>NaN</td>\n",
       "      <td>NaN</td>\n",
       "      <td>NaN</td>\n",
       "      <td>NaN</td>\n",
       "      <td>Anger</td>\n",
       "    </tr>\n",
       "  </tbody>\n",
       "</table>\n",
       "</div>"
      ],
      "text/plain": [
       "    Id Dataset                                     Filepath  \\\n",
       "0  NaN    TESS  ./dataset/tess\\OAF_angry\\OAF_back_angry.wav   \n",
       "1  NaN    TESS   ./dataset/tess\\OAF_angry\\OAF_bar_angry.wav   \n",
       "2  NaN    TESS  ./dataset/tess\\OAF_angry\\OAF_base_angry.wav   \n",
       "3  NaN    TESS  ./dataset/tess\\OAF_angry\\OAF_bath_angry.wav   \n",
       "4  NaN    TESS  ./dataset/tess\\OAF_angry\\OAF_bean_angry.wav   \n",
       "\n",
       "             Filename   Ext   Speaker Text  Gender  Age Race Accent  \\\n",
       "0  OAF_back_angry.wav  .wav  Tess_OAF  NaN  Female   64  NaN    NaN   \n",
       "1   OAF_bar_angry.wav  .wav  Tess_OAF  NaN  Female   64  NaN    NaN   \n",
       "2  OAF_base_angry.wav  .wav  Tess_OAF  NaN  Female   64  NaN    NaN   \n",
       "3  OAF_bath_angry.wav  .wav  Tess_OAF  NaN  Female   64  NaN    NaN   \n",
       "4  OAF_bean_angry.wav  .wav  Tess_OAF  NaN  Female   64  NaN    NaN   \n",
       "\n",
       "  Intensity/Level Sentiment Emotion  \n",
       "0             NaN       NaN   Anger  \n",
       "1             NaN       NaN   Anger  \n",
       "2             NaN       NaN   Anger  \n",
       "3             NaN       NaN   Anger  \n",
       "4             NaN       NaN   Anger  "
      ]
     },
     "execution_count": 541,
     "metadata": {},
     "output_type": "execute_result"
    }
   ],
   "source": [
    "tess_df.head()"
   ]
  },
  {
   "cell_type": "markdown",
   "id": "141969be",
   "metadata": {
    "ExecuteTime": {
     "end_time": "2023-10-30T06:51:35.527911Z",
     "start_time": "2023-10-30T06:51:35.524425Z"
    }
   },
   "source": [
    "### 7) ESD\n",
    "> https://hltsingapore.github.io/ESD/download.html\n",
    "- There is only English data in folder `0011` to `0020`."
   ]
  },
  {
   "cell_type": "code",
   "execution_count": 542,
   "id": "2202e721",
   "metadata": {
    "ExecuteTime": {
     "end_time": "2023-11-01T02:37:23.985266Z",
     "start_time": "2023-11-01T02:37:23.975687Z"
    }
   },
   "outputs": [],
   "source": [
    "esd_dir = './dataset/esd'\n",
    "esd_folders = os.listdir(esd_dir)"
   ]
  },
  {
   "cell_type": "code",
   "execution_count": 543,
   "id": "e503dcde",
   "metadata": {},
   "outputs": [
    {
     "data": {
      "text/plain": [
       "['0011',\n",
       " '0012',\n",
       " '0013',\n",
       " '0014',\n",
       " '0015',\n",
       " '0016',\n",
       " '0017',\n",
       " '0018',\n",
       " '0019',\n",
       " '0020']"
      ]
     },
     "execution_count": 543,
     "metadata": {},
     "output_type": "execute_result"
    }
   ],
   "source": [
    "esd_folders"
   ]
  },
  {
   "cell_type": "code",
   "execution_count": 544,
   "id": "5e121db1",
   "metadata": {
    "ExecuteTime": {
     "end_time": "2023-11-01T02:37:24.192249Z",
     "start_time": "2023-11-01T02:37:24.160233Z"
    }
   },
   "outputs": [],
   "source": [
    "esd_sub_df = []\n",
    "for f in esd_folders:\n",
    "    path = os.path.join(esd_dir, f, f+\".txt\")\n",
    "    with open(path, \"r\") as f:\n",
    "        for line in f:\n",
    "            esd_sub_df.append(line.strip().split(\"\\t\"))"
   ]
  },
  {
   "cell_type": "code",
   "execution_count": 545,
   "id": "c425beb8",
   "metadata": {
    "ExecuteTime": {
     "end_time": "2023-11-01T02:37:24.363835Z",
     "start_time": "2023-11-01T02:37:24.344127Z"
    }
   },
   "outputs": [
    {
     "name": "stdout",
     "output_type": "stream",
     "text": [
      "(17500, 3)\n",
      "['0011_000001', 'The nine the eggs, I keep.', 'Neutral']\n",
      "The Number of ESD Dataset: 17500\n"
     ]
    }
   ],
   "source": [
    "print(np.shape(esd_sub_df))\n",
    "print(esd_sub_df[0])\n",
    "\n",
    "esd_count = len(esd_sub_df)\n",
    "print(\"The Number of ESD Dataset:\", esd_count)"
   ]
  },
  {
   "cell_type": "code",
   "execution_count": 546,
   "id": "52a7b2a0",
   "metadata": {
    "ExecuteTime": {
     "end_time": "2023-11-01T02:37:24.606193Z",
     "start_time": "2023-11-01T02:37:24.526764Z"
    }
   },
   "outputs": [],
   "source": [
    "esd_ext = []\n",
    "esd_filename = []\n",
    "esd_filepath = []\n",
    "esd_text = []\n",
    "esd_emotion = []\n",
    "esd_speaker = []\n",
    "emotion_list = {\"Angry\":\"Anger\", \"Happy\":\"Happy\", \"Neutral\":\"Neutral\", \"Sad\":\"Sad\", \"Surprise\":\"Surprise\"}\n",
    "for sub in esd_sub_df:\n",
    "    ext = \".wav\"\n",
    "    filename = sub[0] + ext\n",
    "    speaker = sub[0][:4]\n",
    "    filepath = os.path.join(esd_dir, speaker, sub[2], filename)\n",
    "    \n",
    "    emotion = emotion_list[sub[2]]\n",
    "    text = sub[1]\n",
    "    speaker = \"Esd_\" + speaker\n",
    "    \n",
    "    esd_ext.append(ext)\n",
    "    esd_filename.append(filename)\n",
    "    esd_filepath.append(filepath)\n",
    "    esd_text.append(text)\n",
    "    esd_emotion.append(emotion)\n",
    "    esd_speaker.append(speaker)"
   ]
  },
  {
   "cell_type": "code",
   "execution_count": 547,
   "id": "aad092d0",
   "metadata": {
    "ExecuteTime": {
     "end_time": "2023-11-01T02:37:25.032595Z",
     "start_time": "2023-11-01T02:37:25.011342Z"
    }
   },
   "outputs": [],
   "source": [
    "esd_df = pd.DataFrame(index = range(0, esd_count), \n",
    "                  columns = ['Id', 'Dataset', 'Filepath', 'Filename', 'Ext', 'Speaker', 'Text', \n",
    "                             'Gender', 'Age', 'Race', 'Accent', 'Intensity/Level', 'Sentiment', 'Emotion'])"
   ]
  },
  {
   "cell_type": "code",
   "execution_count": 548,
   "id": "677a5483",
   "metadata": {
    "ExecuteTime": {
     "end_time": "2023-11-01T02:37:25.449594Z",
     "start_time": "2023-11-01T02:37:25.427535Z"
    }
   },
   "outputs": [],
   "source": [
    "esd_df['Dataset'] = [\"ESD\"] * esd_count\n",
    "esd_df['Filepath'] = esd_filepath\n",
    "esd_df['Filename'] = esd_filename\n",
    "esd_df['Ext'] = esd_ext\n",
    "esd_df['Speaker'] = esd_speaker\n",
    "esd_df['Text'] = esd_text\n",
    "esd_df['Emotion'] = esd_emotion"
   ]
  },
  {
   "cell_type": "code",
   "execution_count": 549,
   "id": "3fcb18d6",
   "metadata": {
    "ExecuteTime": {
     "end_time": "2023-11-01T02:37:25.776061Z",
     "start_time": "2023-11-01T02:37:25.765063Z"
    }
   },
   "outputs": [
    {
     "data": {
      "text/html": [
       "<div>\n",
       "<style scoped>\n",
       "    .dataframe tbody tr th:only-of-type {\n",
       "        vertical-align: middle;\n",
       "    }\n",
       "\n",
       "    .dataframe tbody tr th {\n",
       "        vertical-align: top;\n",
       "    }\n",
       "\n",
       "    .dataframe thead th {\n",
       "        text-align: right;\n",
       "    }\n",
       "</style>\n",
       "<table border=\"1\" class=\"dataframe\">\n",
       "  <thead>\n",
       "    <tr style=\"text-align: right;\">\n",
       "      <th></th>\n",
       "      <th>Id</th>\n",
       "      <th>Dataset</th>\n",
       "      <th>Filepath</th>\n",
       "      <th>Filename</th>\n",
       "      <th>Ext</th>\n",
       "      <th>Speaker</th>\n",
       "      <th>Text</th>\n",
       "      <th>Gender</th>\n",
       "      <th>Age</th>\n",
       "      <th>Race</th>\n",
       "      <th>Accent</th>\n",
       "      <th>Intensity/Level</th>\n",
       "      <th>Sentiment</th>\n",
       "      <th>Emotion</th>\n",
       "    </tr>\n",
       "  </thead>\n",
       "  <tbody>\n",
       "    <tr>\n",
       "      <th>0</th>\n",
       "      <td>NaN</td>\n",
       "      <td>ESD</td>\n",
       "      <td>./dataset/esd\\0011\\Neutral\\0011_000001.wav</td>\n",
       "      <td>0011_000001.wav</td>\n",
       "      <td>.wav</td>\n",
       "      <td>Esd_0011</td>\n",
       "      <td>The nine the eggs, I keep.</td>\n",
       "      <td>NaN</td>\n",
       "      <td>NaN</td>\n",
       "      <td>NaN</td>\n",
       "      <td>NaN</td>\n",
       "      <td>NaN</td>\n",
       "      <td>NaN</td>\n",
       "      <td>Neutral</td>\n",
       "    </tr>\n",
       "    <tr>\n",
       "      <th>1</th>\n",
       "      <td>NaN</td>\n",
       "      <td>ESD</td>\n",
       "      <td>./dataset/esd\\0011\\Neutral\\0011_000002.wav</td>\n",
       "      <td>0011_000002.wav</td>\n",
       "      <td>.wav</td>\n",
       "      <td>Esd_0011</td>\n",
       "      <td>I did go, and made many prisoners.</td>\n",
       "      <td>NaN</td>\n",
       "      <td>NaN</td>\n",
       "      <td>NaN</td>\n",
       "      <td>NaN</td>\n",
       "      <td>NaN</td>\n",
       "      <td>NaN</td>\n",
       "      <td>Neutral</td>\n",
       "    </tr>\n",
       "    <tr>\n",
       "      <th>2</th>\n",
       "      <td>NaN</td>\n",
       "      <td>ESD</td>\n",
       "      <td>./dataset/esd\\0011\\Neutral\\0011_000003.wav</td>\n",
       "      <td>0011_000003.wav</td>\n",
       "      <td>.wav</td>\n",
       "      <td>Esd_0011</td>\n",
       "      <td>That I owe my thanks to you.</td>\n",
       "      <td>NaN</td>\n",
       "      <td>NaN</td>\n",
       "      <td>NaN</td>\n",
       "      <td>NaN</td>\n",
       "      <td>NaN</td>\n",
       "      <td>NaN</td>\n",
       "      <td>Neutral</td>\n",
       "    </tr>\n",
       "    <tr>\n",
       "      <th>3</th>\n",
       "      <td>NaN</td>\n",
       "      <td>ESD</td>\n",
       "      <td>./dataset/esd\\0011\\Neutral\\0011_000004.wav</td>\n",
       "      <td>0011_000004.wav</td>\n",
       "      <td>.wav</td>\n",
       "      <td>Esd_0011</td>\n",
       "      <td>They went up to the dark mass job had pointed ...</td>\n",
       "      <td>NaN</td>\n",
       "      <td>NaN</td>\n",
       "      <td>NaN</td>\n",
       "      <td>NaN</td>\n",
       "      <td>NaN</td>\n",
       "      <td>NaN</td>\n",
       "      <td>Neutral</td>\n",
       "    </tr>\n",
       "    <tr>\n",
       "      <th>4</th>\n",
       "      <td>NaN</td>\n",
       "      <td>ESD</td>\n",
       "      <td>./dataset/esd\\0011\\Neutral\\0011_000005.wav</td>\n",
       "      <td>0011_000005.wav</td>\n",
       "      <td>.wav</td>\n",
       "      <td>Esd_0011</td>\n",
       "      <td>Clear than clear water!</td>\n",
       "      <td>NaN</td>\n",
       "      <td>NaN</td>\n",
       "      <td>NaN</td>\n",
       "      <td>NaN</td>\n",
       "      <td>NaN</td>\n",
       "      <td>NaN</td>\n",
       "      <td>Neutral</td>\n",
       "    </tr>\n",
       "  </tbody>\n",
       "</table>\n",
       "</div>"
      ],
      "text/plain": [
       "    Id Dataset                                    Filepath         Filename  \\\n",
       "0  NaN     ESD  ./dataset/esd\\0011\\Neutral\\0011_000001.wav  0011_000001.wav   \n",
       "1  NaN     ESD  ./dataset/esd\\0011\\Neutral\\0011_000002.wav  0011_000002.wav   \n",
       "2  NaN     ESD  ./dataset/esd\\0011\\Neutral\\0011_000003.wav  0011_000003.wav   \n",
       "3  NaN     ESD  ./dataset/esd\\0011\\Neutral\\0011_000004.wav  0011_000004.wav   \n",
       "4  NaN     ESD  ./dataset/esd\\0011\\Neutral\\0011_000005.wav  0011_000005.wav   \n",
       "\n",
       "    Ext   Speaker                                               Text Gender  \\\n",
       "0  .wav  Esd_0011                         The nine the eggs, I keep.    NaN   \n",
       "1  .wav  Esd_0011                 I did go, and made many prisoners.    NaN   \n",
       "2  .wav  Esd_0011                       That I owe my thanks to you.    NaN   \n",
       "3  .wav  Esd_0011  They went up to the dark mass job had pointed ...    NaN   \n",
       "4  .wav  Esd_0011                            Clear than clear water!    NaN   \n",
       "\n",
       "   Age Race Accent Intensity/Level Sentiment  Emotion  \n",
       "0  NaN  NaN    NaN             NaN       NaN  Neutral  \n",
       "1  NaN  NaN    NaN             NaN       NaN  Neutral  \n",
       "2  NaN  NaN    NaN             NaN       NaN  Neutral  \n",
       "3  NaN  NaN    NaN             NaN       NaN  Neutral  \n",
       "4  NaN  NaN    NaN             NaN       NaN  Neutral  "
      ]
     },
     "execution_count": 549,
     "metadata": {},
     "output_type": "execute_result"
    }
   ],
   "source": [
    "esd_df.head()"
   ]
  },
  {
   "cell_type": "markdown",
   "id": "70fc88d9",
   "metadata": {},
   "source": [
    "### 8) JL Corpus\n",
    "> https://www.kaggle.com/datasets/tli725/jl-corpus\n",
    "\n",
    "- Labels in Filename\n",
    "```\n",
    "File naming rule: (Gender)(speaker.ID)_(Emotion)_(Sentence.ID)(session.ID)\n",
    "```"
   ]
  },
  {
   "cell_type": "code",
   "execution_count": 550,
   "id": "5916795a",
   "metadata": {
    "ExecuteTime": {
     "end_time": "2023-11-01T02:37:26.674342Z",
     "start_time": "2023-11-01T02:37:26.662549Z"
    }
   },
   "outputs": [
    {
     "name": "stdout",
     "output_type": "stream",
     "text": [
      "['female1_angry_10a_1.txt', 'female1_angry_10a_1.wav', 'female1_angry_10a_2.txt', 'female1_angry_10a_2.wav', 'female1_angry_10b_1.txt']\n"
     ]
    }
   ],
   "source": [
    "jl_dir = './dataset/jl-corpus/Raw JL corpus (unchecked and unannotated)/JL(wav+txt)'\n",
    "print(os.listdir(jl_dir)[:5])"
   ]
  },
  {
   "cell_type": "code",
   "execution_count": 551,
   "id": "0229fb85",
   "metadata": {
    "ExecuteTime": {
     "end_time": "2023-11-01T02:37:26.943652Z",
     "start_time": "2023-11-01T02:37:26.913973Z"
    }
   },
   "outputs": [],
   "source": [
    "jl_filename = os.listdir(jl_dir)\n",
    "jl_filename = [fn for fn in jl_filename if os.path.splitext(fn)[1] == '.wav']\n",
    "jl_filepath = glob.glob(os.path.join(jl_dir, \"*.wav\"))"
   ]
  },
  {
   "cell_type": "code",
   "execution_count": 552,
   "id": "93d64a76",
   "metadata": {
    "ExecuteTime": {
     "end_time": "2023-11-01T02:37:27.178445Z",
     "start_time": "2023-11-01T02:37:27.161920Z"
    }
   },
   "outputs": [
    {
     "name": "stdout",
     "output_type": "stream",
     "text": [
      "The Number of JL-Corpus Dataset: 2400\n"
     ]
    }
   ],
   "source": [
    "jl_count = len(jl_filename)\n",
    "print(\"The Number of JL-Corpus Dataset:\", jl_count)"
   ]
  },
  {
   "cell_type": "code",
   "execution_count": 553,
   "id": "f5fe418d",
   "metadata": {
    "ExecuteTime": {
     "end_time": "2023-11-01T02:37:27.525294Z",
     "start_time": "2023-11-01T02:37:27.362998Z"
    }
   },
   "outputs": [],
   "source": [
    "jl_ext = []\n",
    "jl_emotion = []\n",
    "jl_gender = []\n",
    "jl_speaker = []\n",
    "jl_text = []\n",
    "emotion_list = {\"angry\":\"Anger\", \"anxious\":\"Anxious\", \"apologetic\":\"Apologetic\", \"assertive\":\"Assertive\", \"concerned\":\"Concerned\", \n",
    "                \"encouraging\":\"Encouraging\", \"excited\":\"Excited\", \"happy\":\"Happy\", \"neutral\":\"Neutral\", \"sad\":\"Sad\"}\n",
    "gender_list = {\"female1\":\"Female\", \"female2\":\"Female\", \"male1\":\"Male\", \"male2\":\"Male\"}\n",
    "for i in range(jl_count):\n",
    "    name, ext = os.path.splitext(jl_filename[i])\n",
    "    fn_list = jl_filename[i].split(\"_\")\n",
    "    \n",
    "    speaker = \"Jlcorpus_\" + fn_list[0]\n",
    "    gender = gender_list[fn_list[0]]\n",
    "    emotion = emotion_list[fn_list[1]]\n",
    "    \n",
    "    text = ''\n",
    "    with open(os.path.join(jl_dir, name + \".txt\"), \"r\") as f:\n",
    "        for line in f:\n",
    "            text += line\n",
    "\n",
    "    jl_text.append(text)\n",
    "    jl_ext.append(ext)\n",
    "    jl_emotion.append(emotion)\n",
    "    jl_gender.append(gender)\n",
    "    jl_speaker.append(speaker)"
   ]
  },
  {
   "cell_type": "code",
   "execution_count": 554,
   "id": "56887d02",
   "metadata": {
    "ExecuteTime": {
     "end_time": "2023-11-01T02:37:27.628494Z",
     "start_time": "2023-11-01T02:37:27.612591Z"
    }
   },
   "outputs": [
    {
     "name": "stdout",
     "output_type": "stream",
     "text": [
      "['Anger' 'Anxious' 'Apologetic' 'Assertive' 'Concerned' 'Encouraging'\n",
      " 'Excited' 'Happy' 'Neutral' 'Sad']\n"
     ]
    }
   ],
   "source": [
    "print(np.unique(jl_emotion))"
   ]
  },
  {
   "cell_type": "code",
   "execution_count": 555,
   "id": "c8f88d06",
   "metadata": {
    "ExecuteTime": {
     "end_time": "2023-11-01T02:37:27.893103Z",
     "start_time": "2023-11-01T02:37:27.877912Z"
    }
   },
   "outputs": [],
   "source": [
    "jl_df = pd.DataFrame(index = range(0, jl_count), \n",
    "                  columns = ['Id', 'Dataset', 'Filepath', 'Filename', 'Ext', 'Speaker', 'Text', \n",
    "                             'Gender', 'Age', 'Race', 'Accent', 'Intensity/Level', 'Sentiment', 'Emotion'])"
   ]
  },
  {
   "cell_type": "code",
   "execution_count": 556,
   "id": "61003010",
   "metadata": {
    "ExecuteTime": {
     "end_time": "2023-11-01T02:37:28.178573Z",
     "start_time": "2023-11-01T02:37:28.163916Z"
    }
   },
   "outputs": [],
   "source": [
    "jl_df['Dataset'] = ['JL-CORPUS'] * jl_count\n",
    "jl_df['Filepath'] = jl_filepath\n",
    "jl_df['Filename'] = jl_filename\n",
    "jl_df['Ext'] = jl_ext\n",
    "jl_df['Speaker'] = jl_speaker\n",
    "jl_df['Text'] = jl_text\n",
    "jl_df['Gender'] = jl_gender\n",
    "jl_df['Emotion'] = jl_emotion"
   ]
  },
  {
   "cell_type": "code",
   "execution_count": 557,
   "id": "ae06bd66",
   "metadata": {
    "ExecuteTime": {
     "end_time": "2023-11-01T02:37:28.511865Z",
     "start_time": "2023-11-01T02:37:28.480898Z"
    }
   },
   "outputs": [
    {
     "data": {
      "text/html": [
       "<div>\n",
       "<style scoped>\n",
       "    .dataframe tbody tr th:only-of-type {\n",
       "        vertical-align: middle;\n",
       "    }\n",
       "\n",
       "    .dataframe tbody tr th {\n",
       "        vertical-align: top;\n",
       "    }\n",
       "\n",
       "    .dataframe thead th {\n",
       "        text-align: right;\n",
       "    }\n",
       "</style>\n",
       "<table border=\"1\" class=\"dataframe\">\n",
       "  <thead>\n",
       "    <tr style=\"text-align: right;\">\n",
       "      <th></th>\n",
       "      <th>Id</th>\n",
       "      <th>Dataset</th>\n",
       "      <th>Filepath</th>\n",
       "      <th>Filename</th>\n",
       "      <th>Ext</th>\n",
       "      <th>Speaker</th>\n",
       "      <th>Text</th>\n",
       "      <th>Gender</th>\n",
       "      <th>Age</th>\n",
       "      <th>Race</th>\n",
       "      <th>Accent</th>\n",
       "      <th>Intensity/Level</th>\n",
       "      <th>Sentiment</th>\n",
       "      <th>Emotion</th>\n",
       "    </tr>\n",
       "  </thead>\n",
       "  <tbody>\n",
       "    <tr>\n",
       "      <th>0</th>\n",
       "      <td>NaN</td>\n",
       "      <td>JL-CORPUS</td>\n",
       "      <td>./dataset/jl-corpus/Raw JL corpus (unchecked a...</td>\n",
       "      <td>female1_angry_10a_1.wav</td>\n",
       "      <td>.wav</td>\n",
       "      <td>Jlcorpus_female1</td>\n",
       "      <td>Water harms the new born boy.</td>\n",
       "      <td>Female</td>\n",
       "      <td>NaN</td>\n",
       "      <td>NaN</td>\n",
       "      <td>NaN</td>\n",
       "      <td>NaN</td>\n",
       "      <td>NaN</td>\n",
       "      <td>Anger</td>\n",
       "    </tr>\n",
       "    <tr>\n",
       "      <th>1</th>\n",
       "      <td>NaN</td>\n",
       "      <td>JL-CORPUS</td>\n",
       "      <td>./dataset/jl-corpus/Raw JL corpus (unchecked a...</td>\n",
       "      <td>female1_angry_10a_2.wav</td>\n",
       "      <td>.wav</td>\n",
       "      <td>Jlcorpus_female1</td>\n",
       "      <td>Water harms the new born boy.</td>\n",
       "      <td>Female</td>\n",
       "      <td>NaN</td>\n",
       "      <td>NaN</td>\n",
       "      <td>NaN</td>\n",
       "      <td>NaN</td>\n",
       "      <td>NaN</td>\n",
       "      <td>Anger</td>\n",
       "    </tr>\n",
       "    <tr>\n",
       "      <th>2</th>\n",
       "      <td>NaN</td>\n",
       "      <td>JL-CORPUS</td>\n",
       "      <td>./dataset/jl-corpus/Raw JL corpus (unchecked a...</td>\n",
       "      <td>female1_angry_10b_1.wav</td>\n",
       "      <td>.wav</td>\n",
       "      <td>Jlcorpus_female1</td>\n",
       "      <td>Water harms the new born boy.</td>\n",
       "      <td>Female</td>\n",
       "      <td>NaN</td>\n",
       "      <td>NaN</td>\n",
       "      <td>NaN</td>\n",
       "      <td>NaN</td>\n",
       "      <td>NaN</td>\n",
       "      <td>Anger</td>\n",
       "    </tr>\n",
       "    <tr>\n",
       "      <th>3</th>\n",
       "      <td>NaN</td>\n",
       "      <td>JL-CORPUS</td>\n",
       "      <td>./dataset/jl-corpus/Raw JL corpus (unchecked a...</td>\n",
       "      <td>female1_angry_10b_2.wav</td>\n",
       "      <td>.wav</td>\n",
       "      <td>Jlcorpus_female1</td>\n",
       "      <td>Water harms the new born boy.</td>\n",
       "      <td>Female</td>\n",
       "      <td>NaN</td>\n",
       "      <td>NaN</td>\n",
       "      <td>NaN</td>\n",
       "      <td>NaN</td>\n",
       "      <td>NaN</td>\n",
       "      <td>Anger</td>\n",
       "    </tr>\n",
       "    <tr>\n",
       "      <th>4</th>\n",
       "      <td>NaN</td>\n",
       "      <td>JL-CORPUS</td>\n",
       "      <td>./dataset/jl-corpus/Raw JL corpus (unchecked a...</td>\n",
       "      <td>female1_angry_11a_1.wav</td>\n",
       "      <td>.wav</td>\n",
       "      <td>Jlcorpus_female1</td>\n",
       "      <td>I have not seen my tooth.</td>\n",
       "      <td>Female</td>\n",
       "      <td>NaN</td>\n",
       "      <td>NaN</td>\n",
       "      <td>NaN</td>\n",
       "      <td>NaN</td>\n",
       "      <td>NaN</td>\n",
       "      <td>Anger</td>\n",
       "    </tr>\n",
       "  </tbody>\n",
       "</table>\n",
       "</div>"
      ],
      "text/plain": [
       "    Id    Dataset                                           Filepath  \\\n",
       "0  NaN  JL-CORPUS  ./dataset/jl-corpus/Raw JL corpus (unchecked a...   \n",
       "1  NaN  JL-CORPUS  ./dataset/jl-corpus/Raw JL corpus (unchecked a...   \n",
       "2  NaN  JL-CORPUS  ./dataset/jl-corpus/Raw JL corpus (unchecked a...   \n",
       "3  NaN  JL-CORPUS  ./dataset/jl-corpus/Raw JL corpus (unchecked a...   \n",
       "4  NaN  JL-CORPUS  ./dataset/jl-corpus/Raw JL corpus (unchecked a...   \n",
       "\n",
       "                  Filename   Ext           Speaker  \\\n",
       "0  female1_angry_10a_1.wav  .wav  Jlcorpus_female1   \n",
       "1  female1_angry_10a_2.wav  .wav  Jlcorpus_female1   \n",
       "2  female1_angry_10b_1.wav  .wav  Jlcorpus_female1   \n",
       "3  female1_angry_10b_2.wav  .wav  Jlcorpus_female1   \n",
       "4  female1_angry_11a_1.wav  .wav  Jlcorpus_female1   \n",
       "\n",
       "                            Text  Gender  Age Race Accent Intensity/Level  \\\n",
       "0  Water harms the new born boy.  Female  NaN  NaN    NaN             NaN   \n",
       "1  Water harms the new born boy.  Female  NaN  NaN    NaN             NaN   \n",
       "2  Water harms the new born boy.  Female  NaN  NaN    NaN             NaN   \n",
       "3  Water harms the new born boy.  Female  NaN  NaN    NaN             NaN   \n",
       "4      I have not seen my tooth.  Female  NaN  NaN    NaN             NaN   \n",
       "\n",
       "  Sentiment Emotion  \n",
       "0       NaN   Anger  \n",
       "1       NaN   Anger  \n",
       "2       NaN   Anger  \n",
       "3       NaN   Anger  \n",
       "4       NaN   Anger  "
      ]
     },
     "execution_count": 557,
     "metadata": {},
     "output_type": "execute_result"
    }
   ],
   "source": [
    "jl_df.head()"
   ]
  },
  {
   "cell_type": "markdown",
   "id": "89a75bbe",
   "metadata": {},
   "source": [
    "# Additional preprocessing\n",
    "\n",
    "The first thing to enhance the quality of our dataset is to handle the repetitions, and intenisty levels. As not all datasets have them, repetitions of the same thing with the same emotion (including different levels of emotion) might lead to bias, thus we decide to simplify the data, by removing repeatitions, and select only one intensisty level."
   ]
  },
  {
   "cell_type": "code",
   "execution_count": 558,
   "id": "fd674165",
   "metadata": {},
   "outputs": [
    {
     "data": {
      "text/html": [
       "<div>\n",
       "<style scoped>\n",
       "    .dataframe tbody tr th:only-of-type {\n",
       "        vertical-align: middle;\n",
       "    }\n",
       "\n",
       "    .dataframe tbody tr th {\n",
       "        vertical-align: top;\n",
       "    }\n",
       "\n",
       "    .dataframe thead th {\n",
       "        text-align: right;\n",
       "    }\n",
       "</style>\n",
       "<table border=\"1\" class=\"dataframe\">\n",
       "  <thead>\n",
       "    <tr style=\"text-align: right;\">\n",
       "      <th></th>\n",
       "      <th>Emotion</th>\n",
       "      <th>Count</th>\n",
       "    </tr>\n",
       "  </thead>\n",
       "  <tbody>\n",
       "    <tr>\n",
       "      <th>0</th>\n",
       "      <td>Neutral</td>\n",
       "      <td>10153</td>\n",
       "    </tr>\n",
       "    <tr>\n",
       "      <th>1</th>\n",
       "      <td>Happy</td>\n",
       "      <td>7406</td>\n",
       "    </tr>\n",
       "    <tr>\n",
       "      <th>2</th>\n",
       "      <td>Anger</td>\n",
       "      <td>6772</td>\n",
       "    </tr>\n",
       "    <tr>\n",
       "      <th>3</th>\n",
       "      <td>Sad</td>\n",
       "      <td>6346</td>\n",
       "    </tr>\n",
       "    <tr>\n",
       "      <th>4</th>\n",
       "      <td>Surprise</td>\n",
       "      <td>5357</td>\n",
       "    </tr>\n",
       "    <tr>\n",
       "      <th>5</th>\n",
       "      <td>Disgust</td>\n",
       "      <td>2194</td>\n",
       "    </tr>\n",
       "    <tr>\n",
       "      <th>6</th>\n",
       "      <td>Fear</td>\n",
       "      <td>2191</td>\n",
       "    </tr>\n",
       "    <tr>\n",
       "      <th>7</th>\n",
       "      <td>Anxious</td>\n",
       "      <td>240</td>\n",
       "    </tr>\n",
       "    <tr>\n",
       "      <th>8</th>\n",
       "      <td>Apologetic</td>\n",
       "      <td>240</td>\n",
       "    </tr>\n",
       "    <tr>\n",
       "      <th>9</th>\n",
       "      <td>Assertive</td>\n",
       "      <td>240</td>\n",
       "    </tr>\n",
       "    <tr>\n",
       "      <th>10</th>\n",
       "      <td>Concerned</td>\n",
       "      <td>240</td>\n",
       "    </tr>\n",
       "    <tr>\n",
       "      <th>11</th>\n",
       "      <td>Encouraging</td>\n",
       "      <td>240</td>\n",
       "    </tr>\n",
       "    <tr>\n",
       "      <th>12</th>\n",
       "      <td>Excited</td>\n",
       "      <td>240</td>\n",
       "    </tr>\n",
       "    <tr>\n",
       "      <th>13</th>\n",
       "      <td>Calm</td>\n",
       "      <td>192</td>\n",
       "    </tr>\n",
       "  </tbody>\n",
       "</table>\n",
       "</div>"
      ],
      "text/plain": [
       "        Emotion  Count\n",
       "0       Neutral  10153\n",
       "1         Happy   7406\n",
       "2         Anger   6772\n",
       "3           Sad   6346\n",
       "4      Surprise   5357\n",
       "5       Disgust   2194\n",
       "6          Fear   2191\n",
       "7       Anxious    240\n",
       "8    Apologetic    240\n",
       "9     Assertive    240\n",
       "10    Concerned    240\n",
       "11  Encouraging    240\n",
       "12      Excited    240\n",
       "13         Calm    192"
      ]
     },
     "execution_count": 558,
     "metadata": {},
     "output_type": "execute_result"
    }
   ],
   "source": [
    "all_datasets = pd.concat([crema_df, meld_df, rav_df, savee_df, tess_df, esd_df, jl_df])\n",
    "emotion_counts = all_datasets['Emotion'].value_counts()\n",
    "emotion_df = pd.DataFrame({'Emotion': emotion_counts.index, 'Count': emotion_counts.values})\n",
    "emotion_df = emotion_df.sort_values(by='Count', ascending=False)\n",
    "emotion_df"
   ]
  },
  {
   "cell_type": "code",
   "execution_count": 559,
   "id": "3301a737",
   "metadata": {},
   "outputs": [],
   "source": [
    "crema_df = crema_df[crema_df['Intensity/Level'] == 'Unspecified']\n",
    "meld_df  = meld_df\n",
    "rav_df   = rav_df[rav_df['Intensity/Level'] == 'Medium']\n",
    "rav_df   = rav_df[::2]\n",
    "savee_df = savee_df\n",
    "tess_df  = tess_df\n",
    "esd_df   = esd_df\n",
    "jl_df    = jl_df[::4]"
   ]
  },
  {
   "cell_type": "code",
   "execution_count": 560,
   "metadata": {},
   "outputs": [
    {
     "data": {
      "text/html": [
       "<div>\n",
       "<style scoped>\n",
       "    .dataframe tbody tr th:only-of-type {\n",
       "        vertical-align: middle;\n",
       "    }\n",
       "\n",
       "    .dataframe tbody tr th {\n",
       "        vertical-align: top;\n",
       "    }\n",
       "\n",
       "    .dataframe thead th {\n",
       "        text-align: right;\n",
       "    }\n",
       "</style>\n",
       "<table border=\"1\" class=\"dataframe\">\n",
       "  <thead>\n",
       "    <tr style=\"text-align: right;\">\n",
       "      <th></th>\n",
       "      <th>Emotion</th>\n",
       "      <th>Count</th>\n",
       "    </tr>\n",
       "  </thead>\n",
       "  <tbody>\n",
       "    <tr>\n",
       "      <th>0</th>\n",
       "      <td>Neutral</td>\n",
       "      <td>9925</td>\n",
       "    </tr>\n",
       "    <tr>\n",
       "      <th>1</th>\n",
       "      <td>Happy</td>\n",
       "      <td>6809</td>\n",
       "    </tr>\n",
       "    <tr>\n",
       "      <th>2</th>\n",
       "      <td>Anger</td>\n",
       "      <td>6175</td>\n",
       "    </tr>\n",
       "    <tr>\n",
       "      <th>3</th>\n",
       "      <td>Sad</td>\n",
       "      <td>5749</td>\n",
       "    </tr>\n",
       "    <tr>\n",
       "      <th>4</th>\n",
       "      <td>Surprise</td>\n",
       "      <td>5213</td>\n",
       "    </tr>\n",
       "    <tr>\n",
       "      <th>5</th>\n",
       "      <td>Disgust</td>\n",
       "      <td>1777</td>\n",
       "    </tr>\n",
       "    <tr>\n",
       "      <th>6</th>\n",
       "      <td>Fear</td>\n",
       "      <td>1774</td>\n",
       "    </tr>\n",
       "    <tr>\n",
       "      <th>7</th>\n",
       "      <td>Anxious</td>\n",
       "      <td>60</td>\n",
       "    </tr>\n",
       "    <tr>\n",
       "      <th>8</th>\n",
       "      <td>Apologetic</td>\n",
       "      <td>60</td>\n",
       "    </tr>\n",
       "    <tr>\n",
       "      <th>9</th>\n",
       "      <td>Assertive</td>\n",
       "      <td>60</td>\n",
       "    </tr>\n",
       "    <tr>\n",
       "      <th>10</th>\n",
       "      <td>Concerned</td>\n",
       "      <td>60</td>\n",
       "    </tr>\n",
       "    <tr>\n",
       "      <th>11</th>\n",
       "      <td>Encouraging</td>\n",
       "      <td>60</td>\n",
       "    </tr>\n",
       "    <tr>\n",
       "      <th>12</th>\n",
       "      <td>Excited</td>\n",
       "      <td>60</td>\n",
       "    </tr>\n",
       "    <tr>\n",
       "      <th>13</th>\n",
       "      <td>Calm</td>\n",
       "      <td>48</td>\n",
       "    </tr>\n",
       "  </tbody>\n",
       "</table>\n",
       "</div>"
      ],
      "text/plain": [
       "        Emotion  Count\n",
       "0       Neutral   9925\n",
       "1         Happy   6809\n",
       "2         Anger   6175\n",
       "3           Sad   5749\n",
       "4      Surprise   5213\n",
       "5       Disgust   1777\n",
       "6          Fear   1774\n",
       "7       Anxious     60\n",
       "8    Apologetic     60\n",
       "9     Assertive     60\n",
       "10    Concerned     60\n",
       "11  Encouraging     60\n",
       "12      Excited     60\n",
       "13         Calm     48"
      ]
     },
     "execution_count": 560,
     "metadata": {},
     "output_type": "execute_result"
    }
   ],
   "source": [
    "all_datasets = pd.concat([crema_df, meld_df, rav_df, savee_df, tess_df, esd_df, jl_df])\n",
    "emotion_counts = all_datasets['Emotion'].value_counts()\n",
    "emotion_df = pd.DataFrame({'Emotion': emotion_counts.index, 'Count': emotion_counts.values})\n",
    "emotion_df = emotion_df.sort_values(by='Count', ascending=False)\n",
    "emotion_df"
   ]
  },
  {
   "cell_type": "markdown",
   "id": "f56c577f",
   "metadata": {},
   "source": [
    "The next step is the emotion selection. As we can see, some of them are heavily underrepresented. The main question is if we want to limit ourselves to top 5 or top 7 emotions, as the last 2 groups have 3 times less observations, which might lead to performance issues."
   ]
  },
  {
   "cell_type": "code",
   "execution_count": 561,
   "id": "a878b917",
   "metadata": {},
   "outputs": [],
   "source": [
    "crema_df = crema_df\n",
    "meld_df  = meld_df\n",
    "rav_df   = rav_df[rav_df['Emotion'] != 'Calm']\n",
    "savee_df = savee_df\n",
    "tess_df  = tess_df\n",
    "esd_df   = esd_df\n",
    "jl_df    = jl_df[~jl_df.Emotion.isin(['Anxious', 'Apologetic', 'Concerned', 'Encouraging', 'Assertive', 'Excited'])]"
   ]
  },
  {
   "cell_type": "code",
   "execution_count": 562,
   "id": "cb754788",
   "metadata": {},
   "outputs": [
    {
     "data": {
      "text/html": [
       "<div>\n",
       "<style scoped>\n",
       "    .dataframe tbody tr th:only-of-type {\n",
       "        vertical-align: middle;\n",
       "    }\n",
       "\n",
       "    .dataframe tbody tr th {\n",
       "        vertical-align: top;\n",
       "    }\n",
       "\n",
       "    .dataframe thead th {\n",
       "        text-align: right;\n",
       "    }\n",
       "</style>\n",
       "<table border=\"1\" class=\"dataframe\">\n",
       "  <thead>\n",
       "    <tr style=\"text-align: right;\">\n",
       "      <th></th>\n",
       "      <th>Emotion</th>\n",
       "      <th>Count</th>\n",
       "    </tr>\n",
       "  </thead>\n",
       "  <tbody>\n",
       "    <tr>\n",
       "      <th>0</th>\n",
       "      <td>Neutral</td>\n",
       "      <td>9925</td>\n",
       "    </tr>\n",
       "    <tr>\n",
       "      <th>1</th>\n",
       "      <td>Happy</td>\n",
       "      <td>6809</td>\n",
       "    </tr>\n",
       "    <tr>\n",
       "      <th>2</th>\n",
       "      <td>Anger</td>\n",
       "      <td>6175</td>\n",
       "    </tr>\n",
       "    <tr>\n",
       "      <th>3</th>\n",
       "      <td>Sad</td>\n",
       "      <td>5749</td>\n",
       "    </tr>\n",
       "    <tr>\n",
       "      <th>4</th>\n",
       "      <td>Surprise</td>\n",
       "      <td>5213</td>\n",
       "    </tr>\n",
       "    <tr>\n",
       "      <th>5</th>\n",
       "      <td>Disgust</td>\n",
       "      <td>1777</td>\n",
       "    </tr>\n",
       "    <tr>\n",
       "      <th>6</th>\n",
       "      <td>Fear</td>\n",
       "      <td>1774</td>\n",
       "    </tr>\n",
       "  </tbody>\n",
       "</table>\n",
       "</div>"
      ],
      "text/plain": [
       "    Emotion  Count\n",
       "0   Neutral   9925\n",
       "1     Happy   6809\n",
       "2     Anger   6175\n",
       "3       Sad   5749\n",
       "4  Surprise   5213\n",
       "5   Disgust   1777\n",
       "6      Fear   1774"
      ]
     },
     "execution_count": 562,
     "metadata": {},
     "output_type": "execute_result"
    }
   ],
   "source": [
    "all_datasets = pd.concat([crema_df, meld_df,  rav_df, savee_df, tess_df, esd_df, jl_df])\n",
    "emotion_counts = all_datasets['Emotion'].value_counts()\n",
    "emotion_df = pd.DataFrame({'Emotion': emotion_counts.index, 'Count': emotion_counts.values})\n",
    "emotion_df = emotion_df.sort_values(by='Count', ascending=False)\n",
    "emotion_df"
   ]
  },
  {
   "cell_type": "markdown",
   "id": "1e592482",
   "metadata": {},
   "source": [
    "# 2. Make Dataframe"
   ]
  },
  {
   "cell_type": "code",
   "execution_count": 563,
   "id": "432efbda",
   "metadata": {
    "ExecuteTime": {
     "end_time": "2023-11-01T02:37:29.658813Z",
     "start_time": "2023-11-01T02:37:29.479816Z"
    }
   },
   "outputs": [
    {
     "data": {
      "text/html": [
       "<div>\n",
       "<style scoped>\n",
       "    .dataframe tbody tr th:only-of-type {\n",
       "        vertical-align: middle;\n",
       "    }\n",
       "\n",
       "    .dataframe tbody tr th {\n",
       "        vertical-align: top;\n",
       "    }\n",
       "\n",
       "    .dataframe thead th {\n",
       "        text-align: right;\n",
       "    }\n",
       "</style>\n",
       "<table border=\"1\" class=\"dataframe\">\n",
       "  <thead>\n",
       "    <tr style=\"text-align: right;\">\n",
       "      <th></th>\n",
       "      <th>Id</th>\n",
       "      <th>Dataset</th>\n",
       "      <th>Filepath</th>\n",
       "      <th>Filename</th>\n",
       "      <th>Ext</th>\n",
       "      <th>Speaker</th>\n",
       "      <th>Text</th>\n",
       "      <th>Gender</th>\n",
       "      <th>Age</th>\n",
       "      <th>Race</th>\n",
       "      <th>Accent</th>\n",
       "      <th>Intensity/Level</th>\n",
       "      <th>Sentiment</th>\n",
       "      <th>Emotion</th>\n",
       "    </tr>\n",
       "  </thead>\n",
       "  <tbody>\n",
       "    <tr>\n",
       "      <th>0</th>\n",
       "      <td>NaN</td>\n",
       "      <td>CREMA-D</td>\n",
       "      <td>./dataset/crema-d\\AudioWAV\\1001_DFA_ANG_XX.wav</td>\n",
       "      <td>1001_DFA_ANG_XX.wav</td>\n",
       "      <td>.wav</td>\n",
       "      <td>Crema_1001</td>\n",
       "      <td>Don't forget a jacket</td>\n",
       "      <td>Male</td>\n",
       "      <td>51</td>\n",
       "      <td>Caucasian</td>\n",
       "      <td>Not Hispanic</td>\n",
       "      <td>Unspecified</td>\n",
       "      <td>NaN</td>\n",
       "      <td>Anger</td>\n",
       "    </tr>\n",
       "    <tr>\n",
       "      <th>1</th>\n",
       "      <td>NaN</td>\n",
       "      <td>CREMA-D</td>\n",
       "      <td>./dataset/crema-d\\AudioWAV\\1001_DFA_DIS_XX.wav</td>\n",
       "      <td>1001_DFA_DIS_XX.wav</td>\n",
       "      <td>.wav</td>\n",
       "      <td>Crema_1001</td>\n",
       "      <td>Don't forget a jacket</td>\n",
       "      <td>Male</td>\n",
       "      <td>51</td>\n",
       "      <td>Caucasian</td>\n",
       "      <td>Not Hispanic</td>\n",
       "      <td>Unspecified</td>\n",
       "      <td>NaN</td>\n",
       "      <td>Disgust</td>\n",
       "    </tr>\n",
       "    <tr>\n",
       "      <th>2</th>\n",
       "      <td>NaN</td>\n",
       "      <td>CREMA-D</td>\n",
       "      <td>./dataset/crema-d\\AudioWAV\\1001_DFA_FEA_XX.wav</td>\n",
       "      <td>1001_DFA_FEA_XX.wav</td>\n",
       "      <td>.wav</td>\n",
       "      <td>Crema_1001</td>\n",
       "      <td>Don't forget a jacket</td>\n",
       "      <td>Male</td>\n",
       "      <td>51</td>\n",
       "      <td>Caucasian</td>\n",
       "      <td>Not Hispanic</td>\n",
       "      <td>Unspecified</td>\n",
       "      <td>NaN</td>\n",
       "      <td>Fear</td>\n",
       "    </tr>\n",
       "    <tr>\n",
       "      <th>3</th>\n",
       "      <td>NaN</td>\n",
       "      <td>CREMA-D</td>\n",
       "      <td>./dataset/crema-d\\AudioWAV\\1001_DFA_HAP_XX.wav</td>\n",
       "      <td>1001_DFA_HAP_XX.wav</td>\n",
       "      <td>.wav</td>\n",
       "      <td>Crema_1001</td>\n",
       "      <td>Don't forget a jacket</td>\n",
       "      <td>Male</td>\n",
       "      <td>51</td>\n",
       "      <td>Caucasian</td>\n",
       "      <td>Not Hispanic</td>\n",
       "      <td>Unspecified</td>\n",
       "      <td>NaN</td>\n",
       "      <td>Happy</td>\n",
       "    </tr>\n",
       "    <tr>\n",
       "      <th>4</th>\n",
       "      <td>NaN</td>\n",
       "      <td>CREMA-D</td>\n",
       "      <td>./dataset/crema-d\\AudioWAV\\1001_DFA_NEU_XX.wav</td>\n",
       "      <td>1001_DFA_NEU_XX.wav</td>\n",
       "      <td>.wav</td>\n",
       "      <td>Crema_1001</td>\n",
       "      <td>Don't forget a jacket</td>\n",
       "      <td>Male</td>\n",
       "      <td>51</td>\n",
       "      <td>Caucasian</td>\n",
       "      <td>Not Hispanic</td>\n",
       "      <td>Unspecified</td>\n",
       "      <td>NaN</td>\n",
       "      <td>Neutral</td>\n",
       "    </tr>\n",
       "    <tr>\n",
       "      <th>...</th>\n",
       "      <td>...</td>\n",
       "      <td>...</td>\n",
       "      <td>...</td>\n",
       "      <td>...</td>\n",
       "      <td>...</td>\n",
       "      <td>...</td>\n",
       "      <td>...</td>\n",
       "      <td>...</td>\n",
       "      <td>...</td>\n",
       "      <td>...</td>\n",
       "      <td>...</td>\n",
       "      <td>...</td>\n",
       "      <td>...</td>\n",
       "      <td>...</td>\n",
       "    </tr>\n",
       "    <tr>\n",
       "      <th>37417</th>\n",
       "      <td>NaN</td>\n",
       "      <td>JL-CORPUS</td>\n",
       "      <td>./dataset/jl-corpus/Raw JL corpus (unchecked a...</td>\n",
       "      <td>male2_sad_5a_1.wav</td>\n",
       "      <td>.wav</td>\n",
       "      <td>Jlcorpus_male2</td>\n",
       "      <td>The lord swims in the sea.</td>\n",
       "      <td>Male</td>\n",
       "      <td>NaN</td>\n",
       "      <td>NaN</td>\n",
       "      <td>NaN</td>\n",
       "      <td>NaN</td>\n",
       "      <td>NaN</td>\n",
       "      <td>Sad</td>\n",
       "    </tr>\n",
       "    <tr>\n",
       "      <th>37418</th>\n",
       "      <td>NaN</td>\n",
       "      <td>JL-CORPUS</td>\n",
       "      <td>./dataset/jl-corpus/Raw JL corpus (unchecked a...</td>\n",
       "      <td>male2_sad_6a_1.wav</td>\n",
       "      <td>.wav</td>\n",
       "      <td>Jlcorpus_male2</td>\n",
       "      <td>Jack views an art piece.</td>\n",
       "      <td>Male</td>\n",
       "      <td>NaN</td>\n",
       "      <td>NaN</td>\n",
       "      <td>NaN</td>\n",
       "      <td>NaN</td>\n",
       "      <td>NaN</td>\n",
       "      <td>Sad</td>\n",
       "    </tr>\n",
       "    <tr>\n",
       "      <th>37419</th>\n",
       "      <td>NaN</td>\n",
       "      <td>JL-CORPUS</td>\n",
       "      <td>./dataset/jl-corpus/Raw JL corpus (unchecked a...</td>\n",
       "      <td>male2_sad_7a_1.wav</td>\n",
       "      <td>.wav</td>\n",
       "      <td>Jlcorpus_male2</td>\n",
       "      <td>Carl leaps into a jeep.</td>\n",
       "      <td>Male</td>\n",
       "      <td>NaN</td>\n",
       "      <td>NaN</td>\n",
       "      <td>NaN</td>\n",
       "      <td>NaN</td>\n",
       "      <td>NaN</td>\n",
       "      <td>Sad</td>\n",
       "    </tr>\n",
       "    <tr>\n",
       "      <th>37420</th>\n",
       "      <td>NaN</td>\n",
       "      <td>JL-CORPUS</td>\n",
       "      <td>./dataset/jl-corpus/Raw JL corpus (unchecked a...</td>\n",
       "      <td>male2_sad_8a_1.wav</td>\n",
       "      <td>.wav</td>\n",
       "      <td>Jlcorpus_male2</td>\n",
       "      <td>Linda asks for more darts.</td>\n",
       "      <td>Male</td>\n",
       "      <td>NaN</td>\n",
       "      <td>NaN</td>\n",
       "      <td>NaN</td>\n",
       "      <td>NaN</td>\n",
       "      <td>NaN</td>\n",
       "      <td>Sad</td>\n",
       "    </tr>\n",
       "    <tr>\n",
       "      <th>37421</th>\n",
       "      <td>NaN</td>\n",
       "      <td>JL-CORPUS</td>\n",
       "      <td>./dataset/jl-corpus/Raw JL corpus (unchecked a...</td>\n",
       "      <td>male2_sad_9a_1.wav</td>\n",
       "      <td>.wav</td>\n",
       "      <td>Jlcorpus_male2</td>\n",
       "      <td>Find your boot in this shute.</td>\n",
       "      <td>Male</td>\n",
       "      <td>NaN</td>\n",
       "      <td>NaN</td>\n",
       "      <td>NaN</td>\n",
       "      <td>NaN</td>\n",
       "      <td>NaN</td>\n",
       "      <td>Sad</td>\n",
       "    </tr>\n",
       "  </tbody>\n",
       "</table>\n",
       "<p>37422 rows × 14 columns</p>\n",
       "</div>"
      ],
      "text/plain": [
       "        Id    Dataset                                           Filepath  \\\n",
       "0      NaN    CREMA-D     ./dataset/crema-d\\AudioWAV\\1001_DFA_ANG_XX.wav   \n",
       "1      NaN    CREMA-D     ./dataset/crema-d\\AudioWAV\\1001_DFA_DIS_XX.wav   \n",
       "2      NaN    CREMA-D     ./dataset/crema-d\\AudioWAV\\1001_DFA_FEA_XX.wav   \n",
       "3      NaN    CREMA-D     ./dataset/crema-d\\AudioWAV\\1001_DFA_HAP_XX.wav   \n",
       "4      NaN    CREMA-D     ./dataset/crema-d\\AudioWAV\\1001_DFA_NEU_XX.wav   \n",
       "...    ...        ...                                                ...   \n",
       "37417  NaN  JL-CORPUS  ./dataset/jl-corpus/Raw JL corpus (unchecked a...   \n",
       "37418  NaN  JL-CORPUS  ./dataset/jl-corpus/Raw JL corpus (unchecked a...   \n",
       "37419  NaN  JL-CORPUS  ./dataset/jl-corpus/Raw JL corpus (unchecked a...   \n",
       "37420  NaN  JL-CORPUS  ./dataset/jl-corpus/Raw JL corpus (unchecked a...   \n",
       "37421  NaN  JL-CORPUS  ./dataset/jl-corpus/Raw JL corpus (unchecked a...   \n",
       "\n",
       "                  Filename   Ext         Speaker  \\\n",
       "0      1001_DFA_ANG_XX.wav  .wav      Crema_1001   \n",
       "1      1001_DFA_DIS_XX.wav  .wav      Crema_1001   \n",
       "2      1001_DFA_FEA_XX.wav  .wav      Crema_1001   \n",
       "3      1001_DFA_HAP_XX.wav  .wav      Crema_1001   \n",
       "4      1001_DFA_NEU_XX.wav  .wav      Crema_1001   \n",
       "...                    ...   ...             ...   \n",
       "37417   male2_sad_5a_1.wav  .wav  Jlcorpus_male2   \n",
       "37418   male2_sad_6a_1.wav  .wav  Jlcorpus_male2   \n",
       "37419   male2_sad_7a_1.wav  .wav  Jlcorpus_male2   \n",
       "37420   male2_sad_8a_1.wav  .wav  Jlcorpus_male2   \n",
       "37421   male2_sad_9a_1.wav  .wav  Jlcorpus_male2   \n",
       "\n",
       "                                Text Gender  Age       Race        Accent  \\\n",
       "0              Don't forget a jacket   Male   51  Caucasian  Not Hispanic   \n",
       "1              Don't forget a jacket   Male   51  Caucasian  Not Hispanic   \n",
       "2              Don't forget a jacket   Male   51  Caucasian  Not Hispanic   \n",
       "3              Don't forget a jacket   Male   51  Caucasian  Not Hispanic   \n",
       "4              Don't forget a jacket   Male   51  Caucasian  Not Hispanic   \n",
       "...                              ...    ...  ...        ...           ...   \n",
       "37417     The lord swims in the sea.   Male  NaN        NaN           NaN   \n",
       "37418       Jack views an art piece.   Male  NaN        NaN           NaN   \n",
       "37419        Carl leaps into a jeep.   Male  NaN        NaN           NaN   \n",
       "37420     Linda asks for more darts.   Male  NaN        NaN           NaN   \n",
       "37421  Find your boot in this shute.   Male  NaN        NaN           NaN   \n",
       "\n",
       "      Intensity/Level Sentiment  Emotion  \n",
       "0         Unspecified       NaN    Anger  \n",
       "1         Unspecified       NaN  Disgust  \n",
       "2         Unspecified       NaN     Fear  \n",
       "3         Unspecified       NaN    Happy  \n",
       "4         Unspecified       NaN  Neutral  \n",
       "...               ...       ...      ...  \n",
       "37417             NaN       NaN      Sad  \n",
       "37418             NaN       NaN      Sad  \n",
       "37419             NaN       NaN      Sad  \n",
       "37420             NaN       NaN      Sad  \n",
       "37421             NaN       NaN      Sad  \n",
       "\n",
       "[37422 rows x 14 columns]"
      ]
     },
     "execution_count": 563,
     "metadata": {},
     "output_type": "execute_result"
    }
   ],
   "source": [
    "#df = pd.concat([crema_df, meld_df, mlend_df, rav_df, savee_df, tess_df, esd_df, jl_df], ignore_index = True)\n",
    "df = pd.concat([crema_df, meld_df, rav_df, savee_df, tess_df, esd_df, jl_df], ignore_index = True)\n",
    "df"
   ]
  },
  {
   "cell_type": "code",
   "execution_count": 564,
   "id": "82e1073b",
   "metadata": {
    "ExecuteTime": {
     "end_time": "2023-11-01T02:37:51.679126Z",
     "start_time": "2023-11-01T02:37:51.662458Z"
    }
   },
   "outputs": [
    {
     "data": {
      "text/html": [
       "<div>\n",
       "<style scoped>\n",
       "    .dataframe tbody tr th:only-of-type {\n",
       "        vertical-align: middle;\n",
       "    }\n",
       "\n",
       "    .dataframe tbody tr th {\n",
       "        vertical-align: top;\n",
       "    }\n",
       "\n",
       "    .dataframe thead th {\n",
       "        text-align: right;\n",
       "    }\n",
       "</style>\n",
       "<table border=\"1\" class=\"dataframe\">\n",
       "  <thead>\n",
       "    <tr style=\"text-align: right;\">\n",
       "      <th></th>\n",
       "      <th>Id</th>\n",
       "      <th>Dataset</th>\n",
       "      <th>Filepath</th>\n",
       "      <th>Filename</th>\n",
       "      <th>Ext</th>\n",
       "      <th>Speaker</th>\n",
       "      <th>Text</th>\n",
       "      <th>Gender</th>\n",
       "      <th>Age</th>\n",
       "      <th>Race</th>\n",
       "      <th>Accent</th>\n",
       "      <th>Intensity/Level</th>\n",
       "      <th>Sentiment</th>\n",
       "      <th>Emotion</th>\n",
       "    </tr>\n",
       "  </thead>\n",
       "  <tbody>\n",
       "    <tr>\n",
       "      <th>37417</th>\n",
       "      <td>37417</td>\n",
       "      <td>JL-CORPUS</td>\n",
       "      <td>./dataset/jl-corpus/Raw JL corpus (unchecked a...</td>\n",
       "      <td>male2_sad_5a_1.wav</td>\n",
       "      <td>.wav</td>\n",
       "      <td>Jlcorpus_male2</td>\n",
       "      <td>The lord swims in the sea.</td>\n",
       "      <td>Male</td>\n",
       "      <td>NaN</td>\n",
       "      <td>NaN</td>\n",
       "      <td>NaN</td>\n",
       "      <td>NaN</td>\n",
       "      <td>NaN</td>\n",
       "      <td>Sad</td>\n",
       "    </tr>\n",
       "    <tr>\n",
       "      <th>37418</th>\n",
       "      <td>37418</td>\n",
       "      <td>JL-CORPUS</td>\n",
       "      <td>./dataset/jl-corpus/Raw JL corpus (unchecked a...</td>\n",
       "      <td>male2_sad_6a_1.wav</td>\n",
       "      <td>.wav</td>\n",
       "      <td>Jlcorpus_male2</td>\n",
       "      <td>Jack views an art piece.</td>\n",
       "      <td>Male</td>\n",
       "      <td>NaN</td>\n",
       "      <td>NaN</td>\n",
       "      <td>NaN</td>\n",
       "      <td>NaN</td>\n",
       "      <td>NaN</td>\n",
       "      <td>Sad</td>\n",
       "    </tr>\n",
       "    <tr>\n",
       "      <th>37419</th>\n",
       "      <td>37419</td>\n",
       "      <td>JL-CORPUS</td>\n",
       "      <td>./dataset/jl-corpus/Raw JL corpus (unchecked a...</td>\n",
       "      <td>male2_sad_7a_1.wav</td>\n",
       "      <td>.wav</td>\n",
       "      <td>Jlcorpus_male2</td>\n",
       "      <td>Carl leaps into a jeep.</td>\n",
       "      <td>Male</td>\n",
       "      <td>NaN</td>\n",
       "      <td>NaN</td>\n",
       "      <td>NaN</td>\n",
       "      <td>NaN</td>\n",
       "      <td>NaN</td>\n",
       "      <td>Sad</td>\n",
       "    </tr>\n",
       "    <tr>\n",
       "      <th>37420</th>\n",
       "      <td>37420</td>\n",
       "      <td>JL-CORPUS</td>\n",
       "      <td>./dataset/jl-corpus/Raw JL corpus (unchecked a...</td>\n",
       "      <td>male2_sad_8a_1.wav</td>\n",
       "      <td>.wav</td>\n",
       "      <td>Jlcorpus_male2</td>\n",
       "      <td>Linda asks for more darts.</td>\n",
       "      <td>Male</td>\n",
       "      <td>NaN</td>\n",
       "      <td>NaN</td>\n",
       "      <td>NaN</td>\n",
       "      <td>NaN</td>\n",
       "      <td>NaN</td>\n",
       "      <td>Sad</td>\n",
       "    </tr>\n",
       "    <tr>\n",
       "      <th>37421</th>\n",
       "      <td>37421</td>\n",
       "      <td>JL-CORPUS</td>\n",
       "      <td>./dataset/jl-corpus/Raw JL corpus (unchecked a...</td>\n",
       "      <td>male2_sad_9a_1.wav</td>\n",
       "      <td>.wav</td>\n",
       "      <td>Jlcorpus_male2</td>\n",
       "      <td>Find your boot in this shute.</td>\n",
       "      <td>Male</td>\n",
       "      <td>NaN</td>\n",
       "      <td>NaN</td>\n",
       "      <td>NaN</td>\n",
       "      <td>NaN</td>\n",
       "      <td>NaN</td>\n",
       "      <td>Sad</td>\n",
       "    </tr>\n",
       "  </tbody>\n",
       "</table>\n",
       "</div>"
      ],
      "text/plain": [
       "          Id    Dataset                                           Filepath  \\\n",
       "37417  37417  JL-CORPUS  ./dataset/jl-corpus/Raw JL corpus (unchecked a...   \n",
       "37418  37418  JL-CORPUS  ./dataset/jl-corpus/Raw JL corpus (unchecked a...   \n",
       "37419  37419  JL-CORPUS  ./dataset/jl-corpus/Raw JL corpus (unchecked a...   \n",
       "37420  37420  JL-CORPUS  ./dataset/jl-corpus/Raw JL corpus (unchecked a...   \n",
       "37421  37421  JL-CORPUS  ./dataset/jl-corpus/Raw JL corpus (unchecked a...   \n",
       "\n",
       "                 Filename   Ext         Speaker  \\\n",
       "37417  male2_sad_5a_1.wav  .wav  Jlcorpus_male2   \n",
       "37418  male2_sad_6a_1.wav  .wav  Jlcorpus_male2   \n",
       "37419  male2_sad_7a_1.wav  .wav  Jlcorpus_male2   \n",
       "37420  male2_sad_8a_1.wav  .wav  Jlcorpus_male2   \n",
       "37421  male2_sad_9a_1.wav  .wav  Jlcorpus_male2   \n",
       "\n",
       "                                Text Gender  Age Race Accent Intensity/Level  \\\n",
       "37417     The lord swims in the sea.   Male  NaN  NaN    NaN             NaN   \n",
       "37418       Jack views an art piece.   Male  NaN  NaN    NaN             NaN   \n",
       "37419        Carl leaps into a jeep.   Male  NaN  NaN    NaN             NaN   \n",
       "37420     Linda asks for more darts.   Male  NaN  NaN    NaN             NaN   \n",
       "37421  Find your boot in this shute.   Male  NaN  NaN    NaN             NaN   \n",
       "\n",
       "      Sentiment Emotion  \n",
       "37417       NaN     Sad  \n",
       "37418       NaN     Sad  \n",
       "37419       NaN     Sad  \n",
       "37420       NaN     Sad  \n",
       "37421       NaN     Sad  "
      ]
     },
     "execution_count": 564,
     "metadata": {},
     "output_type": "execute_result"
    }
   ],
   "source": [
    "df['Id'] = np.arange(len(df))\n",
    "df.tail()"
   ]
  },
  {
   "cell_type": "code",
   "execution_count": 565,
   "id": "b70db4a1",
   "metadata": {
    "ExecuteTime": {
     "end_time": "2023-11-01T02:37:55.669874Z",
     "start_time": "2023-11-01T02:37:55.504071Z"
    }
   },
   "outputs": [],
   "source": [
    "df.to_csv(\"speech_dataset.csv\", index=False)"
   ]
  },
  {
   "cell_type": "markdown",
   "id": "cfc19052",
   "metadata": {},
   "source": [
    "# Short EDA"
   ]
  },
  {
   "cell_type": "code",
   "execution_count": 569,
   "id": "bfbb60f8",
   "metadata": {},
   "outputs": [],
   "source": [
    "# add title in plotnine\n",
    "p9.options.figure_size = (20, 4)\n",
    "p9.options.dpi = 100\n",
    "p9.options.title = p9.element_text(size=20, face='bold')\n",
    "\n",
    "def plots(df):\n",
    "     p1 = (p9.ggplot(data=df) + \n",
    "          p9.geom_bar(p9.aes(x='Emotion'), fill='blue') + \n",
    "          p9.theme_minimal() +\n",
    "          p9.ggtitle(\"Emotion Distribution\"))\n",
    "\n",
    "     print(p1)\n",
    "     p2 = (p9.ggplot(data=df) + \n",
    "          p9.geom_bar(p9.aes(x='Gender'), fill='blue') + \n",
    "          p9.theme_minimal()+\n",
    "          p9.ggtitle(\"Gender Distribution\"))\n",
    "     print(p2)\n",
    "     p3= (p9.ggplot(data=df) + \n",
    "          p9.geom_bar(p9.aes(x='Speaker'), fill='blue') + \n",
    "          p9.theme_minimal()+\n",
    "          p9.ggtitle(\"Speaker Distribution\"))\n",
    "     print(p3)\n",
    "     p5= (p9.ggplot(data=df) + \n",
    "          p9.geom_bar(p9.aes(x='Ext'), fill='blue') + \n",
    "          p9.theme_minimal()+\n",
    "          p9.ggtitle(\"Extension Distribution\"))\n",
    "     print(p5)\n",
    "     p6= (p9.ggplot(data=df) + \n",
    "          p9.geom_bar(p9.aes(x='Dataset'), fill='blue') + \n",
    "          p9.theme_minimal()+\n",
    "          p9.ggtitle(\"Dataset Distribution\"))\n",
    "     print(p6)\n",
    "     p7= (p9.ggplot(data=df) + \n",
    "          p9.geom_bar(p9.aes(x='Age'), fill='blue') + \n",
    "          p9.theme_minimal()+\n",
    "          p9.ggtitle(\"Age Distribution\"))\n",
    "     print(p7)\n",
    "     p8= (p9.ggplot(data=df) + \n",
    "          p9.geom_bar(p9.aes(x='Race'), fill='blue') + \n",
    "          p9.theme_minimal()+\n",
    "          p9.ggtitle(\"Race Distribution\"))\n",
    "     print(p8)\n",
    "     p10= (p9.ggplot(data=df) + \n",
    "          p9.geom_bar(p9.aes(x='Accent'), fill='blue') + \n",
    "          p9.theme_minimal()+\n",
    "          p9.ggtitle(\"Accent Distribution\"))\n",
    "     print(p10)\n",
    "     p11= (p9.ggplot(data=df) + \n",
    "          p9.geom_bar(p9.aes(x='Intensity/Level'), fill='blue') + \n",
    "          p9.theme_minimal()+\n",
    "          p9.ggtitle(\"Intensity/Level Distribution\"))\n",
    "     print(p11)\n",
    "     p12= (p9.ggplot(data=df) + \n",
    "          p9.geom_bar(p9.aes(x='Sentiment'), fill='blue') + \n",
    "          p9.theme_minimal()+\n",
    "          p9.ggtitle(\"Sentiment Distribution\"))\n",
    "     print(p12)"
   ]
  },
  {
   "cell_type": "code",
   "execution_count": 570,
   "id": "0475b105",
   "metadata": {},
   "outputs": [
    {
     "data": {
      "image/png": "[encoded data removed]",
      "text/plain": [
       "<Figure size 2000x400 with 1 Axes>"
      ]
     },
     "metadata": {
      "needs_background": "light"
     },
     "output_type": "display_data"
    },
    {
     "name": "stdout",
     "output_type": "stream",
     "text": [
      "\n"
     ]
    },
    {
     "data": {
      "image/png": "[encoded data removed]",
      "text/plain": [
       "<Figure size 2000x400 with 1 Axes>"
      ]
     },
     "metadata": {
      "needs_background": "light"
     },
     "output_type": "display_data"
    },
    {
     "name": "stdout",
     "output_type": "stream",
     "text": [
      "\n"
     ]
    },
    {
     "data": {
      "image/png": "[encoded data removed]",
      "text/plain": [
       "<Figure size 2000x400 with 1 Axes>"
      ]
     },
     "metadata": {
      "needs_background": "light"
     },
     "output_type": "display_data"
    },
    {
     "name": "stdout",
     "output_type": "stream",
     "text": [
      "\n"
     ]
    },
    {
     "data": {
      "image/png": "[encoded data removed]",
      "text/plain": [
       "<Figure size 2000x400 with 1 Axes>"
      ]
     },
     "metadata": {
      "needs_background": "light"
     },
     "output_type": "display_data"
    },
    {
     "name": "stdout",
     "output_type": "stream",
     "text": [
      "\n"
     ]
    },
    {
     "data": {
      "image/png": "[encoded data removed]",
      "text/plain": [
       "<Figure size 2000x400 with 1 Axes>"
      ]
     },
     "metadata": {
      "needs_background": "light"
     },
     "output_type": "display_data"
    },
    {
     "name": "stdout",
     "output_type": "stream",
     "text": [
      "\n"
     ]
    },
    {
     "data": {
      "image/png": "[encoded data removed]",
      "text/plain": [
       "<Figure size 2000x400 with 1 Axes>"
      ]
     },
     "metadata": {
      "needs_background": "light"
     },
     "output_type": "display_data"
    },
    {
     "name": "stdout",
     "output_type": "stream",
     "text": [
      "\n"
     ]
    },
    {
     "data": {
      "image/png": "[encoded data removed]",
      "text/plain": [
       "<Figure size 2000x400 with 1 Axes>"
      ]
     },
     "metadata": {
      "needs_background": "light"
     },
     "output_type": "display_data"
    },
    {
     "name": "stdout",
     "output_type": "stream",
     "text": [
      "\n"
     ]
    },
    {
     "data": {
      "image/png": "[encoded data removed]",
      "text/plain": [
       "<Figure size 2000x400 with 1 Axes>"
      ]
     },
     "metadata": {
      "needs_background": "light"
     },
     "output_type": "display_data"
    },
    {
     "name": "stdout",
     "output_type": "stream",
     "text": [
      "\n"
     ]
    },
    {
     "data": {
      "image/png": "[encoded data removed]",
      "text/plain": [
       "<Figure size 2000x400 with 1 Axes>"
      ]
     },
     "metadata": {
      "needs_background": "light"
     },
     "output_type": "display_data"
    },
    {
     "name": "stdout",
     "output_type": "stream",
     "text": [
      "\n"
     ]
    },
    {
     "data": {
      "image/png": "[encoded data removed]",
      "text/plain": [
       "<Figure size 2000x400 with 1 Axes>"
      ]
     },
     "metadata": {
      "needs_background": "light"
     },
     "output_type": "display_data"
    },
    {
     "name": "stdout",
     "output_type": "stream",
     "text": [
      "\n"
     ]
    }
   ],
   "source": [
    "plots(df)"
   ]
  },
  {
   "cell_type": "markdown",
   "id": "aae24276",
   "metadata": {},
   "source": [
    "# Removal of useless data"
   ]
  },
  {
   "cell_type": "code",
   "execution_count": 486,
   "id": "7fff236f",
   "metadata": {},
   "outputs": [
    {
     "data": {
      "text/html": [
       "<div>\n",
       "<style scoped>\n",
       "    .dataframe tbody tr th:only-of-type {\n",
       "        vertical-align: middle;\n",
       "    }\n",
       "\n",
       "    .dataframe tbody tr th {\n",
       "        vertical-align: top;\n",
       "    }\n",
       "\n",
       "    .dataframe thead th {\n",
       "        text-align: right;\n",
       "    }\n",
       "</style>\n",
       "<table border=\"1\" class=\"dataframe\">\n",
       "  <thead>\n",
       "    <tr style=\"text-align: right;\">\n",
       "      <th></th>\n",
       "      <th>Id</th>\n",
       "      <th>Dataset</th>\n",
       "      <th>Filepath</th>\n",
       "      <th>Filename</th>\n",
       "      <th>Ext</th>\n",
       "      <th>Speaker</th>\n",
       "      <th>Text</th>\n",
       "      <th>Gender</th>\n",
       "      <th>Age</th>\n",
       "      <th>Emotion</th>\n",
       "    </tr>\n",
       "  </thead>\n",
       "  <tbody>\n",
       "    <tr>\n",
       "      <th>0</th>\n",
       "      <td>0</td>\n",
       "      <td>CREMA-D</td>\n",
       "      <td>./dataset/crema-d\\AudioWAV\\1001_DFA_ANG_XX.wav</td>\n",
       "      <td>1001_DFA_ANG_XX.wav</td>\n",
       "      <td>.wav</td>\n",
       "      <td>Crema_1001</td>\n",
       "      <td>Don't forget a jacket</td>\n",
       "      <td>Male</td>\n",
       "      <td>51</td>\n",
       "      <td>Anger</td>\n",
       "    </tr>\n",
       "    <tr>\n",
       "      <th>1</th>\n",
       "      <td>1</td>\n",
       "      <td>CREMA-D</td>\n",
       "      <td>./dataset/crema-d\\AudioWAV\\1001_DFA_DIS_XX.wav</td>\n",
       "      <td>1001_DFA_DIS_XX.wav</td>\n",
       "      <td>.wav</td>\n",
       "      <td>Crema_1001</td>\n",
       "      <td>Don't forget a jacket</td>\n",
       "      <td>Male</td>\n",
       "      <td>51</td>\n",
       "      <td>Disgust</td>\n",
       "    </tr>\n",
       "    <tr>\n",
       "      <th>2</th>\n",
       "      <td>2</td>\n",
       "      <td>CREMA-D</td>\n",
       "      <td>./dataset/crema-d\\AudioWAV\\1001_DFA_FEA_XX.wav</td>\n",
       "      <td>1001_DFA_FEA_XX.wav</td>\n",
       "      <td>.wav</td>\n",
       "      <td>Crema_1001</td>\n",
       "      <td>Don't forget a jacket</td>\n",
       "      <td>Male</td>\n",
       "      <td>51</td>\n",
       "      <td>Fear</td>\n",
       "    </tr>\n",
       "    <tr>\n",
       "      <th>3</th>\n",
       "      <td>3</td>\n",
       "      <td>CREMA-D</td>\n",
       "      <td>./dataset/crema-d\\AudioWAV\\1001_DFA_HAP_XX.wav</td>\n",
       "      <td>1001_DFA_HAP_XX.wav</td>\n",
       "      <td>.wav</td>\n",
       "      <td>Crema_1001</td>\n",
       "      <td>Don't forget a jacket</td>\n",
       "      <td>Male</td>\n",
       "      <td>51</td>\n",
       "      <td>Happy</td>\n",
       "    </tr>\n",
       "    <tr>\n",
       "      <th>4</th>\n",
       "      <td>4</td>\n",
       "      <td>CREMA-D</td>\n",
       "      <td>./dataset/crema-d\\AudioWAV\\1001_DFA_NEU_XX.wav</td>\n",
       "      <td>1001_DFA_NEU_XX.wav</td>\n",
       "      <td>.wav</td>\n",
       "      <td>Crema_1001</td>\n",
       "      <td>Don't forget a jacket</td>\n",
       "      <td>Male</td>\n",
       "      <td>51</td>\n",
       "      <td>Neutral</td>\n",
       "    </tr>\n",
       "    <tr>\n",
       "      <th>...</th>\n",
       "      <td>...</td>\n",
       "      <td>...</td>\n",
       "      <td>...</td>\n",
       "      <td>...</td>\n",
       "      <td>...</td>\n",
       "      <td>...</td>\n",
       "      <td>...</td>\n",
       "      <td>...</td>\n",
       "      <td>...</td>\n",
       "      <td>...</td>\n",
       "    </tr>\n",
       "    <tr>\n",
       "      <th>37417</th>\n",
       "      <td>37417</td>\n",
       "      <td>JL-CORPUS</td>\n",
       "      <td>./dataset/jl-corpus/Raw JL corpus (unchecked a...</td>\n",
       "      <td>male2_sad_5a_1.wav</td>\n",
       "      <td>.wav</td>\n",
       "      <td>Jlcorpus_male2</td>\n",
       "      <td>The lord swims in the sea.</td>\n",
       "      <td>Male</td>\n",
       "      <td>NaN</td>\n",
       "      <td>Sad</td>\n",
       "    </tr>\n",
       "    <tr>\n",
       "      <th>37418</th>\n",
       "      <td>37418</td>\n",
       "      <td>JL-CORPUS</td>\n",
       "      <td>./dataset/jl-corpus/Raw JL corpus (unchecked a...</td>\n",
       "      <td>male2_sad_6a_1.wav</td>\n",
       "      <td>.wav</td>\n",
       "      <td>Jlcorpus_male2</td>\n",
       "      <td>Jack views an art piece.</td>\n",
       "      <td>Male</td>\n",
       "      <td>NaN</td>\n",
       "      <td>Sad</td>\n",
       "    </tr>\n",
       "    <tr>\n",
       "      <th>37419</th>\n",
       "      <td>37419</td>\n",
       "      <td>JL-CORPUS</td>\n",
       "      <td>./dataset/jl-corpus/Raw JL corpus (unchecked a...</td>\n",
       "      <td>male2_sad_7a_1.wav</td>\n",
       "      <td>.wav</td>\n",
       "      <td>Jlcorpus_male2</td>\n",
       "      <td>Carl leaps into a jeep.</td>\n",
       "      <td>Male</td>\n",
       "      <td>NaN</td>\n",
       "      <td>Sad</td>\n",
       "    </tr>\n",
       "    <tr>\n",
       "      <th>37420</th>\n",
       "      <td>37420</td>\n",
       "      <td>JL-CORPUS</td>\n",
       "      <td>./dataset/jl-corpus/Raw JL corpus (unchecked a...</td>\n",
       "      <td>male2_sad_8a_1.wav</td>\n",
       "      <td>.wav</td>\n",
       "      <td>Jlcorpus_male2</td>\n",
       "      <td>Linda asks for more darts.</td>\n",
       "      <td>Male</td>\n",
       "      <td>NaN</td>\n",
       "      <td>Sad</td>\n",
       "    </tr>\n",
       "    <tr>\n",
       "      <th>37421</th>\n",
       "      <td>37421</td>\n",
       "      <td>JL-CORPUS</td>\n",
       "      <td>./dataset/jl-corpus/Raw JL corpus (unchecked a...</td>\n",
       "      <td>male2_sad_9a_1.wav</td>\n",
       "      <td>.wav</td>\n",
       "      <td>Jlcorpus_male2</td>\n",
       "      <td>Find your boot in this shute.</td>\n",
       "      <td>Male</td>\n",
       "      <td>NaN</td>\n",
       "      <td>Sad</td>\n",
       "    </tr>\n",
       "  </tbody>\n",
       "</table>\n",
       "<p>37422 rows × 10 columns</p>\n",
       "</div>"
      ],
      "text/plain": [
       "          Id    Dataset                                           Filepath  \\\n",
       "0          0    CREMA-D     ./dataset/crema-d\\AudioWAV\\1001_DFA_ANG_XX.wav   \n",
       "1          1    CREMA-D     ./dataset/crema-d\\AudioWAV\\1001_DFA_DIS_XX.wav   \n",
       "2          2    CREMA-D     ./dataset/crema-d\\AudioWAV\\1001_DFA_FEA_XX.wav   \n",
       "3          3    CREMA-D     ./dataset/crema-d\\AudioWAV\\1001_DFA_HAP_XX.wav   \n",
       "4          4    CREMA-D     ./dataset/crema-d\\AudioWAV\\1001_DFA_NEU_XX.wav   \n",
       "...      ...        ...                                                ...   \n",
       "37417  37417  JL-CORPUS  ./dataset/jl-corpus/Raw JL corpus (unchecked a...   \n",
       "37418  37418  JL-CORPUS  ./dataset/jl-corpus/Raw JL corpus (unchecked a...   \n",
       "37419  37419  JL-CORPUS  ./dataset/jl-corpus/Raw JL corpus (unchecked a...   \n",
       "37420  37420  JL-CORPUS  ./dataset/jl-corpus/Raw JL corpus (unchecked a...   \n",
       "37421  37421  JL-CORPUS  ./dataset/jl-corpus/Raw JL corpus (unchecked a...   \n",
       "\n",
       "                  Filename   Ext         Speaker  \\\n",
       "0      1001_DFA_ANG_XX.wav  .wav      Crema_1001   \n",
       "1      1001_DFA_DIS_XX.wav  .wav      Crema_1001   \n",
       "2      1001_DFA_FEA_XX.wav  .wav      Crema_1001   \n",
       "3      1001_DFA_HAP_XX.wav  .wav      Crema_1001   \n",
       "4      1001_DFA_NEU_XX.wav  .wav      Crema_1001   \n",
       "...                    ...   ...             ...   \n",
       "37417   male2_sad_5a_1.wav  .wav  Jlcorpus_male2   \n",
       "37418   male2_sad_6a_1.wav  .wav  Jlcorpus_male2   \n",
       "37419   male2_sad_7a_1.wav  .wav  Jlcorpus_male2   \n",
       "37420   male2_sad_8a_1.wav  .wav  Jlcorpus_male2   \n",
       "37421   male2_sad_9a_1.wav  .wav  Jlcorpus_male2   \n",
       "\n",
       "                                Text Gender  Age  Emotion  \n",
       "0              Don't forget a jacket   Male   51    Anger  \n",
       "1              Don't forget a jacket   Male   51  Disgust  \n",
       "2              Don't forget a jacket   Male   51     Fear  \n",
       "3              Don't forget a jacket   Male   51    Happy  \n",
       "4              Don't forget a jacket   Male   51  Neutral  \n",
       "...                              ...    ...  ...      ...  \n",
       "37417     The lord swims in the sea.   Male  NaN      Sad  \n",
       "37418       Jack views an art piece.   Male  NaN      Sad  \n",
       "37419        Carl leaps into a jeep.   Male  NaN      Sad  \n",
       "37420     Linda asks for more darts.   Male  NaN      Sad  \n",
       "37421  Find your boot in this shute.   Male  NaN      Sad  \n",
       "\n",
       "[37422 rows x 10 columns]"
      ]
     },
     "execution_count": 486,
     "metadata": {},
     "output_type": "execute_result"
    }
   ],
   "source": [
    "df = df[['Id', 'Dataset', 'Filepath', 'Filename', 'Ext', 'Speaker', 'Text', 'Gender', 'Age', 'Emotion']].reset_index(drop=True)\n",
    "df"
   ]
  },
  {
   "cell_type": "code",
   "execution_count": 487,
   "id": "7a0d6ddd",
   "metadata": {},
   "outputs": [],
   "source": [
    "df.to_csv(\"speech_dataset.csv\", index=False)"
   ]
  },
  {
   "cell_type": "code",
   "execution_count": 488,
   "id": "47a8a077",
   "metadata": {},
   "outputs": [],
   "source": [
    "df_no_meld = df[df['Dataset'] != 'MELD']\n",
    "df_no_meld.to_csv(\"speech_dataset_no_meld.csv\", index=False)"
   ]
  },
  {
   "cell_type": "code",
   "execution_count": 489,
   "id": "fa3e80b0",
   "metadata": {},
   "outputs": [],
   "source": [
    "df_meld = df[df['Dataset'] == 'MELD']\n",
    "df_meld.to_csv(\"speech_dataset_meld.csv\", index=False)"
   ]
  }
 ],
 "metadata": {
  "kernelspec": {
   "display_name": "Python 3",
   "language": "python",
   "name": "python3"
  },
  "language_info": {
   "codemirror_mode": {
    "name": "ipython",
    "version": 3
   },
   "file_extension": ".py",
   "mimetype": "text/x-python",
   "name": "python",
   "nbconvert_exporter": "python",
   "pygments_lexer": "ipython3",
   "version": "3.10.2"
  }
 },
 "nbformat": 4,
 "nbformat_minor": 5
}
