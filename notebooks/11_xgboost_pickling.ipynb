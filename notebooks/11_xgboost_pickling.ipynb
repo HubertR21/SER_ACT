{
 "cells": [
  {
   "cell_type": "code",
   "execution_count": null,
   "metadata": {},
   "outputs": [],
   "source": [
    "from sklearn.model_selection import train_test_split\n",
    "from sklearn.preprocessing import LabelEncoder\n",
    "from sklearn.model_selection import RandomizedSearchCV\n",
    "import xgboost as xgb\n",
    "from sklearn.preprocessing import StandardScaler\n",
    "import pickle\n",
    "MODELS_PATH = r'..\\models'\n",
    "PROCESSED_DATASET_PATH = r\"..\\dataset_processed\""
   ]
  },
  {
   "cell_type": "code",
   "execution_count": null,
   "metadata": {},
   "outputs": [],
   "source": [
    "with open(rf\"{PROCESSED_DATASET_PATH}\\functional_features.pkl\", \"rb\") as input_file:\n",
    "    X = pickle.load(input_file)\n",
    "le = LabelEncoder()\n",
    "Y = le.fit_transform(X['Emotion'])\n",
    "X = X.drop(['Emotion','filepath'], axis=1)"
   ]
  },
  {
   "cell_type": "code",
   "execution_count": null,
   "metadata": {},
   "outputs": [],
   "source": [
    "scaler = StandardScaler().fit(X)\n",
    "X = scaler.transform(X)\n",
    "with open(rf\"{MODELS_PATH}\\xgb_scaler.pkl\", \"wb\") as output_file:\n",
    "    pickle.dump([le, scaler], output_file)"
   ]
  },
  {
   "cell_type": "code",
   "execution_count": null,
   "metadata": {},
   "outputs": [],
   "source": [
    "X_train, X_test, y_train, y_test = train_test_split(X, Y, test_size=0.3, random_state=42) \n",
    "xgb_model = xgb.XGBClassifier(random_state=42)\n",
    "param_grid = {\n",
    "    'n_estimators': [100, 200, 300],\n",
    "    'max_depth': [2, 4, 6,8],\n",
    "    'learning_rate': [0.01, 0.05, 0.1, 0.5]\n",
    "}\n",
    "grid = RandomizedSearchCV(xgb_model, param_grid, refit=True, verbose=1,cv=3,n_iter=15,random_state=42)\n",
    "grid.fit(X_train, y_train)\n",
    "print(grid.best_params_)"
   ]
  },
  {
   "cell_type": "code",
   "execution_count": null,
   "metadata": {},
   "outputs": [],
   "source": [
    "with open(rf\"{MODELS_PATH}\\svm_model.pkl\", \"wb\") as output_file:\n",
    "    pickle.dump(grid, output_file)"
   ]
  }
 ],
 "metadata": {
  "kernelspec": {
   "display_name": "Python 3",
   "language": "python",
   "name": "python3"
  },
  "language_info": {
   "codemirror_mode": {
    "name": "ipython",
    "version": 3
   },
   "file_extension": ".py",
   "mimetype": "text/x-python",
   "name": "python",
   "nbconvert_exporter": "python",
   "pygments_lexer": "ipython3",
   "version": "3.10.11"
  }
 },
 "nbformat": 4,
 "nbformat_minor": 2
}
