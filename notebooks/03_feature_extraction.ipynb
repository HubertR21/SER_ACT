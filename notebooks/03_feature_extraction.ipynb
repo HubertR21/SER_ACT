{
 "cells": [
  {
   "cell_type": "markdown",
   "metadata": {},
   "source": [
    "# Feature extraction"
   ]
  },
  {
   "cell_type": "code",
   "execution_count": 1,
   "metadata": {},
   "outputs": [],
   "source": [
    "import numpy as np\n",
    "import pandas as pd \n",
    "import opensmile\n",
    "import audiofile\n",
    "import librosa\n",
    "import matplotlib.pyplot as plt\n",
    "import pickle"
   ]
  },
  {
   "cell_type": "code",
   "execution_count": 2,
   "metadata": {},
   "outputs": [],
   "source": [
    "RAW_DATASET_PATH = \"../dataset\"\n",
    "PROCESSED_DATASET_PATH = \"../dataset_processed\""
   ]
  },
  {
   "cell_type": "markdown",
   "metadata": {},
   "source": [
    "# Aggregated features"
   ]
  },
  {
   "cell_type": "markdown",
   "metadata": {},
   "source": [
    "Open smile functional features set that come from [The Geneva Minimalistic Acoustic Parameter\n",
    "Set (GeMAPS) for Voice Research and\n",
    "Affective Computing](https://sail.usc.edu/publications/files/eyben-preprinttaffc-2015.pdf) :  \n",
    "**F0semitoneFrom27.5Hz_sma3nz_amean:** The average fundamental frequency (pitch) in semitones relative to 27.5 Hz (A0).    \n",
    "**F0semitoneFrom27.5Hz_sma3nz_stddevNorm:** Standard deviation of the normalized fundamental frequency.   \n",
    "**F0semitoneFrom27.5Hz_sma3nz_percentile20.0:** 20th percentile of the fundamental frequency distribution.   \n",
    "**F0semitoneFrom27.5Hz_sma3nz_percentile50.0:** Median (50th percentile) of the fundamental frequency distribution.   \n",
    "**F0semitoneFrom27.5Hz_sma3nz_percentile80.0:** 80th percentile of the fundamental frequency distribution.   \n",
    "**F0semitoneFrom27.5Hz_sma3nz_pctlrange0-2:** Range between the 0th and 2nd percentiles of fundamental frequency.   \n",
    "**F0semitoneFrom27.5Hz_sma3nz_meanRisingSlope:** Mean rising slope of the fundamental frequency.   \n",
    "**F0semitoneFrom27.5Hz_sma3nz_stddevRisingSlope:** Standard deviation of the rising slope of fundamental frequency.   \n",
    "**F0semitoneFrom27.5Hz_sma3nz_meanFallingSlope:** Mean falling slope of the fundamental frequency.   \n",
    "**F0semitoneFrom27.5Hz_sma3nz_stddevFallingSlope:** Standard deviation of the falling slope of fundamental frequency.   \n",
    "**loudness_sma3_amean:** Average loudness level.   \n",
    "**loudness_sma3_stddevNorm:** Standard deviation of normalized loudness.   \n",
    "**loudness_sma3_percentile20.0:** 20th percentile of loudness distribution.   \n",
    "**loudness_sma3_percentile50.0:** Median (50th percentile) of loudness distribution.   \n",
    "**loudness_sma3_percentile80.0:** 80th percentile of loudness distribution.   \n",
    "**loudness_sma3_pctlrange0-2:** Range between the 0th and 2nd percentiles of loudness.   \n",
    "**spectralFlux_sma3_amean:** Average spectral flux (rate of change of spectral energy).   \n",
    "**mfcc1_sma3_amean:** Average value of the first Mel-frequency cepstral coefficient (MFCC).   \n",
    "**mfcc2_sma3_amean:** Average value of the second MFCC.   \n",
    "**mfcc3_sma3_amean:** Average value of the third MFCC.   \n",
    "**mfcc4_sma3_amean:** Average value of the fourth MFCC.   \n",
    "**jitterLocal_sma3nz_amean:** Average local jitter (variation in pitch period).   \n",
    "**shimmerLocaldB_sma3nz_amean:** Average local shimmer (variation in amplitude).   \n",
    "**HNRdBACF_sma3nz_amean:** Average harmonics-to-noise ratio (HNR) based on autocorrelation function.   \n",
    "**logRelF0-H1-H2_sma3nz_amean:** Average logarithmic relative difference between harmonics H1 and H2.   \n",
    "**logRelF0-H1-A3_sma3nz_amean:** Average logarithmic relative difference between harmonics H1 and A3.   \n",
    "**F1frequency_sma3nz_amean:** Average first formant frequency.   \n",
    "**F1bandwidth_sma3nz_amean:** Average bandwidth of the first formant.   \n",
    "**F1amplitudeLogRelF0_sma3nz_amean:** Average logarithmic relative difference between the first formant and fundamental frequency.  \n",
    "**F2frequency_sma3nz_amean:** The average frequency of the second formant (F2) in the speech signal.  \n",
    "**F2frequency_sma3nz_stddevNorm:** Standard deviation of the normalized F2 frequency.  \n",
    "**F2bandwidth_sma3nz_amean:** The average bandwidth of the second formant (F2).  \n",
    "**F2bandwidth_sma3nz_stddevNorm:** Standard deviation of the normalized F2 bandwidth.  \n",
    "**F2amplitudeLogRelF0_sma3nz_amean:** Average logarithmic relative difference between the second formant (F2) and fundamental frequency (F0).  \n",
    "**F2amplitudeLogRelF0_sma3nz_stddevNorm:** Standard deviation of the normalized F2 amplitude relative to F0.  \n",
    "**F3frequency_sma3nz_amean:** The average frequency of the third formant (F3) in the speech signal.  \n",
    "**F3frequency_sma3nz_stddevNorm:** Standard deviation of the normalized F3 frequency.  \n",
    "**F3bandwidth_sma3nz_amean:** The average bandwidth of the third formant (F3).  \n",
    "**F3bandwidth_sma3nz_stddevNorm:** Standard deviation of the normalized F3 bandwidth.  \n",
    "**F3amplitudeLogRelF0_sma3nz_amean:** Average logarithmic relative difference between the third formant (F3) and fundamental frequency (F0).  \n",
    "**F3amplitudeLogRelF0_sma3nz_stddevNorm:** Standard deviation of the normalized F3 amplitude relative to F0.  \n",
    "**alphaRatioV_sma3nz_amean:** A ratio related to the spectral shape of the audio signal (V stands for voiced segments).  \n",
    "**alphaRatioV_sma3nz_stddevNorm:** Standard deviation of the normalized alpha ratio for voiced segments.  \n",
    "**hammarbergIndexV_sma3nz_amean:** A measure related to the noisiness of the audio (V stands for voiced segments).  \n",
    "**hammarbergIndexV_sma3nz_stddevNorm:** Standard deviation of the normalized Hammarberg index for voiced segments.  \n",
    "**slopeV0-500_sma3nz_amean:** Slope of the audio signal in the frequency range from 0 Hz to 500 Hz (V stands for voiced segments).  \n",
    "**slopeV0-500_sma3nz_stddevNorm:** Standard deviation of the normalized slope for voiced segments in the low-frequency range.  \n",
    "**slopeV500-1500_sma3nz_amean:** Slope of the audio signal in the frequency range from 500 Hz to 1500 Hz (V stands for voiced segments).  \n",
    "**slopeV500-1500_sma3nz_stddevNorm:** Standard deviation of the normalized slope for voiced segments in the mid-frequency range.  \n",
    "**spectralFluxV_sma3nz_amean:** Average spectral flux (rate of change of spectral energy) for voiced segments.  \n",
    "**mfcc1V_sma3nz_amean, mfcc2V_sma3nz_amean, mfcc3V_sma3nz_amean, mfcc4V_sma3nz_amean:** Average values of the first four Mel-frequency cepstral coefficients (MFCCs) for voiced segments.  \n",
    "**alphaRatioUV_sma3nz_amean:** A ratio related to the spectral shape of the audio signal (UV stands for unvoiced segments).  \n",
    "**hammarbergIndexUV_sma3nz_amean:** A measure related to the noisiness of the audio (UV stands for unvoiced segments).  \n",
    "**slopeUV0-500_sma3nz_amean:** Slope of the audio signal in the frequency range from 0 Hz to 500 Hz (UV stands for unvoiced segments).  \n",
    "**slopeUV500-1500_sma3nz_amean:** Slope of the audio signal in the frequency range from 500 Hz to 1500 Hz (UV stands for unvoiced segments).  \n",
    "**spectralFluxUV_sma3nz_amean:** Average spectral flux (rate of change of spectral energy) for unvoiced segments.  \n",
    "**loudnessPeaksPerSec:** Number of loudness peaks per second.  \n",
    "**VoicedSegmentsPerSec:** Number of voiced segments per second.  \n",
    "**MeanVoicedSegmentLengthSec:** Mean duration of voiced segments in seconds.  \n",
    "**StddevVoicedSegmentLengthSec:** Standard deviation of the duration of voiced segments in seconds.  \n",
    "**MeanUnvoicedSegmentLength:** This feature represents the average duration (length) of unvoiced segments in the speech signal.   \n",
    "**StddevUnvoicedSegmentLength:** The standard deviation of the duration of unvoiced segments.   \n",
    "**equivalentSoundLevel_dBp:** The equivalent sound level in decibels (dB) relative to a reference pressure level.  "
   ]
  },
  {
   "cell_type": "code",
   "execution_count": 3,
   "metadata": {},
   "outputs": [],
   "source": [
    "df_data = pd.read_csv(f\"{RAW_DATASET_PATH}\\speech_dataset_no_meld.csv\")\n",
    "audio_files = [f\"{RAW_DATASET_PATH}/{p}\" for p in df_data['Filepath'].to_list()]"
   ]
  },
  {
   "cell_type": "code",
   "execution_count": 4,
   "metadata": {},
   "outputs": [],
   "source": [
    "functional_smile = opensmile.Smile(\n",
    "    feature_set=opensmile.FeatureSet.eGeMAPSv02,\n",
    "    feature_level=opensmile.FeatureLevel.Functionals,\n",
    ")"
   ]
  },
  {
   "cell_type": "code",
   "execution_count": 5,
   "metadata": {},
   "outputs": [],
   "source": [
    "functional_features = functional_smile.process_files(audio_files)\n",
    "functional_features.reset_index(inplace=True)\n",
    "functional_features.drop(columns=['start', 'end'], inplace=True)\n",
    "functional_features.rename(columns={'file': 'filepath'}, inplace=True)\n",
    "functional_features['Emotion'] = df_data['Emotion']"
   ]
  },
  {
   "cell_type": "code",
   "execution_count": 6,
   "metadata": {},
   "outputs": [
    {
     "data": {
      "text/html": [
       "<div>\n",
       "<style scoped>\n",
       "    .dataframe tbody tr th:only-of-type {\n",
       "        vertical-align: middle;\n",
       "    }\n",
       "\n",
       "    .dataframe tbody tr th {\n",
       "        vertical-align: top;\n",
       "    }\n",
       "\n",
       "    .dataframe thead th {\n",
       "        text-align: right;\n",
       "    }\n",
       "</style>\n",
       "<table border=\"1\" class=\"dataframe\">\n",
       "  <thead>\n",
       "    <tr style=\"text-align: right;\">\n",
       "      <th></th>\n",
       "      <th>filepath</th>\n",
       "      <th>F0semitoneFrom27.5Hz_sma3nz_amean</th>\n",
       "      <th>F0semitoneFrom27.5Hz_sma3nz_stddevNorm</th>\n",
       "      <th>F0semitoneFrom27.5Hz_sma3nz_percentile20.0</th>\n",
       "      <th>F0semitoneFrom27.5Hz_sma3nz_percentile50.0</th>\n",
       "      <th>F0semitoneFrom27.5Hz_sma3nz_percentile80.0</th>\n",
       "      <th>F0semitoneFrom27.5Hz_sma3nz_pctlrange0-2</th>\n",
       "      <th>F0semitoneFrom27.5Hz_sma3nz_meanRisingSlope</th>\n",
       "      <th>F0semitoneFrom27.5Hz_sma3nz_stddevRisingSlope</th>\n",
       "      <th>F0semitoneFrom27.5Hz_sma3nz_meanFallingSlope</th>\n",
       "      <th>...</th>\n",
       "      <th>slopeUV500-1500_sma3nz_amean</th>\n",
       "      <th>spectralFluxUV_sma3nz_amean</th>\n",
       "      <th>loudnessPeaksPerSec</th>\n",
       "      <th>VoicedSegmentsPerSec</th>\n",
       "      <th>MeanVoicedSegmentLengthSec</th>\n",
       "      <th>StddevVoicedSegmentLengthSec</th>\n",
       "      <th>MeanUnvoicedSegmentLength</th>\n",
       "      <th>StddevUnvoicedSegmentLength</th>\n",
       "      <th>equivalentSoundLevel_dBp</th>\n",
       "      <th>Emotion</th>\n",
       "    </tr>\n",
       "  </thead>\n",
       "  <tbody>\n",
       "    <tr>\n",
       "      <th>0</th>\n",
       "      <td>../dataset/crema-d\\AudioWAV\\1001_DFA_ANG_XX.wav</td>\n",
       "      <td>30.205763</td>\n",
       "      <td>0.111424</td>\n",
       "      <td>26.859524</td>\n",
       "      <td>29.962118</td>\n",
       "      <td>30.452559</td>\n",
       "      <td>3.593035</td>\n",
       "      <td>37.707050</td>\n",
       "      <td>0.000000</td>\n",
       "      <td>-90.197304</td>\n",
       "      <td>...</td>\n",
       "      <td>-0.003541</td>\n",
       "      <td>0.171762</td>\n",
       "      <td>1.769912</td>\n",
       "      <td>2.262443</td>\n",
       "      <td>0.070000</td>\n",
       "      <td>0.037947</td>\n",
       "      <td>0.291667</td>\n",
       "      <td>0.297457</td>\n",
       "      <td>-23.766516</td>\n",
       "      <td>Anger</td>\n",
       "    </tr>\n",
       "    <tr>\n",
       "      <th>1</th>\n",
       "      <td>../dataset/crema-d\\AudioWAV\\1001_DFA_DIS_XX.wav</td>\n",
       "      <td>26.873123</td>\n",
       "      <td>0.001824</td>\n",
       "      <td>26.831245</td>\n",
       "      <td>26.881100</td>\n",
       "      <td>26.918194</td>\n",
       "      <td>0.086948</td>\n",
       "      <td>0.000000</td>\n",
       "      <td>0.000000</td>\n",
       "      <td>-0.030169</td>\n",
       "      <td>...</td>\n",
       "      <td>-0.001954</td>\n",
       "      <td>0.125241</td>\n",
       "      <td>2.155173</td>\n",
       "      <td>0.440529</td>\n",
       "      <td>0.030000</td>\n",
       "      <td>0.000000</td>\n",
       "      <td>1.105000</td>\n",
       "      <td>0.365000</td>\n",
       "      <td>-32.991600</td>\n",
       "      <td>Disgust</td>\n",
       "    </tr>\n",
       "    <tr>\n",
       "      <th>2</th>\n",
       "      <td>../dataset/crema-d\\AudioWAV\\1001_DFA_FEA_XX.wav</td>\n",
       "      <td>35.078461</td>\n",
       "      <td>0.032588</td>\n",
       "      <td>34.017204</td>\n",
       "      <td>35.486549</td>\n",
       "      <td>36.192776</td>\n",
       "      <td>2.175571</td>\n",
       "      <td>8.894318</td>\n",
       "      <td>4.014902</td>\n",
       "      <td>14.088568</td>\n",
       "      <td>...</td>\n",
       "      <td>-0.000504</td>\n",
       "      <td>0.085873</td>\n",
       "      <td>1.860465</td>\n",
       "      <td>0.952381</td>\n",
       "      <td>0.250000</td>\n",
       "      <td>0.100000</td>\n",
       "      <td>0.516667</td>\n",
       "      <td>0.343738</td>\n",
       "      <td>-22.264631</td>\n",
       "      <td>Fear</td>\n",
       "    </tr>\n",
       "    <tr>\n",
       "      <th>3</th>\n",
       "      <td>../dataset/crema-d\\AudioWAV\\1001_DFA_HAP_XX.wav</td>\n",
       "      <td>31.898449</td>\n",
       "      <td>0.053836</td>\n",
       "      <td>30.495773</td>\n",
       "      <td>31.866287</td>\n",
       "      <td>34.084057</td>\n",
       "      <td>3.588284</td>\n",
       "      <td>29.575644</td>\n",
       "      <td>13.792812</td>\n",
       "      <td>190.025024</td>\n",
       "      <td>...</td>\n",
       "      <td>-0.003494</td>\n",
       "      <td>0.202602</td>\n",
       "      <td>2.162162</td>\n",
       "      <td>3.333333</td>\n",
       "      <td>0.050000</td>\n",
       "      <td>0.019149</td>\n",
       "      <td>0.195714</td>\n",
       "      <td>0.262834</td>\n",
       "      <td>-23.781778</td>\n",
       "      <td>Happy</td>\n",
       "    </tr>\n",
       "    <tr>\n",
       "      <th>4</th>\n",
       "      <td>../dataset/crema-d\\AudioWAV\\1001_DFA_NEU_XX.wav</td>\n",
       "      <td>34.026699</td>\n",
       "      <td>0.271494</td>\n",
       "      <td>26.421556</td>\n",
       "      <td>28.848995</td>\n",
       "      <td>45.166256</td>\n",
       "      <td>18.744699</td>\n",
       "      <td>158.633102</td>\n",
       "      <td>0.000000</td>\n",
       "      <td>-403.536621</td>\n",
       "      <td>...</td>\n",
       "      <td>0.000084</td>\n",
       "      <td>0.106344</td>\n",
       "      <td>2.475248</td>\n",
       "      <td>1.522843</td>\n",
       "      <td>0.063333</td>\n",
       "      <td>0.032998</td>\n",
       "      <td>0.427500</td>\n",
       "      <td>0.393343</td>\n",
       "      <td>-30.276972</td>\n",
       "      <td>Neutral</td>\n",
       "    </tr>\n",
       "  </tbody>\n",
       "</table>\n",
       "<p>5 rows × 90 columns</p>\n",
       "</div>"
      ],
      "text/plain": [
       "                                          filepath  \\\n",
       "0  ../dataset/crema-d\\AudioWAV\\1001_DFA_ANG_XX.wav   \n",
       "1  ../dataset/crema-d\\AudioWAV\\1001_DFA_DIS_XX.wav   \n",
       "2  ../dataset/crema-d\\AudioWAV\\1001_DFA_FEA_XX.wav   \n",
       "3  ../dataset/crema-d\\AudioWAV\\1001_DFA_HAP_XX.wav   \n",
       "4  ../dataset/crema-d\\AudioWAV\\1001_DFA_NEU_XX.wav   \n",
       "\n",
       "   F0semitoneFrom27.5Hz_sma3nz_amean  F0semitoneFrom27.5Hz_sma3nz_stddevNorm  \\\n",
       "0                          30.205763                                0.111424   \n",
       "1                          26.873123                                0.001824   \n",
       "2                          35.078461                                0.032588   \n",
       "3                          31.898449                                0.053836   \n",
       "4                          34.026699                                0.271494   \n",
       "\n",
       "   F0semitoneFrom27.5Hz_sma3nz_percentile20.0  \\\n",
       "0                                   26.859524   \n",
       "1                                   26.831245   \n",
       "2                                   34.017204   \n",
       "3                                   30.495773   \n",
       "4                                   26.421556   \n",
       "\n",
       "   F0semitoneFrom27.5Hz_sma3nz_percentile50.0  \\\n",
       "0                                   29.962118   \n",
       "1                                   26.881100   \n",
       "2                                   35.486549   \n",
       "3                                   31.866287   \n",
       "4                                   28.848995   \n",
       "\n",
       "   F0semitoneFrom27.5Hz_sma3nz_percentile80.0  \\\n",
       "0                                   30.452559   \n",
       "1                                   26.918194   \n",
       "2                                   36.192776   \n",
       "3                                   34.084057   \n",
       "4                                   45.166256   \n",
       "\n",
       "   F0semitoneFrom27.5Hz_sma3nz_pctlrange0-2  \\\n",
       "0                                  3.593035   \n",
       "1                                  0.086948   \n",
       "2                                  2.175571   \n",
       "3                                  3.588284   \n",
       "4                                 18.744699   \n",
       "\n",
       "   F0semitoneFrom27.5Hz_sma3nz_meanRisingSlope  \\\n",
       "0                                    37.707050   \n",
       "1                                     0.000000   \n",
       "2                                     8.894318   \n",
       "3                                    29.575644   \n",
       "4                                   158.633102   \n",
       "\n",
       "   F0semitoneFrom27.5Hz_sma3nz_stddevRisingSlope  \\\n",
       "0                                       0.000000   \n",
       "1                                       0.000000   \n",
       "2                                       4.014902   \n",
       "3                                      13.792812   \n",
       "4                                       0.000000   \n",
       "\n",
       "   F0semitoneFrom27.5Hz_sma3nz_meanFallingSlope  ...  \\\n",
       "0                                    -90.197304  ...   \n",
       "1                                     -0.030169  ...   \n",
       "2                                     14.088568  ...   \n",
       "3                                    190.025024  ...   \n",
       "4                                   -403.536621  ...   \n",
       "\n",
       "   slopeUV500-1500_sma3nz_amean  spectralFluxUV_sma3nz_amean  \\\n",
       "0                     -0.003541                     0.171762   \n",
       "1                     -0.001954                     0.125241   \n",
       "2                     -0.000504                     0.085873   \n",
       "3                     -0.003494                     0.202602   \n",
       "4                      0.000084                     0.106344   \n",
       "\n",
       "   loudnessPeaksPerSec  VoicedSegmentsPerSec  MeanVoicedSegmentLengthSec  \\\n",
       "0             1.769912              2.262443                    0.070000   \n",
       "1             2.155173              0.440529                    0.030000   \n",
       "2             1.860465              0.952381                    0.250000   \n",
       "3             2.162162              3.333333                    0.050000   \n",
       "4             2.475248              1.522843                    0.063333   \n",
       "\n",
       "   StddevVoicedSegmentLengthSec  MeanUnvoicedSegmentLength  \\\n",
       "0                      0.037947                   0.291667   \n",
       "1                      0.000000                   1.105000   \n",
       "2                      0.100000                   0.516667   \n",
       "3                      0.019149                   0.195714   \n",
       "4                      0.032998                   0.427500   \n",
       "\n",
       "   StddevUnvoicedSegmentLength  equivalentSoundLevel_dBp  Emotion  \n",
       "0                     0.297457                -23.766516    Anger  \n",
       "1                     0.365000                -32.991600  Disgust  \n",
       "2                     0.343738                -22.264631     Fear  \n",
       "3                     0.262834                -23.781778    Happy  \n",
       "4                     0.393343                -30.276972  Neutral  \n",
       "\n",
       "[5 rows x 90 columns]"
      ]
     },
     "execution_count": 6,
     "metadata": {},
     "output_type": "execute_result"
    }
   ],
   "source": [
    "functional_features"
   ]
  },
  {
   "cell_type": "code",
   "execution_count": 7,
   "metadata": {},
   "outputs": [],
   "source": [
    "with open(f'{PROCESSED_DATASET_PATH}/functional_features.pkl', 'wb') as f:\n",
    "    pickle.dump(functional_features, f)"
   ]
  },
  {
   "cell_type": "markdown",
   "metadata": {},
   "source": [
    "If nedded we could think about aplying some feature selection technique"
   ]
  },
  {
   "cell_type": "code",
   "execution_count": 8,
   "metadata": {},
   "outputs": [
    {
     "name": "stdout",
     "output_type": "stream",
     "text": [
      "Index(['F0semitoneFrom27.5Hz_sma3nz_amean',\n",
      "       'F0semitoneFrom27.5Hz_sma3nz_percentile20.0',\n",
      "       'F0semitoneFrom27.5Hz_sma3nz_percentile50.0',\n",
      "       'F0semitoneFrom27.5Hz_sma3nz_percentile80.0',\n",
      "       'F0semitoneFrom27.5Hz_sma3nz_pctlrange0-2',\n",
      "       'F0semitoneFrom27.5Hz_sma3nz_meanRisingSlope',\n",
      "       'F0semitoneFrom27.5Hz_sma3nz_stddevRisingSlope',\n",
      "       'F0semitoneFrom27.5Hz_sma3nz_meanFallingSlope',\n",
      "       'F0semitoneFrom27.5Hz_sma3nz_stddevFallingSlope',\n",
      "       'loudness_sma3_meanRisingSlope', 'loudness_sma3_stddevRisingSlope',\n",
      "       'loudness_sma3_meanFallingSlope', 'mfcc4_sma3_amean',\n",
      "       'logRelF0-H1-H2_sma3nz_amean', 'logRelF0-H1-H2_sma3nz_stddevNorm',\n",
      "       'F1frequency_sma3nz_amean', 'F1bandwidth_sma3nz_amean',\n",
      "       'F1amplitudeLogRelF0_sma3nz_amean', 'F2frequency_sma3nz_amean',\n",
      "       'F2bandwidth_sma3nz_amean', 'F2amplitudeLogRelF0_sma3nz_amean',\n",
      "       'F3frequency_sma3nz_amean', 'F3bandwidth_sma3nz_amean',\n",
      "       'F3amplitudeLogRelF0_sma3nz_amean', 'mfcc1V_sma3nz_amean',\n",
      "       'mfcc3V_sma3nz_amean', 'mfcc3V_sma3nz_stddevNorm',\n",
      "       'mfcc4V_sma3nz_amean', 'alphaRatioUV_sma3nz_amean',\n",
      "       'hammarbergIndexUV_sma3nz_amean'],\n",
      "      dtype='object')\n"
     ]
    }
   ],
   "source": [
    "from sklearn.feature_selection import RFE\n",
    "from sklearn.svm import SVC\n",
    "\n",
    "num_features = 30\n",
    "\n",
    "estimator = SVC(kernel=\"linear\", C=1)\n",
    "rfe = RFE(estimator, n_features_to_select=num_features)\n",
    "\n",
    "X = functional_features.drop(columns=['Emotion','filepath'])\n",
    "y = functional_features['Emotion']  \n",
    "rfe.fit(X, y)\n",
    "\n",
    "selected_features = X.columns[rfe.support_]\n",
    "\n",
    "print(selected_features)\n"
   ]
  },
  {
   "cell_type": "markdown",
   "metadata": {},
   "source": [
    "# MFCC"
   ]
  },
  {
   "cell_type": "code",
   "execution_count": 9,
   "metadata": {},
   "outputs": [],
   "source": [
    "mfcc_features = []\n",
    "for i in range(len(audio_files)):\n",
    "    y, sr = librosa.load(audio_files[i])\n",
    "    mfcc = librosa.feature.mfcc(y=y, sr=sr)\n",
    "    mfcc_features.append(mfcc)"
   ]
  },
  {
   "cell_type": "code",
   "execution_count": 10,
   "metadata": {},
   "outputs": [],
   "source": [
    "with open(f'{PROCESSED_DATASET_PATH}/mfcc_features.pkl', 'wb') as file:\n",
    "    pickle.dump(mfcc_features, file)"
   ]
  },
  {
   "cell_type": "code",
   "execution_count": 11,
   "metadata": {},
   "outputs": [
    {
     "data": {
      "text/plain": [
       "array([ 20,  81,  88,  94,  99, 101])"
      ]
     },
     "execution_count": 11,
     "metadata": {},
     "output_type": "execute_result"
    }
   ],
   "source": [
    "np.unique([mfcc.shape for mfcc in mfcc_features])"
   ]
  },
  {
   "cell_type": "code",
   "execution_count": 12,
   "metadata": {},
   "outputs": [],
   "source": [
    "# pad the mfcc features to have the same length, during training we can use masking to ignore the padded values\n",
    "max_len = max([mfcc.shape[1] for mfcc in mfcc_features])\n",
    "mfccs_padded = [np.pad(mfcc, ((0, 0), (0, max_len - mfcc.shape[1])), mode='constant') for mfcc in mfcc_features]"
   ]
  },
  {
   "cell_type": "code",
   "execution_count": 13,
   "metadata": {},
   "outputs": [],
   "source": [
    "with open(f'{PROCESSED_DATASET_PATH}/mfccs_padded.pkl', 'wb') as file:\n",
    "    pickle.dump(np.array(mfccs_padded), file)"
   ]
  },
  {
   "cell_type": "code",
   "execution_count": 14,
   "metadata": {},
   "outputs": [
    {
     "data": {
      "image/png": "[encoded data removed]",
      "text/plain": [
       "<Figure size 640x480 with 2 Axes>"
      ]
     },
     "metadata": {},
     "output_type": "display_data"
    }
   ],
   "source": [
    "img = librosa.display.specshow(mfcc_features[0], x_axis='time')\n",
    "plt.colorbar(img)\n",
    "plt.title('MFCC')  \n",
    "plt.show()"
   ]
  },
  {
   "cell_type": "markdown",
   "metadata": {},
   "source": [
    "# MEL Spectogram"
   ]
  },
  {
   "cell_type": "code",
   "execution_count": 15,
   "metadata": {},
   "outputs": [],
   "source": [
    "spectogram_features = []\n",
    "for i in range(len(audio_files)):\n",
    "    y, sr = librosa.load(audio_files[i])\n",
    "    spectogram = librosa.feature.melspectrogram(y=y, sr=sr)\n",
    "    spectogram_features.append(spectogram)"
   ]
  },
  {
   "cell_type": "code",
   "execution_count": 16,
   "metadata": {},
   "outputs": [],
   "source": [
    "with open(f'{PROCESSED_DATASET_PATH}/spectrogram_features.pkl', 'wb') as file:\n",
    "    pickle.dump(spectogram_features, file)"
   ]
  },
  {
   "cell_type": "code",
   "execution_count": 17,
   "metadata": {},
   "outputs": [
    {
     "data": {
      "text/plain": [
       "array([ 81,  88,  94,  99, 101, 128])"
      ]
     },
     "execution_count": 17,
     "metadata": {},
     "output_type": "execute_result"
    }
   ],
   "source": [
    "np.unique([spectogram.shape for spectogram in spectogram_features])"
   ]
  },
  {
   "cell_type": "code",
   "execution_count": 18,
   "metadata": {},
   "outputs": [],
   "source": [
    "# pad the mel spectograms to have the same length, during training we can use masking to ignore the padded values\n",
    "max_len = max([spectogram.shape[1] for spectogram in spectogram_features])\n",
    "spectogram_padded = [np.pad(spectogram, ((0, 0), (0, max_len - spectogram.shape[1])), mode='constant') for spectogram in spectogram_features]"
   ]
  },
  {
   "cell_type": "code",
   "execution_count": 19,
   "metadata": {},
   "outputs": [],
   "source": [
    "with open(f'{PROCESSED_DATASET_PATH}/spectrogram_padded.pkl', 'wb') as file:\n",
    "    pickle.dump(np.array(spectogram_padded), file)"
   ]
  },
  {
   "cell_type": "code",
   "execution_count": 20,
   "metadata": {},
   "outputs": [
    {
     "data": {
      "image/png": "[encoded data removed]",
      "text/plain": [
       "<Figure size 640x480 with 2 Axes>"
      ]
     },
     "metadata": {},
     "output_type": "display_data"
    }
   ],
   "source": [
    "img = librosa.display.specshow(librosa.power_to_db(spectogram_features[0], ref=np.max),\n",
    "                               x_axis='time', y_axis='mel', fmax=8000)\n",
    "plt.colorbar(img)\n",
    "plt.title('Mel spectrogram')\n",
    "plt.show()"
   ]
  },
  {
   "cell_type": "markdown",
   "metadata": {},
   "source": [
    "# Aggragated features v2\n",
    "that come from [Emotion Recognition from Chinese Speech for Smart Affective Services Using a Combination of SVM and DBN](https://www.mdpi.com/1424-8220/17/7/1694)"
   ]
  },
  {
   "cell_type": "code",
   "execution_count": 21,
   "metadata": {},
   "outputs": [],
   "source": [
    "def extract_features(audio,sr):\n",
    "    pitch = librosa.yin(audio, fmin=75, fmax=300, sr=sr)\n",
    "    energy = librosa.feature.rms(y=audio)\n",
    "    zero_crossing = librosa.feature.zero_crossing_rate(audio)\n",
    "    mfcc = librosa.feature.mfcc(y=audio, sr=sr, n_mfcc=13)\n",
    "    formants = librosa.effects.harmonic(audio)\n",
    "    results = {\n",
    "        'pitch': pitch,\n",
    "        'energy': energy,\n",
    "        'zero_crossing': zero_crossing,\n",
    "        'mfcc': mfcc,\n",
    "        'formants': formants\n",
    "    }\n",
    "    return results\n",
    "\n"
   ]
  },
  {
   "cell_type": "code",
   "execution_count": 22,
   "metadata": {},
   "outputs": [],
   "source": [
    "features = ['pitch', 'energy', 'zero_crossing', 'mfcc', 'formants']\n",
    "statistics = ['mean', 'std', 'min', 'max','var']\n",
    "custom_features = {f'{feature}_{statistic}'  : [] for feature in features for statistic in statistics}\n",
    "for i in range(len(audio_files)):\n",
    "    y, sr = librosa.load(audio_files[i])\n",
    "    features = extract_features(y, sr)\n",
    "    for feature in features:\n",
    "        for statistic in statistics:\n",
    "            custom_features[f'{feature}_{statistic}'].append(np.__getattribute__(statistic)(features[feature]))"
   ]
  },
  {
   "cell_type": "code",
   "execution_count": 23,
   "metadata": {},
   "outputs": [],
   "source": [
    "custom_df = pd.DataFrame(custom_features)"
   ]
  },
  {
   "cell_type": "code",
   "execution_count": 24,
   "metadata": {},
   "outputs": [
    {
     "data": {
      "text/html": [
       "<div>\n",
       "<style scoped>\n",
       "    .dataframe tbody tr th:only-of-type {\n",
       "        vertical-align: middle;\n",
       "    }\n",
       "\n",
       "    .dataframe tbody tr th {\n",
       "        vertical-align: top;\n",
       "    }\n",
       "\n",
       "    .dataframe thead th {\n",
       "        text-align: right;\n",
       "    }\n",
       "</style>\n",
       "<table border=\"1\" class=\"dataframe\">\n",
       "  <thead>\n",
       "    <tr style=\"text-align: right;\">\n",
       "      <th></th>\n",
       "      <th>pitch_mean</th>\n",
       "      <th>pitch_std</th>\n",
       "      <th>pitch_min</th>\n",
       "      <th>pitch_max</th>\n",
       "      <th>pitch_var</th>\n",
       "      <th>energy_mean</th>\n",
       "      <th>energy_std</th>\n",
       "      <th>energy_min</th>\n",
       "      <th>energy_max</th>\n",
       "      <th>energy_var</th>\n",
       "      <th>...</th>\n",
       "      <th>mfcc_mean</th>\n",
       "      <th>mfcc_std</th>\n",
       "      <th>mfcc_min</th>\n",
       "      <th>mfcc_max</th>\n",
       "      <th>mfcc_var</th>\n",
       "      <th>formants_mean</th>\n",
       "      <th>formants_std</th>\n",
       "      <th>formants_min</th>\n",
       "      <th>formants_max</th>\n",
       "      <th>formants_var</th>\n",
       "    </tr>\n",
       "  </thead>\n",
       "  <tbody>\n",
       "    <tr>\n",
       "      <th>0</th>\n",
       "      <td>151.402690</td>\n",
       "      <td>54.587961</td>\n",
       "      <td>75.0</td>\n",
       "      <td>302.054795</td>\n",
       "      <td>2979.845464</td>\n",
       "      <td>0.040486</td>\n",
       "      <td>0.049893</td>\n",
       "      <td>0.000927</td>\n",
       "      <td>0.191608</td>\n",
       "      <td>0.002489</td>\n",
       "      <td>...</td>\n",
       "      <td>-17.817297</td>\n",
       "      <td>109.433167</td>\n",
       "      <td>-620.808838</td>\n",
       "      <td>175.306290</td>\n",
       "      <td>11975.618164</td>\n",
       "      <td>6.838159e-07</td>\n",
       "      <td>0.025318</td>\n",
       "      <td>-0.193182</td>\n",
       "      <td>0.207534</td>\n",
       "      <td>0.000641</td>\n",
       "    </tr>\n",
       "    <tr>\n",
       "      <th>1</th>\n",
       "      <td>149.807145</td>\n",
       "      <td>60.476073</td>\n",
       "      <td>75.0</td>\n",
       "      <td>275.096385</td>\n",
       "      <td>3657.355425</td>\n",
       "      <td>0.015566</td>\n",
       "      <td>0.015932</td>\n",
       "      <td>0.002801</td>\n",
       "      <td>0.069885</td>\n",
       "      <td>0.000254</td>\n",
       "      <td>...</td>\n",
       "      <td>-18.545635</td>\n",
       "      <td>118.919868</td>\n",
       "      <td>-518.200256</td>\n",
       "      <td>188.482147</td>\n",
       "      <td>14141.934570</td>\n",
       "      <td>8.997978e-07</td>\n",
       "      <td>0.008732</td>\n",
       "      <td>-0.099000</td>\n",
       "      <td>0.086576</td>\n",
       "      <td>0.000076</td>\n",
       "    </tr>\n",
       "    <tr>\n",
       "      <th>2</th>\n",
       "      <td>166.494702</td>\n",
       "      <td>56.691632</td>\n",
       "      <td>75.0</td>\n",
       "      <td>291.555511</td>\n",
       "      <td>3213.941192</td>\n",
       "      <td>0.044071</td>\n",
       "      <td>0.062436</td>\n",
       "      <td>0.003146</td>\n",
       "      <td>0.224669</td>\n",
       "      <td>0.003898</td>\n",
       "      <td>...</td>\n",
       "      <td>-18.392935</td>\n",
       "      <td>111.352821</td>\n",
       "      <td>-486.365601</td>\n",
       "      <td>164.243210</td>\n",
       "      <td>12399.450195</td>\n",
       "      <td>-4.621998e-07</td>\n",
       "      <td>0.038816</td>\n",
       "      <td>-0.329873</td>\n",
       "      <td>0.306182</td>\n",
       "      <td>0.001507</td>\n",
       "    </tr>\n",
       "    <tr>\n",
       "      <th>3</th>\n",
       "      <td>171.548728</td>\n",
       "      <td>48.618162</td>\n",
       "      <td>75.0</td>\n",
       "      <td>249.907899</td>\n",
       "      <td>2363.725671</td>\n",
       "      <td>0.040840</td>\n",
       "      <td>0.049474</td>\n",
       "      <td>0.003370</td>\n",
       "      <td>0.189180</td>\n",
       "      <td>0.002448</td>\n",
       "      <td>...</td>\n",
       "      <td>-18.045366</td>\n",
       "      <td>107.705544</td>\n",
       "      <td>-477.773376</td>\n",
       "      <td>170.651611</td>\n",
       "      <td>11600.484375</td>\n",
       "      <td>2.242286e-06</td>\n",
       "      <td>0.025088</td>\n",
       "      <td>-0.219349</td>\n",
       "      <td>0.213146</td>\n",
       "      <td>0.000629</td>\n",
       "    </tr>\n",
       "    <tr>\n",
       "      <th>4</th>\n",
       "      <td>145.623400</td>\n",
       "      <td>58.545231</td>\n",
       "      <td>75.0</td>\n",
       "      <td>290.567732</td>\n",
       "      <td>3427.544121</td>\n",
       "      <td>0.019763</td>\n",
       "      <td>0.023160</td>\n",
       "      <td>0.003755</td>\n",
       "      <td>0.101337</td>\n",
       "      <td>0.000536</td>\n",
       "      <td>...</td>\n",
       "      <td>-18.101955</td>\n",
       "      <td>111.479004</td>\n",
       "      <td>-497.291992</td>\n",
       "      <td>177.403595</td>\n",
       "      <td>12427.568359</td>\n",
       "      <td>-7.259619e-07</td>\n",
       "      <td>0.013524</td>\n",
       "      <td>-0.139005</td>\n",
       "      <td>0.127176</td>\n",
       "      <td>0.000183</td>\n",
       "    </tr>\n",
       "  </tbody>\n",
       "</table>\n",
       "<p>5 rows × 25 columns</p>\n",
       "</div>"
      ],
      "text/plain": [
       "   pitch_mean  pitch_std  pitch_min   pitch_max    pitch_var  energy_mean  \\\n",
       "0  151.402690  54.587961       75.0  302.054795  2979.845464     0.040486   \n",
       "1  149.807145  60.476073       75.0  275.096385  3657.355425     0.015566   \n",
       "2  166.494702  56.691632       75.0  291.555511  3213.941192     0.044071   \n",
       "3  171.548728  48.618162       75.0  249.907899  2363.725671     0.040840   \n",
       "4  145.623400  58.545231       75.0  290.567732  3427.544121     0.019763   \n",
       "\n",
       "   energy_std  energy_min  energy_max  energy_var  ...  mfcc_mean    mfcc_std  \\\n",
       "0    0.049893    0.000927    0.191608    0.002489  ... -17.817297  109.433167   \n",
       "1    0.015932    0.002801    0.069885    0.000254  ... -18.545635  118.919868   \n",
       "2    0.062436    0.003146    0.224669    0.003898  ... -18.392935  111.352821   \n",
       "3    0.049474    0.003370    0.189180    0.002448  ... -18.045366  107.705544   \n",
       "4    0.023160    0.003755    0.101337    0.000536  ... -18.101955  111.479004   \n",
       "\n",
       "     mfcc_min    mfcc_max      mfcc_var  formants_mean  formants_std  \\\n",
       "0 -620.808838  175.306290  11975.618164   6.838159e-07      0.025318   \n",
       "1 -518.200256  188.482147  14141.934570   8.997978e-07      0.008732   \n",
       "2 -486.365601  164.243210  12399.450195  -4.621998e-07      0.038816   \n",
       "3 -477.773376  170.651611  11600.484375   2.242286e-06      0.025088   \n",
       "4 -497.291992  177.403595  12427.568359  -7.259619e-07      0.013524   \n",
       "\n",
       "   formants_min  formants_max  formants_var  \n",
       "0     -0.193182      0.207534      0.000641  \n",
       "1     -0.099000      0.086576      0.000076  \n",
       "2     -0.329873      0.306182      0.001507  \n",
       "3     -0.219349      0.213146      0.000629  \n",
       "4     -0.139005      0.127176      0.000183  \n",
       "\n",
       "[5 rows x 25 columns]"
      ]
     },
     "execution_count": 24,
     "metadata": {},
     "output_type": "execute_result"
    }
   ],
   "source": [
    "custom_df"
   ]
  },
  {
   "cell_type": "code",
   "execution_count": 25,
   "metadata": {},
   "outputs": [],
   "source": [
    "with open(f'{PROCESSED_DATASET_PATH}/aggregated_features.pkl', 'wb') as file:\n",
    "    pickle.dump(custom_df, file)"
   ]
  }
 ],
 "metadata": {
  "kernelspec": {
   "display_name": "base",
   "language": "python",
   "name": "python3"
  },
  "language_info": {
   "codemirror_mode": {
    "name": "ipython",
    "version": 3
   },
   "file_extension": ".py",
   "mimetype": "text/x-python",
   "name": "python",
   "nbconvert_exporter": "python",
   "pygments_lexer": "ipython3",
   "version": "3.10.11"
  }
 },
 "nbformat": 4,
 "nbformat_minor": 2
}
