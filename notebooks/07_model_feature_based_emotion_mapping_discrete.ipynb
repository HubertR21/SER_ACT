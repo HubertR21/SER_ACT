{
 "cells": [
  {
   "cell_type": "markdown",
   "metadata": {},
   "source": [
    "Models presented in notebook 5, with added mapping of emotions into a two dimensional plane, while still using discrete (classification) models, separate for each axis."
   ]
  },
  {
   "cell_type": "markdown",
   "metadata": {},
   "source": [
    "# Training models"
   ]
  },
  {
   "cell_type": "code",
   "execution_count": 1,
   "metadata": {},
   "outputs": [],
   "source": [
    "from sklearn.model_selection import train_test_split\n",
    "from sklearn.metrics import accuracy_score\n",
    "from sklearn.preprocessing import LabelEncoder\n",
    "from sklearn.model_selection import RandomizedSearchCV\n",
    "import xgboost as xgb\n",
    "from sklearn.model_selection import GridSearchCV\n",
    "from sklearn.preprocessing import StandardScaler\n",
    "from sklearn.neural_network import BernoulliRBM\n",
    "from sklearn.pipeline import Pipeline\n",
    "from sklearn.neural_network import MLPClassifier\n",
    "from sklearn.ensemble import RandomForestClassifier\n",
    "import numpy as np\n",
    "from sklearn.svm import SVC\n",
    "import pickle\n",
    "from sklearn.mixture import GaussianMixture\n",
    "import seaborn as sns\n",
    "from reusable.emotion_mapping import SklearnTwoModelWrapper\n",
    "MODELS_PATH = r'..\\models\\emotion_mapping_discrete'\n",
    "PROCESSED_DATASET_PATH = r\"..\\dataset_processed\""
   ]
  },
  {
   "cell_type": "markdown",
   "metadata": {},
   "source": [
    "## Load dataset"
   ]
  },
  {
   "cell_type": "code",
   "execution_count": 2,
   "metadata": {},
   "outputs": [],
   "source": [
    "with open(rf\"{PROCESSED_DATASET_PATH}\\functional_features.pkl\", \"rb\") as input_file:\n",
    "    X = pickle.load(input_file)"
   ]
  },
  {
   "cell_type": "code",
   "execution_count": 3,
   "metadata": {},
   "outputs": [
    {
     "data": {
      "text/plain": [
       "array(['Anger', 'Disgust', 'Fear', 'Happy', 'Neutral', 'Sad', 'Surprise'],\n",
       "      dtype=object)"
      ]
     },
     "execution_count": 3,
     "metadata": {},
     "output_type": "execute_result"
    }
   ],
   "source": [
    "Y = X['Emotion']\n",
    "Y.unique()"
   ]
  },
  {
   "cell_type": "code",
   "execution_count": 4,
   "metadata": {},
   "outputs": [],
   "source": [
    "X = X.drop(['Emotion','filepath'], axis=1)\n",
    "X = StandardScaler().fit_transform(X)"
   ]
  },
  {
   "cell_type": "code",
   "execution_count": 5,
   "metadata": {},
   "outputs": [],
   "source": [
    "X_train, X_test, y_train, y_test = train_test_split(X, Y, test_size=0.3, random_state=42) "
   ]
  },
  {
   "cell_type": "code",
   "execution_count": 6,
   "metadata": {},
   "outputs": [
    {
     "data": {
      "text/plain": [
       "array(['Anger', 'Fear', 'Fear', ..., 'Fear', 'Happy', 'Surprise'],\n",
       "      dtype='<U8')"
      ]
     },
     "execution_count": 6,
     "metadata": {},
     "output_type": "execute_result"
    }
   ],
   "source": [
    "np.array([x for x in y_train])"
   ]
  },
  {
   "cell_type": "markdown",
   "metadata": {},
   "source": [
    "## SVM"
   ]
  },
  {
   "cell_type": "code",
   "execution_count": 7,
   "metadata": {},
   "outputs": [
    {
     "name": "stdout",
     "output_type": "stream",
     "text": [
      "Fitting 3 folds for each of 10 candidates, totalling 30 fits\n",
      "Fitting 3 folds for each of 10 candidates, totalling 30 fits\n",
      "[{'kernel': 'rbf', 'gamma': 'auto', 'C': 100}, {'kernel': 'rbf', 'gamma': 'auto', 'C': 100}]\n"
     ]
    }
   ],
   "source": [
    "svm_model= SVC(random_state=42)\n",
    "param_grid = {'C': [0.1, 1, 10,100], 'gamma': [1, 0.1, 0.01, 0.001,'auto'], 'kernel': ['linear', 'rbf']}\n",
    "grid = RandomizedSearchCV(svm_model, param_grid, refit=True,verbose=1,cv=3,n_iter=10,random_state=42)\n",
    "grid = SklearnTwoModelWrapper(grid).discrete()\n",
    "\n",
    "grid.fit(X_train, y_train)\n",
    "\n",
    "print(grid.best_params_)"
   ]
  },
  {
   "cell_type": "code",
   "execution_count": 8,
   "metadata": {},
   "outputs": [],
   "source": [
    "with open(rf\"{MODELS_PATH}\\svm_model.pkl\", \"wb\") as output_file:\n",
    "    pickle.dump(grid, output_file)"
   ]
  },
  {
   "cell_type": "code",
   "execution_count": 9,
   "metadata": {},
   "outputs": [
    {
     "name": "stdout",
     "output_type": "stream",
     "text": [
      "Accuracy: 0.7554070473876063\n"
     ]
    }
   ],
   "source": [
    "y_pred = grid.predict(X_test)\n",
    "\n",
    "print(\"Accuracy:\", accuracy_score(y_test, y_pred))"
   ]
  },
  {
   "cell_type": "markdown",
   "metadata": {},
   "source": [
    "## Random Forest"
   ]
  },
  {
   "cell_type": "code",
   "execution_count": 10,
   "metadata": {},
   "outputs": [
    {
     "name": "stdout",
     "output_type": "stream",
     "text": [
      "Fitting 3 folds for each of 12 candidates, totalling 36 fits\n",
      "Fitting 3 folds for each of 12 candidates, totalling 36 fits\n",
      "[{'max_depth': 8, 'n_estimators': 200}, {'max_depth': 8, 'n_estimators': 300}]\n"
     ]
    }
   ],
   "source": [
    "rdf = RandomForestClassifier(random_state=42)\n",
    "param_grid = {\n",
    "    'n_estimators': [100, 200, 300],\n",
    "    'max_depth': [2, 4, 6,8],\n",
    "}\n",
    "grid = GridSearchCV(rdf, param_grid, refit=True, verbose=1,cv=3)\n",
    "grid = SklearnTwoModelWrapper(grid).discrete()\n",
    "grid.fit(X_train, y_train)\n",
    "print(grid.best_params_)"
   ]
  },
  {
   "cell_type": "code",
   "execution_count": 11,
   "metadata": {},
   "outputs": [],
   "source": [
    "with open(rf\"{MODELS_PATH}\\rdf_model.pkl\", \"wb\") as output_file:\n",
    "    pickle.dump(grid, output_file)"
   ]
  },
  {
   "cell_type": "code",
   "execution_count": 12,
   "metadata": {},
   "outputs": [
    {
     "name": "stdout",
     "output_type": "stream",
     "text": [
      "Accuracy: 0.6266099635479951\n"
     ]
    }
   ],
   "source": [
    "y_pred = grid.predict(X_test)\n",
    "\n",
    "print(\"Accuracy:\", accuracy_score(y_test, y_pred))"
   ]
  },
  {
   "cell_type": "markdown",
   "metadata": {},
   "source": [
    "## Ensemble method"
   ]
  },
  {
   "cell_type": "code",
   "execution_count": 13,
   "metadata": {},
   "outputs": [
    {
     "name": "stdout",
     "output_type": "stream",
     "text": [
      "Fitting 3 folds for each of 1 candidates, totalling 3 fits\n",
      "[CV 1/3; 1/1] START rbm1__batch_size=128, rbm1__learning_rate=0.1, rbm1__n_components=100, rbm1__n_iter=30\n",
      "[CV 1/3; 1/1] END rbm1__batch_size=128, rbm1__learning_rate=0.1, rbm1__n_components=100, rbm1__n_iter=30;, score=0.312 total time=  36.7s\n",
      "[CV 2/3; 1/1] START rbm1__batch_size=128, rbm1__learning_rate=0.1, rbm1__n_components=100, rbm1__n_iter=30\n",
      "[CV 2/3; 1/1] END rbm1__batch_size=128, rbm1__learning_rate=0.1, rbm1__n_components=100, rbm1__n_iter=30;, score=0.317 total time=  37.7s\n",
      "[CV 3/3; 1/1] START rbm1__batch_size=128, rbm1__learning_rate=0.1, rbm1__n_components=100, rbm1__n_iter=30\n",
      "[CV 3/3; 1/1] END rbm1__batch_size=128, rbm1__learning_rate=0.1, rbm1__n_components=100, rbm1__n_iter=30;, score=0.319 total time=  37.4s\n",
      "Fitting 3 folds for each of 1 candidates, totalling 3 fits\n",
      "[CV 1/3; 1/1] START svm__C=1, svm__gamma=1, svm__kernel=linear..................\n",
      "[CV 1/3; 1/1] END svm__C=1, svm__gamma=1, svm__kernel=linear;, score=0.474 total time=  33.7s\n",
      "[CV 2/3; 1/1] START svm__C=1, svm__gamma=1, svm__kernel=linear..................\n",
      "[CV 2/3; 1/1] END svm__C=1, svm__gamma=1, svm__kernel=linear;, score=0.479 total time=  40.1s\n",
      "[CV 3/3; 1/1] START svm__C=1, svm__gamma=1, svm__kernel=linear..................\n",
      "[CV 3/3; 1/1] END svm__C=1, svm__gamma=1, svm__kernel=linear;, score=0.480 total time=  35.9s\n",
      "[{'rbm1__n_iter': 30, 'rbm1__n_components': 100, 'rbm1__learning_rate': 0.1, 'rbm1__batch_size': 128}, {'svm__kernel': 'linear', 'svm__gamma': 1, 'svm__C': 1}]\n"
     ]
    }
   ],
   "source": [
    "rbm1_params = {\n",
    "    'rbm1__n_components': [50, 100, 150,200],\n",
    "    'rbm1__learning_rate': [0.01, 0.05, 0.1],\n",
    "    'rbm1__n_iter': [10, 20, 30,50],\n",
    "    'rbm1__batch_size': [32, 64, 128]\n",
    "}\n",
    "rbm2_params = {\n",
    "    'rbm2__n_components': [50, 100, 150,200],\n",
    "    'rbm2__learning_rate': [0.01, 0.05, 0.1],\n",
    "    'rbm2__n_iter': [10, 20, 30,50],\n",
    "    'rbm2__batch_size': [32, 64, 128]\n",
    "}\n",
    "svm_model = SVC(random_state=101)\n",
    "svm_params = {'svm__C': [0.1, 1, 10,100], 'svm__gamma': [1, 0.1, 0.01, 0.001], 'svm__kernel': ['linear','rbf']}\n",
    "\n",
    "rbm1= BernoulliRBM(random_state=42)\n",
    "rbm2= BernoulliRBM(random_state=42)\n",
    "\n",
    "grid= RandomizedSearchCV(Pipeline(steps=[('rbm1', rbm1),('rbm2',rbm2),('svm', svm_model)]), [rbm1_params,rbm2_params,svm_params], n_iter=1 ,cv=3,verbose=20,refit=True)\n",
    "grid = SklearnTwoModelWrapper(grid).discrete()\n",
    "\n",
    "grid.fit(X_train, y_train)\n",
    "print(grid.best_params_)"
   ]
  },
  {
   "cell_type": "code",
   "execution_count": 14,
   "metadata": {},
   "outputs": [],
   "source": [
    "with open(rf\"{MODELS_PATH}\\ensemble_model_svm.pkl\", \"wb\") as output_file:\n",
    "    pickle.dump(grid, output_file)"
   ]
  },
  {
   "cell_type": "code",
   "execution_count": 15,
   "metadata": {},
   "outputs": [
    {
     "name": "stdout",
     "output_type": "stream",
     "text": [
      "Accuracy: 0.1997569866342649\n"
     ]
    }
   ],
   "source": [
    "y_pred = grid.predict(X_test)\n",
    "\n",
    "print(\"Accuracy:\", accuracy_score(y_test, y_pred))"
   ]
  },
  {
   "cell_type": "markdown",
   "metadata": {},
   "source": [
    "## MLP classifier"
   ]
  },
  {
   "cell_type": "code",
   "execution_count": 16,
   "metadata": {},
   "outputs": [
    {
     "name": "stdout",
     "output_type": "stream",
     "text": [
      "Fitting 3 folds for each of 15 candidates, totalling 45 fits\n"
     ]
    },
    {
     "name": "stderr",
     "output_type": "stream",
     "text": [
      "d:\\PW\\SER_ACT\\venv\\lib\\site-packages\\sklearn\\neural_network\\_multilayer_perceptron.py:691: ConvergenceWarning: Stochastic Optimizer: Maximum iterations (300) reached and the optimization hasn't converged yet.\n",
      "  warnings.warn(\n"
     ]
    },
    {
     "name": "stdout",
     "output_type": "stream",
     "text": [
      "Fitting 3 folds for each of 15 candidates, totalling 45 fits\n",
      "[{'solver': 'sgd', 'max_iter': 500, 'learning_rate_init': 0.05, 'hidden_layer_sizes': (100, 50), 'alpha': 0.01, 'activation': 'relu'}, {'solver': 'sgd', 'max_iter': 500, 'learning_rate_init': 0.1, 'hidden_layer_sizes': (50, 50), 'alpha': 0.001, 'activation': 'logistic'}]\n"
     ]
    }
   ],
   "source": [
    "mlp_classifier = MLPClassifier(random_state=42)\n",
    "\n",
    "param_grid = {\n",
    "    'hidden_layer_sizes': [(100,), (50, 50), (100, 50),(50,50,50)],\n",
    "    'activation': ['logistic', 'tanh', 'relu'],\n",
    "    'solver': ['sgd', 'adam'],\n",
    "    'alpha': [0.0001, 0.001, 0.01],\n",
    "    'learning_rate_init': [0.01,0.05, 0.1],\n",
    "    'max_iter': [ 300,500]\n",
    "}\n",
    "\n",
    "grid= RandomizedSearchCV(mlp_classifier, param_distributions=param_grid, n_iter=15, cv=3, verbose=1, random_state=42,refit=True)\n",
    "grid = SklearnTwoModelWrapper(grid).discrete()\n",
    "\n",
    "\n",
    "grid.fit(X_train, y_train)\n",
    "print(grid.best_params_)"
   ]
  },
  {
   "cell_type": "code",
   "execution_count": 18,
   "metadata": {},
   "outputs": [],
   "source": [
    "with open(rf\"{MODELS_PATH}\\mlp_model.pkl\", \"wb\") as output_file:\n",
    "    pickle.dump(grid, output_file)"
   ]
  },
  {
   "cell_type": "code",
   "execution_count": 19,
   "metadata": {},
   "outputs": [
    {
     "name": "stdout",
     "output_type": "stream",
     "text": [
      "Accuracy: 0.7377885783718104\n"
     ]
    }
   ],
   "source": [
    "y_pred = grid.predict(X_test)\n",
    "\n",
    "print(\"Accuracy:\", accuracy_score(y_test, y_pred))"
   ]
  },
  {
   "cell_type": "markdown",
   "metadata": {},
   "source": [
    "# Summary"
   ]
  },
  {
   "cell_type": "code",
   "execution_count": 20,
   "metadata": {},
   "outputs": [],
   "source": [
    "from sklearn.metrics import accuracy_score, f1_score, recall_score, precision_score, roc_auc_score\n",
    "from sklearn.metrics import confusion_matrix\n",
    "import pandas as pd"
   ]
  },
  {
   "cell_type": "code",
   "execution_count": 21,
   "metadata": {},
   "outputs": [],
   "source": [
    "models = {}\n",
    "with open(rf\"{MODELS_PATH}\\svm_model.pkl\", \"rb\") as input_file:\n",
    "    models['SVM'] = pickle.load(input_file)\n",
    "with open(rf\"{MODELS_PATH}\\rdf_model.pkl\", \"rb\") as input_file:\n",
    "    models['RDF'] = pickle.load(input_file)\n",
    "with open(rf\"{MODELS_PATH}\\ensemble_model_svm.pkl\", \"rb\") as input_file:\n",
    "    models['ensemble'] = pickle.load(input_file)\n",
    "with open(rf\"{MODELS_PATH}\\mlp_model.pkl\", \"rb\") as input_file:\n",
    "    models['MLP'] = pickle.load(input_file)"
   ]
  },
  {
   "cell_type": "code",
   "execution_count": 22,
   "metadata": {},
   "outputs": [],
   "source": [
    "def evaluate(model, X_test, y_test):\n",
    "    y_pred = model.predict(X_test)\n",
    "    return_dict =  {\n",
    "        'Accuracy': accuracy_score(y_test, y_pred),\n",
    "        'F1 Score': f1_score(y_test, y_pred, average='weighted'),\n",
    "        'Recall': recall_score(y_test, y_pred, average='weighted'),\n",
    "        'Precision': precision_score(y_test, y_pred, average='weighted',zero_division=0),\n",
    "    }\n",
    "    # if isinstance(model, dict):\n",
    "    #     return_dict['ROC AUC'] = roc_auc_score(y_test, gmm_predict_proba(X_test, model), multi_class='ovr')\n",
    "    # else:\n",
    "    #     return_dict['ROC AUC'] = roc_auc_score(y_test, model.decision_function(X_test), multi_class='ovr')\n",
    "    return return_dict"
   ]
  },
  {
   "cell_type": "code",
   "execution_count": 23,
   "metadata": {},
   "outputs": [],
   "source": [
    "X_train, X_test, y_train, y_test = train_test_split(X, Y, test_size=0.3, random_state=42)"
   ]
  },
  {
   "cell_type": "code",
   "execution_count": 24,
   "metadata": {},
   "outputs": [
    {
     "name": "stdout",
     "output_type": "stream",
     "text": [
      "          Accuracy  F1 Score    Recall  Precision\n",
      "SVM       0.755407  0.755522  0.755407   0.758707\n",
      "RDF       0.626610  0.626676  0.626610   0.684386\n",
      "ensemble  0.199757  0.100393  0.199757   0.296688\n",
      "MLP       0.737789  0.743536  0.737789   0.758024\n"
     ]
    }
   ],
   "source": [
    "results_df = pd.DataFrame()\n",
    "for model_name, model in models.items():\n",
    "    result = evaluate(model, X_test,y_test)\n",
    "    df = pd.DataFrame(result, index=[model_name])\n",
    "    results_df = pd.concat([results_df, df])\n",
    "print(results_df)"
   ]
  }
 ],
 "metadata": {
  "kernelspec": {
   "display_name": "base",
   "language": "python",
   "name": "python3"
  },
  "language_info": {
   "codemirror_mode": {
    "name": "ipython",
    "version": 3
   },
   "file_extension": ".py",
   "mimetype": "text/x-python",
   "name": "python",
   "nbconvert_exporter": "python",
   "pygments_lexer": "ipython3",
   "version": "3.10.11"
  }
 },
 "nbformat": 4,
 "nbformat_minor": 2
}
